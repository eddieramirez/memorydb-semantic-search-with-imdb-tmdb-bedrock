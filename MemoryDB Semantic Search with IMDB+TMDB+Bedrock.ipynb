{
 "cells": [
  {
   "cell_type": "markdown",
   "id": "2edce1f3-65eb-431a-b287-d6125c25dec0",
   "metadata": {},
   "source": [
    "## Install Dependencies"
   ]
  },
  {
   "cell_type": "code",
   "execution_count": 1,
   "id": "688e8679-5b1e-4f8e-b326-e2b0b0097158",
   "metadata": {
    "tags": []
   },
   "outputs": [
    {
     "name": "stdout",
     "output_type": "stream",
     "text": [
      "Requirement already satisfied: pandas in /home/ec2-user/anaconda3/envs/python3/lib/python3.10/site-packages (2.2.1)\n",
      "Requirement already satisfied: numpy<2,>=1.22.4 in /home/ec2-user/anaconda3/envs/python3/lib/python3.10/site-packages (from pandas) (1.22.4)\n",
      "Requirement already satisfied: python-dateutil>=2.8.2 in /home/ec2-user/anaconda3/envs/python3/lib/python3.10/site-packages (from pandas) (2.9.0)\n",
      "Requirement already satisfied: pytz>=2020.1 in /home/ec2-user/anaconda3/envs/python3/lib/python3.10/site-packages (from pandas) (2024.1)\n",
      "Requirement already satisfied: tzdata>=2022.7 in /home/ec2-user/anaconda3/envs/python3/lib/python3.10/site-packages (from pandas) (2024.1)\n",
      "Requirement already satisfied: six>=1.5 in /home/ec2-user/anaconda3/envs/python3/lib/python3.10/site-packages (from python-dateutil>=2.8.2->pandas) (1.16.0)\n",
      "Requirement already satisfied: numpy in /home/ec2-user/anaconda3/envs/python3/lib/python3.10/site-packages (1.22.4)\n",
      "Collecting redis\n",
      "  Downloading redis-5.0.7-py3-none-any.whl.metadata (9.3 kB)\n",
      "Requirement already satisfied: async-timeout>=4.0.3 in /home/ec2-user/anaconda3/envs/python3/lib/python3.10/site-packages (from redis) (4.0.3)\n",
      "Downloading redis-5.0.7-py3-none-any.whl (252 kB)\n",
      "\u001b[2K   \u001b[90m━━━━━━━━━━━━━━━━━━━━━━━━━━━━━━━━━━━━━━━━\u001b[0m \u001b[32m252.1/252.1 kB\u001b[0m \u001b[31m2.2 MB/s\u001b[0m eta \u001b[36m0:00:00\u001b[0m00:01\u001b[0m\n",
      "\u001b[?25hInstalling collected packages: redis\n",
      "Successfully installed redis-5.0.7\n",
      "Collecting themoviedb\n",
      "  Downloading themoviedb-0.4.0-py3-none-any.whl.metadata (6.3 kB)\n",
      "Collecting aiohttp==3.8.4 (from themoviedb)\n",
      "  Downloading aiohttp-3.8.4-cp310-cp310-manylinux_2_17_x86_64.manylinux2014_x86_64.whl.metadata (7.4 kB)\n",
      "Requirement already satisfied: aiosignal==1.3.1 in /home/ec2-user/anaconda3/envs/python3/lib/python3.10/site-packages (from themoviedb) (1.3.1)\n",
      "Collecting async-timeout==4.0.2 (from themoviedb)\n",
      "  Downloading async_timeout-4.0.2-py3-none-any.whl.metadata (4.2 kB)\n",
      "Collecting attrs==23.1.0 (from themoviedb)\n",
      "  Downloading attrs-23.1.0-py3-none-any.whl.metadata (11 kB)\n",
      "Collecting certifi==2023.5.7 (from themoviedb)\n",
      "  Downloading certifi-2023.5.7-py3-none-any.whl.metadata (2.2 kB)\n",
      "Collecting charset-normalizer==3.1.0 (from themoviedb)\n",
      "  Downloading charset_normalizer-3.1.0-cp310-cp310-manylinux_2_17_x86_64.manylinux2014_x86_64.whl.metadata (30 kB)\n",
      "Collecting dacite==1.8.1 (from themoviedb)\n",
      "  Downloading dacite-1.8.1-py3-none-any.whl.metadata (15 kB)\n",
      "Collecting frozenlist==1.3.3 (from themoviedb)\n",
      "  Downloading frozenlist-1.3.3-cp310-cp310-manylinux_2_5_x86_64.manylinux1_x86_64.manylinux_2_17_x86_64.manylinux2014_x86_64.whl.metadata (4.7 kB)\n",
      "Collecting idna==3.4 (from themoviedb)\n",
      "  Downloading idna-3.4-py3-none-any.whl.metadata (9.8 kB)\n",
      "Collecting multidict==6.0.4 (from themoviedb)\n",
      "  Downloading multidict-6.0.4-cp310-cp310-manylinux_2_17_x86_64.manylinux2014_x86_64.whl.metadata (4.1 kB)\n",
      "Requirement already satisfied: requests==2.31.0 in /home/ec2-user/anaconda3/envs/python3/lib/python3.10/site-packages (from themoviedb) (2.31.0)\n",
      "Collecting urllib3==2.0.3 (from themoviedb)\n",
      "  Downloading urllib3-2.0.3-py3-none-any.whl.metadata (6.6 kB)\n",
      "Collecting yarl==1.9.2 (from themoviedb)\n",
      "  Downloading yarl-1.9.2-cp310-cp310-manylinux_2_17_x86_64.manylinux2014_x86_64.whl.metadata (23 kB)\n",
      "Downloading themoviedb-0.4.0-py3-none-any.whl (59 kB)\n",
      "\u001b[2K   \u001b[90m━━━━━━━━━━━━━━━━━━━━━━━━━━━━━━━━━━━━━━━━\u001b[0m \u001b[32m59.4/59.4 kB\u001b[0m \u001b[31m6.0 MB/s\u001b[0m eta \u001b[36m0:00:00\u001b[0m\n",
      "\u001b[?25hDownloading aiohttp-3.8.4-cp310-cp310-manylinux_2_17_x86_64.manylinux2014_x86_64.whl (1.0 MB)\n",
      "\u001b[2K   \u001b[90m━━━━━━━━━━━━━━━━━━━━━━━━━━━━━━━━━━━━━━━━\u001b[0m \u001b[32m1.0/1.0 MB\u001b[0m \u001b[31m5.4 MB/s\u001b[0m eta \u001b[36m0:00:00\u001b[0m:00:01\u001b[0m\n",
      "\u001b[?25hDownloading async_timeout-4.0.2-py3-none-any.whl (5.8 kB)\n",
      "Downloading attrs-23.1.0-py3-none-any.whl (61 kB)\n",
      "\u001b[2K   \u001b[90m━━━━━━━━━━━━━━━━━━━━━━━━━━━━━━━━━━━━━━━━\u001b[0m \u001b[32m61.2/61.2 kB\u001b[0m \u001b[31m11.0 MB/s\u001b[0m eta \u001b[36m0:00:00\u001b[0m\n",
      "\u001b[?25hDownloading certifi-2023.5.7-py3-none-any.whl (156 kB)\n",
      "\u001b[2K   \u001b[90m━━━━━━━━━━━━━━━━━━━━━━━━━━━━━━━━━━━━━━━━\u001b[0m \u001b[32m157.0/157.0 kB\u001b[0m \u001b[31m27.3 MB/s\u001b[0m eta \u001b[36m0:00:00\u001b[0m\n",
      "\u001b[?25hDownloading charset_normalizer-3.1.0-cp310-cp310-manylinux_2_17_x86_64.manylinux2014_x86_64.whl (199 kB)\n",
      "\u001b[2K   \u001b[90m━━━━━━━━━━━━━━━━━━━━━━━━━━━━━━━━━━━━━━━━\u001b[0m \u001b[32m199.3/199.3 kB\u001b[0m \u001b[31m3.1 MB/s\u001b[0m eta \u001b[36m0:00:00\u001b[0m:00:01\u001b[0m\n",
      "\u001b[?25hDownloading dacite-1.8.1-py3-none-any.whl (14 kB)\n",
      "Downloading frozenlist-1.3.3-cp310-cp310-manylinux_2_5_x86_64.manylinux1_x86_64.manylinux_2_17_x86_64.manylinux2014_x86_64.whl (149 kB)\n",
      "\u001b[2K   \u001b[90m━━━━━━━━━━━━━━━━━━━━━━━━━━━━━━━━━━━━━━━━\u001b[0m \u001b[32m149.6/149.6 kB\u001b[0m \u001b[31m15.3 MB/s\u001b[0m eta \u001b[36m0:00:00\u001b[0m\n",
      "\u001b[?25hDownloading idna-3.4-py3-none-any.whl (61 kB)\n",
      "\u001b[2K   \u001b[90m━━━━━━━━━━━━━━━━━━━━━━━━━━━━━━━━━━━━━━━━\u001b[0m \u001b[32m61.5/61.5 kB\u001b[0m \u001b[31m12.4 MB/s\u001b[0m eta \u001b[36m0:00:00\u001b[0m\n",
      "\u001b[?25hDownloading multidict-6.0.4-cp310-cp310-manylinux_2_17_x86_64.manylinux2014_x86_64.whl (114 kB)\n",
      "\u001b[2K   \u001b[90m━━━━━━━━━━━━━━━━━━━━━━━━━━━━━━━━━━━━━━━━\u001b[0m \u001b[32m114.5/114.5 kB\u001b[0m \u001b[31m23.4 MB/s\u001b[0m eta \u001b[36m0:00:00\u001b[0m\n",
      "\u001b[?25hDownloading urllib3-2.0.3-py3-none-any.whl (123 kB)\n",
      "\u001b[2K   \u001b[90m━━━━━━━━━━━━━━━━━━━━━━━━━━━━━━━━━━━━━━━━\u001b[0m \u001b[32m123.6/123.6 kB\u001b[0m \u001b[31m26.3 MB/s\u001b[0m eta \u001b[36m0:00:00\u001b[0m\n",
      "\u001b[?25hDownloading yarl-1.9.2-cp310-cp310-manylinux_2_17_x86_64.manylinux2014_x86_64.whl (268 kB)\n",
      "\u001b[2K   \u001b[90m━━━━━━━━━━━━━━━━━━━━━━━━━━━━━━━━━━━━━━━━\u001b[0m \u001b[32m268.8/268.8 kB\u001b[0m \u001b[31m46.2 MB/s\u001b[0m eta \u001b[36m0:00:00\u001b[0m\n",
      "\u001b[?25hInstalling collected packages: urllib3, multidict, idna, frozenlist, dacite, charset-normalizer, certifi, attrs, async-timeout, yarl, aiohttp, themoviedb\n",
      "  Attempting uninstall: urllib3\n",
      "    Found existing installation: urllib3 2.2.1\n",
      "    Uninstalling urllib3-2.2.1:\n",
      "      Successfully uninstalled urllib3-2.2.1\n",
      "  Attempting uninstall: multidict\n",
      "    Found existing installation: multidict 6.0.5\n",
      "    Uninstalling multidict-6.0.5:\n",
      "      Successfully uninstalled multidict-6.0.5\n",
      "  Attempting uninstall: idna\n",
      "    Found existing installation: idna 3.6\n",
      "    Uninstalling idna-3.6:\n",
      "      Successfully uninstalled idna-3.6\n",
      "  Attempting uninstall: frozenlist\n",
      "    Found existing installation: frozenlist 1.4.1\n",
      "    Uninstalling frozenlist-1.4.1:\n",
      "      Successfully uninstalled frozenlist-1.4.1\n",
      "  Attempting uninstall: charset-normalizer\n",
      "    Found existing installation: charset-normalizer 3.3.2\n",
      "    Uninstalling charset-normalizer-3.3.2:\n",
      "      Successfully uninstalled charset-normalizer-3.3.2\n",
      "  Attempting uninstall: certifi\n",
      "    Found existing installation: certifi 2024.2.2\n",
      "    Uninstalling certifi-2024.2.2:\n",
      "      Successfully uninstalled certifi-2024.2.2\n",
      "  Attempting uninstall: attrs\n",
      "    Found existing installation: attrs 23.2.0\n",
      "    Uninstalling attrs-23.2.0:\n",
      "      Successfully uninstalled attrs-23.2.0\n",
      "  Attempting uninstall: async-timeout\n",
      "    Found existing installation: async-timeout 4.0.3\n",
      "    Uninstalling async-timeout-4.0.3:\n",
      "      Successfully uninstalled async-timeout-4.0.3\n",
      "  Attempting uninstall: yarl\n",
      "    Found existing installation: yarl 1.9.4\n",
      "    Uninstalling yarl-1.9.4:\n",
      "      Successfully uninstalled yarl-1.9.4\n",
      "  Attempting uninstall: aiohttp\n",
      "    Found existing installation: aiohttp 3.9.3\n",
      "    Uninstalling aiohttp-3.9.3:\n",
      "      Successfully uninstalled aiohttp-3.9.3\n",
      "\u001b[31mERROR: pip's dependency resolver does not currently take into account all the packages that are installed. This behaviour is the source of the following dependency conflicts.\n",
      "redis 5.0.7 requires async-timeout>=4.0.3; python_full_version < \"3.11.3\", but you have async-timeout 4.0.2 which is incompatible.\n",
      "sparkmagic 0.21.0 requires pandas<2.0.0,>=0.17.1, but you have pandas 2.2.1 which is incompatible.\n",
      "sphinx 7.2.6 requires docutils<0.21,>=0.18.1, but you have docutils 0.16 which is incompatible.\u001b[0m\u001b[31m\n",
      "\u001b[0mSuccessfully installed aiohttp-3.8.4 async-timeout-4.0.2 attrs-23.1.0 certifi-2023.5.7 charset-normalizer-3.1.0 dacite-1.8.1 frozenlist-1.3.3 idna-3.4 multidict-6.0.4 themoviedb-0.4.0 urllib3-2.0.3 yarl-1.9.2\n",
      "Requirement already satisfied: awscli in /home/ec2-user/anaconda3/envs/python3/lib/python3.10/site-packages (1.32.101)\n",
      "Requirement already satisfied: botocore==1.34.101 in /home/ec2-user/anaconda3/envs/python3/lib/python3.10/site-packages (from awscli) (1.34.101)\n",
      "Requirement already satisfied: docutils<0.17,>=0.10 in /home/ec2-user/anaconda3/envs/python3/lib/python3.10/site-packages (from awscli) (0.16)\n",
      "Requirement already satisfied: s3transfer<0.11.0,>=0.10.0 in /home/ec2-user/anaconda3/envs/python3/lib/python3.10/site-packages (from awscli) (0.10.1)\n",
      "Requirement already satisfied: PyYAML<6.1,>=3.10 in /home/ec2-user/anaconda3/envs/python3/lib/python3.10/site-packages (from awscli) (6.0.1)\n",
      "Requirement already satisfied: colorama<0.4.7,>=0.2.5 in /home/ec2-user/anaconda3/envs/python3/lib/python3.10/site-packages (from awscli) (0.4.6)\n",
      "Requirement already satisfied: rsa<4.8,>=3.1.2 in /home/ec2-user/anaconda3/envs/python3/lib/python3.10/site-packages (from awscli) (4.7.2)\n",
      "Requirement already satisfied: jmespath<2.0.0,>=0.7.1 in /home/ec2-user/anaconda3/envs/python3/lib/python3.10/site-packages (from botocore==1.34.101->awscli) (1.0.1)\n",
      "Requirement already satisfied: python-dateutil<3.0.0,>=2.1 in /home/ec2-user/anaconda3/envs/python3/lib/python3.10/site-packages (from botocore==1.34.101->awscli) (2.9.0)\n",
      "Requirement already satisfied: urllib3!=2.2.0,<3,>=1.25.4 in /home/ec2-user/anaconda3/envs/python3/lib/python3.10/site-packages (from botocore==1.34.101->awscli) (2.0.3)\n",
      "Requirement already satisfied: pyasn1>=0.1.3 in /home/ec2-user/anaconda3/envs/python3/lib/python3.10/site-packages (from rsa<4.8,>=3.1.2->awscli) (0.6.0)\n",
      "Requirement already satisfied: six>=1.5 in /home/ec2-user/anaconda3/envs/python3/lib/python3.10/site-packages (from python-dateutil<3.0.0,>=2.1->botocore==1.34.101->awscli) (1.16.0)\n",
      "Requirement already satisfied: boto3 in /home/ec2-user/anaconda3/envs/python3/lib/python3.10/site-packages (1.34.101)\n",
      "Requirement already satisfied: botocore<1.35.0,>=1.34.101 in /home/ec2-user/anaconda3/envs/python3/lib/python3.10/site-packages (from boto3) (1.34.101)\n",
      "Requirement already satisfied: jmespath<2.0.0,>=0.7.1 in /home/ec2-user/anaconda3/envs/python3/lib/python3.10/site-packages (from boto3) (1.0.1)\n",
      "Requirement already satisfied: s3transfer<0.11.0,>=0.10.0 in /home/ec2-user/anaconda3/envs/python3/lib/python3.10/site-packages (from boto3) (0.10.1)\n",
      "Requirement already satisfied: python-dateutil<3.0.0,>=2.1 in /home/ec2-user/anaconda3/envs/python3/lib/python3.10/site-packages (from botocore<1.35.0,>=1.34.101->boto3) (2.9.0)\n",
      "Requirement already satisfied: urllib3!=2.2.0,<3,>=1.25.4 in /home/ec2-user/anaconda3/envs/python3/lib/python3.10/site-packages (from botocore<1.35.0,>=1.34.101->boto3) (2.0.3)\n",
      "Requirement already satisfied: six>=1.5 in /home/ec2-user/anaconda3/envs/python3/lib/python3.10/site-packages (from python-dateutil<3.0.0,>=2.1->botocore<1.35.0,>=1.34.101->boto3) (1.16.0)\n",
      "Requirement already satisfied: botocore in /home/ec2-user/anaconda3/envs/python3/lib/python3.10/site-packages (1.34.101)\n",
      "Requirement already satisfied: jmespath<2.0.0,>=0.7.1 in /home/ec2-user/anaconda3/envs/python3/lib/python3.10/site-packages (from botocore) (1.0.1)\n",
      "Requirement already satisfied: python-dateutil<3.0.0,>=2.1 in /home/ec2-user/anaconda3/envs/python3/lib/python3.10/site-packages (from botocore) (2.9.0)\n",
      "Requirement already satisfied: urllib3!=2.2.0,<3,>=1.25.4 in /home/ec2-user/anaconda3/envs/python3/lib/python3.10/site-packages (from botocore) (2.0.3)\n",
      "Requirement already satisfied: six>=1.5 in /home/ec2-user/anaconda3/envs/python3/lib/python3.10/site-packages (from python-dateutil<3.0.0,>=2.1->botocore) (1.16.0)\n",
      "Requirement already satisfied: themoviedb in /home/ec2-user/anaconda3/envs/python3/lib/python3.10/site-packages (0.4.0)\n",
      "Requirement already satisfied: aiohttp==3.8.4 in /home/ec2-user/anaconda3/envs/python3/lib/python3.10/site-packages (from themoviedb) (3.8.4)\n",
      "Requirement already satisfied: aiosignal==1.3.1 in /home/ec2-user/anaconda3/envs/python3/lib/python3.10/site-packages (from themoviedb) (1.3.1)\n",
      "Requirement already satisfied: async-timeout==4.0.2 in /home/ec2-user/anaconda3/envs/python3/lib/python3.10/site-packages (from themoviedb) (4.0.2)\n",
      "Requirement already satisfied: attrs==23.1.0 in /home/ec2-user/anaconda3/envs/python3/lib/python3.10/site-packages (from themoviedb) (23.1.0)\n",
      "Requirement already satisfied: certifi==2023.5.7 in /home/ec2-user/anaconda3/envs/python3/lib/python3.10/site-packages (from themoviedb) (2023.5.7)\n",
      "Requirement already satisfied: charset-normalizer==3.1.0 in /home/ec2-user/anaconda3/envs/python3/lib/python3.10/site-packages (from themoviedb) (3.1.0)\n",
      "Requirement already satisfied: dacite==1.8.1 in /home/ec2-user/anaconda3/envs/python3/lib/python3.10/site-packages (from themoviedb) (1.8.1)\n",
      "Requirement already satisfied: frozenlist==1.3.3 in /home/ec2-user/anaconda3/envs/python3/lib/python3.10/site-packages (from themoviedb) (1.3.3)\n",
      "Requirement already satisfied: idna==3.4 in /home/ec2-user/anaconda3/envs/python3/lib/python3.10/site-packages (from themoviedb) (3.4)\n",
      "Requirement already satisfied: multidict==6.0.4 in /home/ec2-user/anaconda3/envs/python3/lib/python3.10/site-packages (from themoviedb) (6.0.4)\n",
      "Requirement already satisfied: requests==2.31.0 in /home/ec2-user/anaconda3/envs/python3/lib/python3.10/site-packages (from themoviedb) (2.31.0)\n",
      "Requirement already satisfied: urllib3==2.0.3 in /home/ec2-user/anaconda3/envs/python3/lib/python3.10/site-packages (from themoviedb) (2.0.3)\n",
      "Requirement already satisfied: yarl==1.9.2 in /home/ec2-user/anaconda3/envs/python3/lib/python3.10/site-packages (from themoviedb) (1.9.2)\n"
     ]
    }
   ],
   "source": [
    "import sys\n",
    "!{sys.executable} -m pip install pandas\n",
    "!{sys.executable} -m pip install numpy\n",
    "!{sys.executable} -m pip install redis\n",
    "!{sys.executable} -m pip install themoviedb\n",
    "!{sys.executable} -m pip install awscli\n",
    "!{sys.executable} -m pip install boto3\n",
    "!{sys.executable} -m pip install botocore\n",
    "!{sys.executable} -m pip install themoviedb"
   ]
  },
  {
   "cell_type": "markdown",
   "id": "022d6517-6994-4261-b228-4767a37af1c9",
   "metadata": {},
   "source": [
    "## Import Libraries"
   ]
  },
  {
   "cell_type": "code",
   "execution_count": 2,
   "id": "cccf33f5-0640-472b-b848-6c39be23cbe7",
   "metadata": {
    "tags": []
   },
   "outputs": [],
   "source": [
    "import pandas as pd\n",
    "import numpy as np\n",
    "import uuid\n",
    "#from sentence_transformers import SentenceTransformer\n",
    "import datetime\n",
    "import os\n",
    "import redis\n",
    "import time\n",
    "import json\n",
    "import boto3\n",
    "import botocore\n",
    "import pickle\n",
    "import re\n",
    "import gzip\n",
    "import shutil\n",
    "from urllib import request\n",
    "from redis.commands.search.field import VectorField\n",
    "from redis.commands.search.field import TextField, NumericField\n",
    "from redis.commands.search.field import TagField\n",
    "from redis.commands.search.query import Query, NumericFilter\n",
    "from redis.commands.search.result import Result\n",
    "from redis.cluster import RedisCluster as MemoryDB\n",
    "from redis.commands.search.field import VectorField, TextField, NumericField\n",
    "from redis.commands.search.indexDefinition import IndexDefinition, IndexType\n",
    "from themoviedb import TMDb\n",
    "from multiprocessing.pool import ThreadPool"
   ]
  },
  {
   "cell_type": "markdown",
   "id": "3d6a4e28-2f88-4f19-ab08-5620e0dacbec",
   "metadata": {},
   "source": [
    "## Test Connection to MemoryDB"
   ]
  },
  {
   "cell_type": "code",
   "execution_count": 3,
   "id": "8d54f1ac-b8d8-46fa-9fef-f404e1e83583",
   "metadata": {
    "tags": []
   },
   "outputs": [
    {
     "name": "stdout",
     "output_type": "stream",
     "text": [
      "MemoryDB Url = clustercfg.xxxx.xxxxxx.memorydb.xx-xxxx-x.amazonaws.com:6379\n",
      "CPU times: user 73.4 ms, sys: 2.9 ms, total: 76.3 ms\n",
      "Wall time: 84.3 ms\n"
     ]
    },
    {
     "data": {
      "text/plain": [
       "True"
      ]
     },
     "execution_count": 3,
     "metadata": {},
     "output_type": "execute_result"
    }
   ],
   "source": [
    "%%time\n",
    "memorydb_host = os.environ.get(\"MEMORYDB_HOST\", \"clustercfg.xxxx.xxxxxx.memorydb.xx-xxxx-x.amazonaws.com\")\n",
    "memorydb_port = os.environ.get(\"MEMORYDB_PORT\", 6379)\n",
    "print(f\"MemoryDB Url = {memorydb_host}:{memorydb_port}\")\n",
    "rc = MemoryDB(host=memorydb_host, port=memorydb_port, ssl=True, decode_responses=False, ssl_cert_reqs=\"none\")\n",
    "rc.ping()\n",
    "# rc.flushall()"
   ]
  },
  {
   "cell_type": "markdown",
   "id": "17f402fc-ac6a-4175-bf08-daf82a270b80",
   "metadata": {},
   "source": [
    "## Download IMDB Datasets"
   ]
  },
  {
   "cell_type": "markdown",
   "id": "f93ada6f-fe25-4ecc-a76a-c5c7f888579f",
   "metadata": {},
   "source": [
    "### Define Functions"
   ]
  },
  {
   "cell_type": "code",
   "execution_count": 4,
   "id": "225bfbde-f838-4f1f-b283-f9445af49b5c",
   "metadata": {
    "tags": []
   },
   "outputs": [],
   "source": [
    "dataset_path = \"datasets\""
   ]
  },
  {
   "cell_type": "code",
   "execution_count": 5,
   "id": "52cd0917-4cb7-4218-a2fb-526cea8caaeb",
   "metadata": {
    "tags": []
   },
   "outputs": [],
   "source": [
    "def download_compressed_dataset(url):\n",
    "    if not os.path.isdir(dataset_path):\n",
    "        os.makedirs(dataset_path) \n",
    "    compressed_filename = dataset_path + \"/\" + re.split(pattern='/', string=url)[-1]\n",
    "    request.urlretrieve(url=url, filename=compressed_filename)\n",
    "    uncompressed_filename = re.split(pattern=r'\\.gz', string=compressed_filename)[0]\n",
    "    print(f\"downloaded {compressed_filename}\")\n",
    "    with gzip.open(compressed_filename, 'rb') as f_in:\n",
    "        with open(uncompressed_filename, 'wb') as f_out:\n",
    "            shutil.copyfileobj(f_in, f_out)\n",
    "    print(f\"extracted {uncompressed_filename}\")\n",
    "    return uncompressed_filename"
   ]
  },
  {
   "cell_type": "code",
   "execution_count": 6,
   "id": "da4cec32-6b37-46dd-b56f-93f9acfe9d98",
   "metadata": {
    "tags": []
   },
   "outputs": [
    {
     "name": "stdout",
     "output_type": "stream",
     "text": [
      "downloaded datasets/title.ratings.tsv.gz\n",
      "extracted datasets/title.ratings.tsv\n",
      "loading datasets/title.ratings.tsv\n",
      "downloaded datasets/name.basics.tsv.gz\n",
      "downloaded datasets/title.basics.tsv.gz\n",
      "downloaded datasets/title.principals.tsv.gz\n",
      "extracted datasets/name.basics.tsv\n",
      "loading datasets/name.basics.tsv\n",
      "extracted datasets/title.basics.tsv\n",
      "extracted datasets/title.principals.tsv\n",
      "loading datasets/title.basics.tsv\n",
      "loading datasets/title.principals.tsv\n"
     ]
    }
   ],
   "source": [
    "datasets = [\n",
    "    \"https://datasets.imdbws.com/title.basics.tsv.gz\",\n",
    "    \"https://datasets.imdbws.com/title.principals.tsv.gz\",\n",
    "    \"https://datasets.imdbws.com/name.basics.tsv.gz\",\n",
    "    \"https://datasets.imdbws.com/title.ratings.tsv.gz\",\n",
    "]\n",
    "\n",
    "retrieved_datasets = ThreadPool(5).imap_unordered(download_compressed_dataset, datasets)\n",
    "for retrieved_dataset in retrieved_datasets:\n",
    "    print(f\"loading {retrieved_dataset}\")\n",
    "    pickle.dump(pd.read_table(retrieved_dataset,sep=\"\\t\",low_memory=False, na_values=[\"\\\\N\",\"nan\"]), open(retrieved_dataset[:-4]+\".sav\",\"wb\"))"
   ]
  },
  {
   "cell_type": "markdown",
   "id": "c288d049-bdd0-4c5c-826b-fd016f7a7dbd",
   "metadata": {},
   "source": [
    "## Show Datasets "
   ]
  },
  {
   "cell_type": "code",
   "execution_count": 7,
   "id": "b875fa00-fed1-4b47-ada2-d94c870e1cd5",
   "metadata": {
    "tags": []
   },
   "outputs": [
    {
     "data": {
      "text/html": [
       "<div>\n",
       "<style scoped>\n",
       "    .dataframe tbody tr th:only-of-type {\n",
       "        vertical-align: middle;\n",
       "    }\n",
       "\n",
       "    .dataframe tbody tr th {\n",
       "        vertical-align: top;\n",
       "    }\n",
       "\n",
       "    .dataframe thead th {\n",
       "        text-align: right;\n",
       "    }\n",
       "</style>\n",
       "<table border=\"1\" class=\"dataframe\">\n",
       "  <thead>\n",
       "    <tr style=\"text-align: right;\">\n",
       "      <th></th>\n",
       "      <th>tconst</th>\n",
       "      <th>titleType</th>\n",
       "      <th>primaryTitle</th>\n",
       "      <th>originalTitle</th>\n",
       "      <th>isAdult</th>\n",
       "      <th>startYear</th>\n",
       "      <th>endYear</th>\n",
       "      <th>runtimeMinutes</th>\n",
       "      <th>genres</th>\n",
       "    </tr>\n",
       "  </thead>\n",
       "  <tbody>\n",
       "    <tr>\n",
       "      <th>0</th>\n",
       "      <td>tt0000001</td>\n",
       "      <td>short</td>\n",
       "      <td>Carmencita</td>\n",
       "      <td>Carmencita</td>\n",
       "      <td>0.0</td>\n",
       "      <td>1894.0</td>\n",
       "      <td>NaN</td>\n",
       "      <td>1</td>\n",
       "      <td>Documentary,Short</td>\n",
       "    </tr>\n",
       "    <tr>\n",
       "      <th>1</th>\n",
       "      <td>tt0000002</td>\n",
       "      <td>short</td>\n",
       "      <td>Le clown et ses chiens</td>\n",
       "      <td>Le clown et ses chiens</td>\n",
       "      <td>0.0</td>\n",
       "      <td>1892.0</td>\n",
       "      <td>NaN</td>\n",
       "      <td>5</td>\n",
       "      <td>Animation,Short</td>\n",
       "    </tr>\n",
       "    <tr>\n",
       "      <th>2</th>\n",
       "      <td>tt0000003</td>\n",
       "      <td>short</td>\n",
       "      <td>Pauvre Pierrot</td>\n",
       "      <td>Pauvre Pierrot</td>\n",
       "      <td>0.0</td>\n",
       "      <td>1892.0</td>\n",
       "      <td>NaN</td>\n",
       "      <td>5</td>\n",
       "      <td>Animation,Comedy,Romance</td>\n",
       "    </tr>\n",
       "    <tr>\n",
       "      <th>3</th>\n",
       "      <td>tt0000004</td>\n",
       "      <td>short</td>\n",
       "      <td>Un bon bock</td>\n",
       "      <td>Un bon bock</td>\n",
       "      <td>0.0</td>\n",
       "      <td>1892.0</td>\n",
       "      <td>NaN</td>\n",
       "      <td>12</td>\n",
       "      <td>Animation,Short</td>\n",
       "    </tr>\n",
       "    <tr>\n",
       "      <th>4</th>\n",
       "      <td>tt0000005</td>\n",
       "      <td>short</td>\n",
       "      <td>Blacksmith Scene</td>\n",
       "      <td>Blacksmith Scene</td>\n",
       "      <td>0.0</td>\n",
       "      <td>1893.0</td>\n",
       "      <td>NaN</td>\n",
       "      <td>1</td>\n",
       "      <td>Comedy,Short</td>\n",
       "    </tr>\n",
       "  </tbody>\n",
       "</table>\n",
       "</div>"
      ],
      "text/plain": [
       "      tconst titleType            primaryTitle           originalTitle  \\\n",
       "0  tt0000001     short              Carmencita              Carmencita   \n",
       "1  tt0000002     short  Le clown et ses chiens  Le clown et ses chiens   \n",
       "2  tt0000003     short          Pauvre Pierrot          Pauvre Pierrot   \n",
       "3  tt0000004     short             Un bon bock             Un bon bock   \n",
       "4  tt0000005     short        Blacksmith Scene        Blacksmith Scene   \n",
       "\n",
       "   isAdult  startYear  endYear runtimeMinutes                    genres  \n",
       "0      0.0     1894.0      NaN              1         Documentary,Short  \n",
       "1      0.0     1892.0      NaN              5           Animation,Short  \n",
       "2      0.0     1892.0      NaN              5  Animation,Comedy,Romance  \n",
       "3      0.0     1892.0      NaN             12           Animation,Short  \n",
       "4      0.0     1893.0      NaN              1              Comedy,Short  "
      ]
     },
     "execution_count": 7,
     "metadata": {},
     "output_type": "execute_result"
    }
   ],
   "source": [
    "df_title_basics = pickle.load(open(f\"{dataset_path}/title.basics.sav\",\"rb\"))\n",
    "df_title_basics.head()"
   ]
  },
  {
   "cell_type": "code",
   "execution_count": 8,
   "id": "630d0090-23e5-4bdd-82c2-a2c8404767bc",
   "metadata": {
    "tags": []
   },
   "outputs": [
    {
     "data": {
      "text/html": [
       "<div>\n",
       "<style scoped>\n",
       "    .dataframe tbody tr th:only-of-type {\n",
       "        vertical-align: middle;\n",
       "    }\n",
       "\n",
       "    .dataframe tbody tr th {\n",
       "        vertical-align: top;\n",
       "    }\n",
       "\n",
       "    .dataframe thead th {\n",
       "        text-align: right;\n",
       "    }\n",
       "</style>\n",
       "<table border=\"1\" class=\"dataframe\">\n",
       "  <thead>\n",
       "    <tr style=\"text-align: right;\">\n",
       "      <th></th>\n",
       "      <th>tconst</th>\n",
       "      <th>ordering</th>\n",
       "      <th>nconst</th>\n",
       "      <th>category</th>\n",
       "      <th>job</th>\n",
       "      <th>characters</th>\n",
       "    </tr>\n",
       "  </thead>\n",
       "  <tbody>\n",
       "    <tr>\n",
       "      <th>0</th>\n",
       "      <td>tt0000001</td>\n",
       "      <td>1</td>\n",
       "      <td>nm1588970</td>\n",
       "      <td>self</td>\n",
       "      <td>NaN</td>\n",
       "      <td>[\"Self\"]</td>\n",
       "    </tr>\n",
       "    <tr>\n",
       "      <th>1</th>\n",
       "      <td>tt0000001</td>\n",
       "      <td>2</td>\n",
       "      <td>nm0005690</td>\n",
       "      <td>director</td>\n",
       "      <td>NaN</td>\n",
       "      <td>NaN</td>\n",
       "    </tr>\n",
       "    <tr>\n",
       "      <th>2</th>\n",
       "      <td>tt0000001</td>\n",
       "      <td>3</td>\n",
       "      <td>nm0005690</td>\n",
       "      <td>producer</td>\n",
       "      <td>producer</td>\n",
       "      <td>NaN</td>\n",
       "    </tr>\n",
       "    <tr>\n",
       "      <th>3</th>\n",
       "      <td>tt0000001</td>\n",
       "      <td>4</td>\n",
       "      <td>nm0374658</td>\n",
       "      <td>cinematographer</td>\n",
       "      <td>director of photography</td>\n",
       "      <td>NaN</td>\n",
       "    </tr>\n",
       "    <tr>\n",
       "      <th>4</th>\n",
       "      <td>tt0000002</td>\n",
       "      <td>1</td>\n",
       "      <td>nm0721526</td>\n",
       "      <td>director</td>\n",
       "      <td>NaN</td>\n",
       "      <td>NaN</td>\n",
       "    </tr>\n",
       "  </tbody>\n",
       "</table>\n",
       "</div>"
      ],
      "text/plain": [
       "      tconst  ordering     nconst         category                      job  \\\n",
       "0  tt0000001         1  nm1588970             self                      NaN   \n",
       "1  tt0000001         2  nm0005690         director                      NaN   \n",
       "2  tt0000001         3  nm0005690         producer                 producer   \n",
       "3  tt0000001         4  nm0374658  cinematographer  director of photography   \n",
       "4  tt0000002         1  nm0721526         director                      NaN   \n",
       "\n",
       "  characters  \n",
       "0   [\"Self\"]  \n",
       "1        NaN  \n",
       "2        NaN  \n",
       "3        NaN  \n",
       "4        NaN  "
      ]
     },
     "execution_count": 8,
     "metadata": {},
     "output_type": "execute_result"
    }
   ],
   "source": [
    "df_title_principals = pickle.load(open(f\"{dataset_path}/title.principals.sav\",\"rb\"))\n",
    "df_title_principals.head()"
   ]
  },
  {
   "cell_type": "code",
   "execution_count": 9,
   "id": "acc56d14-1e8c-4487-808f-9e01f75e0d27",
   "metadata": {
    "tags": []
   },
   "outputs": [
    {
     "data": {
      "text/html": [
       "<div>\n",
       "<style scoped>\n",
       "    .dataframe tbody tr th:only-of-type {\n",
       "        vertical-align: middle;\n",
       "    }\n",
       "\n",
       "    .dataframe tbody tr th {\n",
       "        vertical-align: top;\n",
       "    }\n",
       "\n",
       "    .dataframe thead th {\n",
       "        text-align: right;\n",
       "    }\n",
       "</style>\n",
       "<table border=\"1\" class=\"dataframe\">\n",
       "  <thead>\n",
       "    <tr style=\"text-align: right;\">\n",
       "      <th></th>\n",
       "      <th>nconst</th>\n",
       "      <th>primaryName</th>\n",
       "      <th>birthYear</th>\n",
       "      <th>deathYear</th>\n",
       "      <th>primaryProfession</th>\n",
       "      <th>knownForTitles</th>\n",
       "    </tr>\n",
       "  </thead>\n",
       "  <tbody>\n",
       "    <tr>\n",
       "      <th>0</th>\n",
       "      <td>nm0000001</td>\n",
       "      <td>Fred Astaire</td>\n",
       "      <td>1899.0</td>\n",
       "      <td>1987.0</td>\n",
       "      <td>actor,miscellaneous,producer</td>\n",
       "      <td>tt0072308,tt0050419,tt0053137,tt0027125</td>\n",
       "    </tr>\n",
       "    <tr>\n",
       "      <th>1</th>\n",
       "      <td>nm0000002</td>\n",
       "      <td>Lauren Bacall</td>\n",
       "      <td>1924.0</td>\n",
       "      <td>2014.0</td>\n",
       "      <td>actress,soundtrack,archive_footage</td>\n",
       "      <td>tt0037382,tt0075213,tt0117057,tt0038355</td>\n",
       "    </tr>\n",
       "    <tr>\n",
       "      <th>2</th>\n",
       "      <td>nm0000003</td>\n",
       "      <td>Brigitte Bardot</td>\n",
       "      <td>1934.0</td>\n",
       "      <td>NaN</td>\n",
       "      <td>actress,music_department,producer</td>\n",
       "      <td>tt0057345,tt0049189,tt0056404,tt0054452</td>\n",
       "    </tr>\n",
       "    <tr>\n",
       "      <th>3</th>\n",
       "      <td>nm0000004</td>\n",
       "      <td>John Belushi</td>\n",
       "      <td>1949.0</td>\n",
       "      <td>1982.0</td>\n",
       "      <td>actor,writer,music_department</td>\n",
       "      <td>tt0072562,tt0077975,tt0080455,tt0078723</td>\n",
       "    </tr>\n",
       "    <tr>\n",
       "      <th>4</th>\n",
       "      <td>nm0000005</td>\n",
       "      <td>Ingmar Bergman</td>\n",
       "      <td>1918.0</td>\n",
       "      <td>2007.0</td>\n",
       "      <td>writer,director,actor</td>\n",
       "      <td>tt0050986,tt0083922,tt0050976,tt0069467</td>\n",
       "    </tr>\n",
       "  </tbody>\n",
       "</table>\n",
       "</div>"
      ],
      "text/plain": [
       "      nconst      primaryName  birthYear  deathYear  \\\n",
       "0  nm0000001     Fred Astaire     1899.0     1987.0   \n",
       "1  nm0000002    Lauren Bacall     1924.0     2014.0   \n",
       "2  nm0000003  Brigitte Bardot     1934.0        NaN   \n",
       "3  nm0000004     John Belushi     1949.0     1982.0   \n",
       "4  nm0000005   Ingmar Bergman     1918.0     2007.0   \n",
       "\n",
       "                    primaryProfession                           knownForTitles  \n",
       "0        actor,miscellaneous,producer  tt0072308,tt0050419,tt0053137,tt0027125  \n",
       "1  actress,soundtrack,archive_footage  tt0037382,tt0075213,tt0117057,tt0038355  \n",
       "2   actress,music_department,producer  tt0057345,tt0049189,tt0056404,tt0054452  \n",
       "3       actor,writer,music_department  tt0072562,tt0077975,tt0080455,tt0078723  \n",
       "4               writer,director,actor  tt0050986,tt0083922,tt0050976,tt0069467  "
      ]
     },
     "execution_count": 9,
     "metadata": {},
     "output_type": "execute_result"
    }
   ],
   "source": [
    "df_name_basics = pickle.load(open(f\"{dataset_path}/name.basics.sav\",\"rb\"))\n",
    "df_name_basics.head()"
   ]
  },
  {
   "cell_type": "code",
   "execution_count": 10,
   "id": "19e6239b-e3e1-4736-b759-7f0077fd3f1c",
   "metadata": {
    "tags": []
   },
   "outputs": [
    {
     "data": {
      "text/html": [
       "<div>\n",
       "<style scoped>\n",
       "    .dataframe tbody tr th:only-of-type {\n",
       "        vertical-align: middle;\n",
       "    }\n",
       "\n",
       "    .dataframe tbody tr th {\n",
       "        vertical-align: top;\n",
       "    }\n",
       "\n",
       "    .dataframe thead th {\n",
       "        text-align: right;\n",
       "    }\n",
       "</style>\n",
       "<table border=\"1\" class=\"dataframe\">\n",
       "  <thead>\n",
       "    <tr style=\"text-align: right;\">\n",
       "      <th></th>\n",
       "      <th>tconst</th>\n",
       "      <th>averageRating</th>\n",
       "      <th>numVotes</th>\n",
       "    </tr>\n",
       "  </thead>\n",
       "  <tbody>\n",
       "    <tr>\n",
       "      <th>0</th>\n",
       "      <td>tt0000001</td>\n",
       "      <td>5.7</td>\n",
       "      <td>2063</td>\n",
       "    </tr>\n",
       "    <tr>\n",
       "      <th>1</th>\n",
       "      <td>tt0000002</td>\n",
       "      <td>5.6</td>\n",
       "      <td>279</td>\n",
       "    </tr>\n",
       "    <tr>\n",
       "      <th>2</th>\n",
       "      <td>tt0000003</td>\n",
       "      <td>6.5</td>\n",
       "      <td>2030</td>\n",
       "    </tr>\n",
       "    <tr>\n",
       "      <th>3</th>\n",
       "      <td>tt0000004</td>\n",
       "      <td>5.4</td>\n",
       "      <td>180</td>\n",
       "    </tr>\n",
       "    <tr>\n",
       "      <th>4</th>\n",
       "      <td>tt0000005</td>\n",
       "      <td>6.2</td>\n",
       "      <td>2796</td>\n",
       "    </tr>\n",
       "  </tbody>\n",
       "</table>\n",
       "</div>"
      ],
      "text/plain": [
       "      tconst  averageRating  numVotes\n",
       "0  tt0000001            5.7      2063\n",
       "1  tt0000002            5.6       279\n",
       "2  tt0000003            6.5      2030\n",
       "3  tt0000004            5.4       180\n",
       "4  tt0000005            6.2      2796"
      ]
     },
     "execution_count": 10,
     "metadata": {},
     "output_type": "execute_result"
    }
   ],
   "source": [
    "df_title_ratings = pickle.load(open(f\"{dataset_path}/title.ratings.sav\",\"rb\"))\n",
    "df_title_ratings.head()"
   ]
  },
  {
   "cell_type": "markdown",
   "id": "67bd2feb-604f-4695-93f8-eeb0ebf9bdd9",
   "metadata": {},
   "source": [
    "## Drop Specific Titles"
   ]
  },
  {
   "cell_type": "markdown",
   "id": "61584594-1234-4e72-b448-4ccee8c86b13",
   "metadata": {},
   "source": [
    "### Drop Specific Title Types"
   ]
  },
  {
   "cell_type": "code",
   "execution_count": 11,
   "id": "73536e0f-8250-4cd7-a2dd-4255f54e9c49",
   "metadata": {
    "tags": []
   },
   "outputs": [
    {
     "data": {
      "text/plain": [
       "10913680"
      ]
     },
     "execution_count": 11,
     "metadata": {},
     "output_type": "execute_result"
    }
   ],
   "source": [
    "# initial title count\n",
    "df_title_basics.shape[0]"
   ]
  },
  {
   "cell_type": "code",
   "execution_count": 12,
   "id": "0e0de4d0-6593-4ed6-958f-566904244653",
   "metadata": {},
   "outputs": [
    {
     "data": {
      "text/plain": [
       "array(['short', 'movie', 'tvShort', 'tvMovie', 'tvSeries', 'tvEpisode',\n",
       "       'tvMiniSeries', 'tvSpecial', 'video', 'videoGame', 'tvPilot'],\n",
       "      dtype=object)"
      ]
     },
     "execution_count": 12,
     "metadata": {},
     "output_type": "execute_result"
    }
   ],
   "source": [
    "# identify title types\n",
    "df_title_basics.titleType.unique()"
   ]
  },
  {
   "cell_type": "code",
   "execution_count": 13,
   "id": "6ad746d4-1319-4786-a899-ef73d0ea0d61",
   "metadata": {
    "tags": []
   },
   "outputs": [
    {
     "data": {
      "text/plain": [
       "1155452"
      ]
     },
     "execution_count": 13,
     "metadata": {},
     "output_type": "execute_result"
    }
   ],
   "source": [
    "# only keep movie tvMovie tvSeries tvMiniSeries\n",
    "df_title_basics = df_title_basics[(df_title_basics.titleType == \"movie\") | (df_title_basics.titleType == \"tvMovie\") | (df_title_basics.titleType == \"tvSeries\") | (df_title_basics.titleType == \"tvMiniSeries\")]\n",
    "df_title_basics.shape[0]"
   ]
  },
  {
   "cell_type": "markdown",
   "id": "173ce37e-2b7e-48d4-863c-d82c803f8572",
   "metadata": {},
   "source": [
    "### Drop Older Titles"
   ]
  },
  {
   "cell_type": "code",
   "execution_count": 14,
   "id": "4d34f91d-e722-4241-b5a0-d672e0bd16fd",
   "metadata": {
    "tags": []
   },
   "outputs": [
    {
     "data": {
      "text/plain": [
       "978305"
      ]
     },
     "execution_count": 14,
     "metadata": {},
     "output_type": "execute_result"
    }
   ],
   "source": [
    "# drop titles older than 1925\n",
    "df_title_basics = df_title_basics[df_title_basics['startYear'] > 1935]\n",
    "# df_title_basics = df_title_basics[df_title_basics['endYear'] > 1935]\n",
    "df_title_basics.shape[0]"
   ]
  },
  {
   "cell_type": "markdown",
   "id": "fbb074b5-706d-4d63-8961-566b985e4835",
   "metadata": {},
   "source": [
    "### Drop Unused Columns"
   ]
  },
  {
   "cell_type": "code",
   "execution_count": 15,
   "id": "6fe36ef6-3e9f-425a-b255-d449d437400a",
   "metadata": {
    "tags": []
   },
   "outputs": [
    {
     "name": "stdout",
     "output_type": "stream",
     "text": [
      "<class 'pandas.core.frame.DataFrame'>\n",
      "Index: 978305 entries, 3816 to 10913630\n",
      "Data columns (total 7 columns):\n",
      " #   Column     Non-Null Count   Dtype  \n",
      "---  ------     --------------   -----  \n",
      " 0   tconst     978305 non-null  object \n",
      " 1   titleType  978305 non-null  object \n",
      " 2   title      978303 non-null  object \n",
      " 3   isAdult    978305 non-null  float64\n",
      " 4   year       978305 non-null  float64\n",
      " 5   runtime    624379 non-null  object \n",
      " 6   genres     888957 non-null  object \n",
      "dtypes: float64(2), object(5)\n",
      "memory usage: 59.7+ MB\n"
     ]
    }
   ],
   "source": [
    "# drop unused columns\n",
    "df_title_basics = df_title_basics.drop(['originalTitle', 'endYear'], axis=1)\n",
    "df_title_basics.columns = ['tconst', 'titleType', 'title', 'isAdult', 'year', 'runtime', 'genres']\n",
    "df_title_basics.info()"
   ]
  },
  {
   "cell_type": "markdown",
   "id": "87faab42-626e-4ff7-9f9f-fdda930c33d3",
   "metadata": {},
   "source": [
    "## Merge Tables"
   ]
  },
  {
   "cell_type": "markdown",
   "id": "f2bba8d7-8f62-4c2b-be09-cec073b196fa",
   "metadata": {},
   "source": [
    "### Prepare Directors Table"
   ]
  },
  {
   "cell_type": "code",
   "execution_count": 16,
   "id": "60ce16ef-e4b2-42bc-9601-1bae6f774b3d",
   "metadata": {
    "tags": []
   },
   "outputs": [],
   "source": [
    "df_title_directors = df_title_principals[df_title_principals['category'] == 'director'][['tconst', 'nconst']]\n",
    "df_title_directors = df_title_directors.merge(df_name_basics[['nconst', 'primaryName']], on='nconst', how='left')\n",
    "df_title_directors['primaryName'] = df_title_directors['primaryName'].fillna('')\n",
    "df_title_directors = df_title_directors.groupby('tconst')['primaryName'].apply(lambda x: ', '.join(x)).reset_index()\n",
    "df_title_directors.columns = ['tconst', 'directors']"
   ]
  },
  {
   "cell_type": "markdown",
   "id": "91dfcf8d-35e5-46d8-924b-988fbbbed5a0",
   "metadata": {},
   "source": [
    "### Prepare Actors Table"
   ]
  },
  {
   "cell_type": "code",
   "execution_count": 17,
   "id": "72a2376a-1aca-4d12-b724-965f574cff60",
   "metadata": {
    "tags": []
   },
   "outputs": [],
   "source": [
    "df_title_actors = df_title_principals[df_title_principals['category'].isin(['actor', 'actress'])][['tconst', 'nconst']]\n",
    "df_title_actors = df_title_actors.merge(df_name_basics[['nconst', 'primaryName']], on='nconst', how='left')\n",
    "df_title_actors['primaryName'] = df_title_actors['primaryName'].fillna('')\n",
    "df_title_actors = df_title_actors.groupby('tconst')['primaryName'].apply(lambda x: ', '.join(x)).reset_index()\n",
    "df_title_actors.columns = ['tconst', 'actors']"
   ]
  },
  {
   "cell_type": "markdown",
   "id": "1bae8a92-131e-4aae-be53-b09793d7696f",
   "metadata": {},
   "source": [
    "### Merge Tables"
   ]
  },
  {
   "cell_type": "code",
   "execution_count": 18,
   "id": "9b8d6a76-16f7-4d7f-9c9d-af7d934c9800",
   "metadata": {
    "tags": []
   },
   "outputs": [
    {
     "name": "stdout",
     "output_type": "stream",
     "text": [
      "<class 'pandas.core.frame.DataFrame'>\n",
      "RangeIndex: 978305 entries, 0 to 978304\n",
      "Data columns (total 11 columns):\n",
      " #   Column     Non-Null Count   Dtype  \n",
      "---  ------     --------------   -----  \n",
      " 0   tconst     978305 non-null  object \n",
      " 1   titleType  978305 non-null  object \n",
      " 2   title      978303 non-null  object \n",
      " 3   isAdult    978305 non-null  bool   \n",
      " 4   year       978305 non-null  float64\n",
      " 5   runtime    624379 non-null  object \n",
      " 6   genres     888957 non-null  object \n",
      " 7   rating     469310 non-null  float64\n",
      " 8   numVotes   469310 non-null  float64\n",
      " 9   directors  632265 non-null  object \n",
      " 10  actors     701124 non-null  object \n",
      "dtypes: bool(1), float64(3), object(7)\n",
      "memory usage: 75.6+ MB\n"
     ]
    }
   ],
   "source": [
    "df_title_ratings.columns = ['tconst', 'rating', 'numVotes']\n",
    "df_merged = pd.merge(df_title_basics, df_title_ratings, on='tconst', how='left')\n",
    "df_merged = pd.merge(df_merged, df_title_directors, on='tconst', how='left')\n",
    "df_merged = pd.merge(df_merged, df_title_actors, on='tconst', how='left')\n",
    "df_merged['isAdult'] = df_merged['isAdult'].astype('bool')\n",
    "df_merged.info()"
   ]
  },
  {
   "cell_type": "markdown",
   "id": "60e03f08-44d0-4121-a8eb-1ce0ae77fc0a",
   "metadata": {},
   "source": [
    "### Drop More Titles (without directors and without actors)"
   ]
  },
  {
   "cell_type": "code",
   "execution_count": 19,
   "id": "64976dac-e246-4de8-a263-f80222cb3ee0",
   "metadata": {
    "tags": []
   },
   "outputs": [
    {
     "data": {
      "text/plain": [
       "495542"
      ]
     },
     "execution_count": 19,
     "metadata": {},
     "output_type": "execute_result"
    }
   ],
   "source": [
    "# drop rows with no directors or actors\n",
    "df_merged.dropna(subset=['directors'], inplace=True)\n",
    "df_merged.dropna(subset=['actors'], inplace=True)\n",
    "df_merged.shape[0]"
   ]
  },
  {
   "cell_type": "markdown",
   "id": "cd38d45e-af19-4702-ab9f-e1ab2de767c1",
   "metadata": {},
   "source": [
    "### Drop Lower Rated Titles (and titles with low number of ratings)"
   ]
  },
  {
   "cell_type": "code",
   "execution_count": 20,
   "id": "931992e7-6221-4697-b7e4-55dcd0e03fd5",
   "metadata": {
    "tags": []
   },
   "outputs": [
    {
     "data": {
      "text/plain": [
       "27910"
      ]
     },
     "execution_count": 20,
     "metadata": {},
     "output_type": "execute_result"
    }
   ],
   "source": [
    "df_merged = df_merged[df_merged['numVotes'] > 2000]\n",
    "df_merged = df_merged[df_merged['rating'] > 4.0]\n",
    "df_merged.shape[0]"
   ]
  },
  {
   "cell_type": "markdown",
   "id": "296554f2-babd-4f7e-9250-8e911a2a04ec",
   "metadata": {
    "tags": []
   },
   "source": [
    "### Get Plot from TMDB"
   ]
  },
  {
   "cell_type": "markdown",
   "id": "189a8cce-023f-4541-9474-2c05520c1fc3",
   "metadata": {},
   "source": [
    "#### Define Function to Get Plot"
   ]
  },
  {
   "cell_type": "code",
   "execution_count": 21,
   "id": "74194b18-cee9-45f7-8c81-f505fb9f74ba",
   "metadata": {
    "tags": []
   },
   "outputs": [],
   "source": [
    "from time import sleep\n",
    "tmdb = TMDb(key=\"xxxxxxxxxxxxxxxxxxxxxxxxxxxxxxxx\", language=\"en-US\", region=\"US\")\n",
    "def get_overview(imdb_id):\n",
    "    title =  tmdb.find().by_imdb(imdb_id)\n",
    "    sleep(0.025)\n",
    "    if title.movie_results:\n",
    "        return title.movie_results[0].overview\n",
    "    if  title.tv_results:\n",
    "        return title.tv_results[0].overview\n",
    "    return"
   ]
  },
  {
   "cell_type": "markdown",
   "id": "2a50dcf8-eae2-4894-9764-6be0fd7f3f49",
   "metadata": {},
   "source": [
    "#### Get Plot for All Remaining Titles"
   ]
  },
  {
   "cell_type": "code",
   "execution_count": 22,
   "id": "f79e70a1-4bf0-4374-92fa-cc5bb0a5d1e5",
   "metadata": {
    "tags": []
   },
   "outputs": [
    {
     "name": "stdout",
     "output_type": "stream",
     "text": [
      "<class 'pandas.core.frame.DataFrame'>\n",
      "Index: 27910 entries, 106 to 978292\n",
      "Data columns (total 12 columns):\n",
      " #   Column     Non-Null Count  Dtype  \n",
      "---  ------     --------------  -----  \n",
      " 0   tconst     27910 non-null  object \n",
      " 1   titleType  27910 non-null  object \n",
      " 2   title      27910 non-null  object \n",
      " 3   isAdult    27910 non-null  bool   \n",
      " 4   year       27910 non-null  float64\n",
      " 5   runtime    27894 non-null  object \n",
      " 6   genres     27907 non-null  object \n",
      " 7   rating     27910 non-null  float64\n",
      " 8   numVotes   27910 non-null  float64\n",
      " 9   directors  27910 non-null  object \n",
      " 10  actors     27910 non-null  object \n",
      " 11  plot       27780 non-null  object \n",
      "dtypes: bool(1), float64(3), object(8)\n",
      "memory usage: 2.6+ MB\n"
     ]
    }
   ],
   "source": [
    "df_subset = df_merged\n",
    "df_subset['plot'] = df_subset['tconst'].map(get_overview)\n",
    "df_subset.info()"
   ]
  },
  {
   "cell_type": "markdown",
   "id": "07b06c1d-2351-4cef-a5b0-72ca6cbfd23f",
   "metadata": {},
   "source": [
    "#### Drop Titles with No Plot"
   ]
  },
  {
   "cell_type": "code",
   "execution_count": 23,
   "id": "a6606566-46aa-4d91-9b4b-e0becb86da7e",
   "metadata": {
    "tags": []
   },
   "outputs": [
    {
     "name": "stderr",
     "output_type": "stream",
     "text": [
      "/tmp/ipykernel_9845/2992180993.py:1: FutureWarning: A value is trying to be set on a copy of a DataFrame or Series through chained assignment using an inplace method.\n",
      "The behavior will change in pandas 3.0. This inplace method will never work because the intermediate object on which we are setting values always behaves as a copy.\n",
      "\n",
      "For example, when doing 'df[col].method(value, inplace=True)', try using 'df.method({col: value}, inplace=True)' or df[col] = df[col].method(value) instead, to perform the operation inplace on the original object.\n",
      "\n",
      "\n",
      "  df_subset['plot'].replace('', np.nan, inplace=True)\n"
     ]
    },
    {
     "data": {
      "text/plain": [
       "27711"
      ]
     },
     "execution_count": 23,
     "metadata": {},
     "output_type": "execute_result"
    }
   ],
   "source": [
    "df_subset['plot'].replace('', np.nan, inplace=True)\n",
    "df_subset.dropna(subset=['plot'], inplace=True)\n",
    "df_subset.shape[0]"
   ]
  },
  {
   "cell_type": "markdown",
   "id": "3c368c90-388b-405f-9dad-8fd9db03ffe8",
   "metadata": {
    "tags": []
   },
   "source": [
    "### Generate Vector Embedding for Plot"
   ]
  },
  {
   "cell_type": "markdown",
   "id": "636b200c-1733-45d1-ac1c-9f0f2a7cbf2b",
   "metadata": {
    "tags": []
   },
   "source": [
    "#### Define Function to Query Bedrock for Vector Embedding"
   ]
  },
  {
   "cell_type": "code",
   "execution_count": 24,
   "id": "ed8ffac7-4272-4317-b663-3c957f15b86f",
   "metadata": {
    "tags": []
   },
   "outputs": [],
   "source": [
    "bedrock_runtime = boto3.client('bedrock-runtime')\n",
    "\n",
    "def get_text_embedding(text, dimensions=512, normalize=True):\n",
    "    if not isinstance(text, str):\n",
    "        return \"\"\n",
    "    try:\n",
    "        body = json.dumps({\"inputText\": text, \"dimensions\" : dimensions, \"normalize\": normalize})\n",
    "        modelId = \"amazon.titan-embed-text-v2:0\"\n",
    "        accept = \"application/json\"\n",
    "        contentType = \"application/json\"\n",
    "\n",
    "        response = bedrock_runtime.invoke_model(\n",
    "            body=body, modelId=modelId, accept=accept, contentType=contentType\n",
    "        )\n",
    "        response_body = json.loads(response.get(\"body\").read())\n",
    "        return(response_body.get(\"embedding\"))\n",
    "    except botocore.exceptions.ClientError as error:\n",
    "        print(text)\n",
    "        if error.response['Error']['Code'] == 'AccessDeniedException':\n",
    "               print(f\"\\x1b[41m{error.response['Error']['Message']}\\\n",
    "                    \\nTo troubeshoot this issue please refer to the following resources.\\\n",
    "                     \\nhttps://docs.aws.amazon.com/IAM/latest/UserGuide/troubleshoot_access-denied.html\\\n",
    "                     \\nhttps://docs.aws.amazon.com/bedrock/latest/userguide/security-iam.html\\x1b[0m\\n\")\n",
    "\n",
    "        else:\n",
    "            print(text)\n",
    "            raise error"
   ]
  },
  {
   "cell_type": "markdown",
   "id": "820114ab-2689-432d-b567-769f7f38de72",
   "metadata": {},
   "source": [
    "#### Add Vector Embedding to Each Title"
   ]
  },
  {
   "cell_type": "code",
   "execution_count": 25,
   "id": "8f8adb31-34f1-4605-a24a-5b7a79ccc71d",
   "metadata": {
    "tags": []
   },
   "outputs": [
    {
     "name": "stdout",
     "output_type": "stream",
     "text": [
      "<class 'pandas.core.frame.DataFrame'>\n",
      "Index: 27711 entries, 106 to 978292\n",
      "Data columns (total 13 columns):\n",
      " #   Column     Non-Null Count  Dtype  \n",
      "---  ------     --------------  -----  \n",
      " 0   tconst     27711 non-null  object \n",
      " 1   titleType  27711 non-null  object \n",
      " 2   title      27711 non-null  object \n",
      " 3   isAdult    27711 non-null  bool   \n",
      " 4   year       27711 non-null  float64\n",
      " 5   runtime    27704 non-null  object \n",
      " 6   genres     27710 non-null  object \n",
      " 7   rating     27711 non-null  float64\n",
      " 8   numVotes   27711 non-null  float64\n",
      " 9   directors  27711 non-null  object \n",
      " 10  actors     27711 non-null  object \n",
      " 11  plot       27711 non-null  object \n",
      " 12  v_plot     27711 non-null  object \n",
      "dtypes: bool(1), float64(3), object(9)\n",
      "memory usage: 2.8+ MB\n"
     ]
    }
   ],
   "source": [
    "df_subset[\"v_plot\"] = df_subset[\"plot\"].map(get_text_embedding)\n",
    "df_subset.info()"
   ]
  },
  {
   "cell_type": "code",
   "execution_count": 26,
   "id": "9346098c-99f0-495b-a0b4-a2b4eee7561b",
   "metadata": {
    "tags": []
   },
   "outputs": [
    {
     "data": {
      "text/html": [
       "<div>\n",
       "<style scoped>\n",
       "    .dataframe tbody tr th:only-of-type {\n",
       "        vertical-align: middle;\n",
       "    }\n",
       "\n",
       "    .dataframe tbody tr th {\n",
       "        vertical-align: top;\n",
       "    }\n",
       "\n",
       "    .dataframe thead th {\n",
       "        text-align: right;\n",
       "    }\n",
       "</style>\n",
       "<table border=\"1\" class=\"dataframe\">\n",
       "  <thead>\n",
       "    <tr style=\"text-align: right;\">\n",
       "      <th></th>\n",
       "      <th>tconst</th>\n",
       "      <th>titleType</th>\n",
       "      <th>title</th>\n",
       "      <th>isAdult</th>\n",
       "      <th>year</th>\n",
       "      <th>runtime</th>\n",
       "      <th>genres</th>\n",
       "      <th>rating</th>\n",
       "      <th>numVotes</th>\n",
       "      <th>directors</th>\n",
       "      <th>actors</th>\n",
       "      <th>plot</th>\n",
       "      <th>v_plot</th>\n",
       "    </tr>\n",
       "  </thead>\n",
       "  <tbody>\n",
       "    <tr>\n",
       "      <th>106</th>\n",
       "      <td>tt0027260</td>\n",
       "      <td>movie</td>\n",
       "      <td>After the Thin Man</td>\n",
       "      <td>False</td>\n",
       "      <td>1936.0</td>\n",
       "      <td>112</td>\n",
       "      <td>Comedy,Crime,Mystery</td>\n",
       "      <td>7.6</td>\n",
       "      <td>12211.0</td>\n",
       "      <td>W.S. Van Dyke</td>\n",
       "      <td>William Powell, Myrna Loy, James Stewart, Elis...</td>\n",
       "      <td>Nick and Nora Charles investigate when Nora's ...</td>\n",
       "      <td>[-0.112098925, 0.0368897, -0.00024240141, -0.0...</td>\n",
       "    </tr>\n",
       "    <tr>\n",
       "      <th>121</th>\n",
       "      <td>tt0027286</td>\n",
       "      <td>movie</td>\n",
       "      <td>The Amazing Adventure</td>\n",
       "      <td>False</td>\n",
       "      <td>1936.0</td>\n",
       "      <td>61</td>\n",
       "      <td>Comedy,Drama,Romance</td>\n",
       "      <td>6.3</td>\n",
       "      <td>2193.0</td>\n",
       "      <td>Alfred Zeisler</td>\n",
       "      <td>Cary Grant, Mary Brian, Peter Gawthorne, Henry...</td>\n",
       "      <td>A bored millionaire wagers his doctor that he ...</td>\n",
       "      <td>[-0.11646503, -0.016336221, 0.022670673, -0.11...</td>\n",
       "    </tr>\n",
       "    <tr>\n",
       "      <th>134</th>\n",
       "      <td>tt0027300</td>\n",
       "      <td>movie</td>\n",
       "      <td>Anthony Adverse</td>\n",
       "      <td>False</td>\n",
       "      <td>1936.0</td>\n",
       "      <td>141</td>\n",
       "      <td>Adventure,Drama,Romance</td>\n",
       "      <td>6.3</td>\n",
       "      <td>2047.0</td>\n",
       "      <td>Mervyn LeRoy</td>\n",
       "      <td>Fredric March, Olivia de Havilland, Donald Woo...</td>\n",
       "      <td>Based on the novel by Hervey Allen, this expan...</td>\n",
       "      <td>[-0.10065765, 0.01913084, -0.029284902, 0.0194...</td>\n",
       "    </tr>\n",
       "    <tr>\n",
       "      <th>158</th>\n",
       "      <td>tt0027336</td>\n",
       "      <td>movie</td>\n",
       "      <td>The Lower Depths</td>\n",
       "      <td>False</td>\n",
       "      <td>1936.0</td>\n",
       "      <td>90</td>\n",
       "      <td>Crime,Drama,Romance</td>\n",
       "      <td>7.5</td>\n",
       "      <td>3704.0</td>\n",
       "      <td>Jean Renoir</td>\n",
       "      <td>Jean Gabin, Suzy Prim, Louis Jouvet, Jany Holt...</td>\n",
       "      <td>Inhabitants of a flophouse struggle to survive...</td>\n",
       "      <td>[-0.049684554, 0.120132804, 0.0017727931, -0.0...</td>\n",
       "    </tr>\n",
       "    <tr>\n",
       "      <th>180</th>\n",
       "      <td>tt0027367</td>\n",
       "      <td>movie</td>\n",
       "      <td>Black Legion</td>\n",
       "      <td>False</td>\n",
       "      <td>1937.0</td>\n",
       "      <td>83</td>\n",
       "      <td>Crime,Drama,Film-Noir</td>\n",
       "      <td>6.9</td>\n",
       "      <td>3940.0</td>\n",
       "      <td>Archie Mayo</td>\n",
       "      <td>Humphrey Bogart, Ann Sheridan, Dick Foran, Eri...</td>\n",
       "      <td>When a hard-working machinist loses a promotio...</td>\n",
       "      <td>[-0.09975542, 0.11154916, 0.009889546, -0.0111...</td>\n",
       "    </tr>\n",
       "  </tbody>\n",
       "</table>\n",
       "</div>"
      ],
      "text/plain": [
       "        tconst titleType                  title  isAdult    year runtime  \\\n",
       "106  tt0027260     movie     After the Thin Man    False  1936.0     112   \n",
       "121  tt0027286     movie  The Amazing Adventure    False  1936.0      61   \n",
       "134  tt0027300     movie        Anthony Adverse    False  1936.0     141   \n",
       "158  tt0027336     movie       The Lower Depths    False  1936.0      90   \n",
       "180  tt0027367     movie           Black Legion    False  1937.0      83   \n",
       "\n",
       "                      genres  rating  numVotes       directors  \\\n",
       "106     Comedy,Crime,Mystery     7.6   12211.0   W.S. Van Dyke   \n",
       "121     Comedy,Drama,Romance     6.3    2193.0  Alfred Zeisler   \n",
       "134  Adventure,Drama,Romance     6.3    2047.0    Mervyn LeRoy   \n",
       "158      Crime,Drama,Romance     7.5    3704.0     Jean Renoir   \n",
       "180    Crime,Drama,Film-Noir     6.9    3940.0     Archie Mayo   \n",
       "\n",
       "                                                actors  \\\n",
       "106  William Powell, Myrna Loy, James Stewart, Elis...   \n",
       "121  Cary Grant, Mary Brian, Peter Gawthorne, Henry...   \n",
       "134  Fredric March, Olivia de Havilland, Donald Woo...   \n",
       "158  Jean Gabin, Suzy Prim, Louis Jouvet, Jany Holt...   \n",
       "180  Humphrey Bogart, Ann Sheridan, Dick Foran, Eri...   \n",
       "\n",
       "                                                  plot  \\\n",
       "106  Nick and Nora Charles investigate when Nora's ...   \n",
       "121  A bored millionaire wagers his doctor that he ...   \n",
       "134  Based on the novel by Hervey Allen, this expan...   \n",
       "158  Inhabitants of a flophouse struggle to survive...   \n",
       "180  When a hard-working machinist loses a promotio...   \n",
       "\n",
       "                                                v_plot  \n",
       "106  [-0.112098925, 0.0368897, -0.00024240141, -0.0...  \n",
       "121  [-0.11646503, -0.016336221, 0.022670673, -0.11...  \n",
       "134  [-0.10065765, 0.01913084, -0.029284902, 0.0194...  \n",
       "158  [-0.049684554, 0.120132804, 0.0017727931, -0.0...  \n",
       "180  [-0.09975542, 0.11154916, 0.009889546, -0.0111...  "
      ]
     },
     "execution_count": 26,
     "metadata": {},
     "output_type": "execute_result"
    }
   ],
   "source": [
    "df_subset.head()"
   ]
  },
  {
   "cell_type": "markdown",
   "id": "1b61ada5-cbe7-4041-9342-f4a98c02681c",
   "metadata": {},
   "source": [
    "## MemoryDB Ingestion"
   ]
  },
  {
   "cell_type": "markdown",
   "id": "9a6fe612-8068-4349-9f6b-26469fc5eb23",
   "metadata": {},
   "source": [
    "### Define Functions for Index Creation"
   ]
  },
  {
   "cell_type": "code",
   "execution_count": 27,
   "id": "09b05c28-08cc-4ba9-a642-3fd82f12a084",
   "metadata": {
    "tags": []
   },
   "outputs": [],
   "source": [
    "def generate_key(prefix = \"\"):\n",
    "    return prefix + str(uuid.uuid4())\n",
    "\n",
    "def create_hnsw_index(rc, index_name, vector_field_name, number_of_vectors, vector_dimensions=512, distance_metric='L2', M=16, EF=512, key_prefix=''):\n",
    "    # Create the index\n",
    "    try:\n",
    "        rc.ft(index_name).create_index([\n",
    "            VectorField(vector_field_name, \"HNSW\", {\n",
    "                \"TYPE\": \"FLOAT32\",\n",
    "                \"DIM\": vector_dimensions,\n",
    "                \"DISTANCE_METRIC\": distance_metric,\n",
    "                \"INITIAL_CAP\": number_of_vectors,\n",
    "                \"M\": M,\n",
    "                \"EF_CONSTRUCTION\": EF\n",
    "            }),\n",
    "            TagField(\"isAdult\"),\n",
    "            TagField(\"titleType\"),\n",
    "            TagField(\"directors\"),\n",
    "            NumericField(\"rating\"),\n",
    "            TagField(\"genres\"),\n",
    "            TextField(\"plot\"),\n",
    "            TextField(\"title\"),\n",
    "            NumericField(\"runtime\"),\n",
    "            TagField(\"actors\"),\n",
    "            NumericField(\"year\")\n",
    "        ], definition=IndexDefinition(prefix=[key_prefix]))\n",
    "        print(f\"Index {index_name} created successfully.\")\n",
    "    except ResponseError as e:\n",
    "        print(f\"Index {index_name} created previously: {str(e)}\")"
   ]
  },
  {
   "cell_type": "markdown",
   "id": "c0573f44-8a1f-48d6-9cf8-111c69db3f56",
   "metadata": {
    "tags": []
   },
   "source": [
    "### Define Variables for MemoryDB Index"
   ]
  },
  {
   "cell_type": "code",
   "execution_count": 28,
   "id": "7519b5ea-d132-496f-a8d5-dae34bf13aee",
   "metadata": {
    "tags": []
   },
   "outputs": [
    {
     "name": "stdout",
     "output_type": "stream",
     "text": [
      "Creating Index imdb_hnsw_index on Field v_plot expecting 27,711 vectors\n"
     ]
    }
   ],
   "source": [
    "KEY_PREFIX = \"movies:\"\n",
    "index_name = \"imdb_hnsw_index\"\n",
    "vector_field_name = \"v_plot\"\n",
    "number_of_vectors = len(df_subset)\n",
    "print(f\"Creating Index {index_name} on Field {vector_field_name} expecting {number_of_vectors:,} vectors\")"
   ]
  },
  {
   "cell_type": "markdown",
   "id": "c065955f-ad5f-4ce9-9173-ce10854b7ce3",
   "metadata": {},
   "source": [
    "### Create Index (and delete existing items)"
   ]
  },
  {
   "cell_type": "code",
   "execution_count": 29,
   "id": "d26b6cb6-83a4-4317-b6ee-18eeb1a9d7e0",
   "metadata": {
    "tags": []
   },
   "outputs": [
    {
     "name": "stdout",
     "output_type": "stream",
     "text": [
      "Index imdb_hnsw_index created successfully.\n",
      "CPU times: user 10.4 ms, sys: 0 ns, total: 10.4 ms\n",
      "Wall time: 306 ms\n"
     ]
    }
   ],
   "source": [
    "%%time\n",
    "# Create index in MemoryDB\n",
    "rc.ft(index_name).dropindex()\n",
    "for key in rc.scan_iter(\"movies:*\"):\n",
    "    rc.delete(key)\n",
    "create_hnsw_index(rc, index_name, vector_field_name, number_of_vectors, \n",
    "                  vector_dimensions=512, distance_metric='Cosine', M=16, EF=512, key_prefix=KEY_PREFIX)"
   ]
  },
  {
   "cell_type": "markdown",
   "id": "bc70a1ca-2a7a-4faf-9207-284b805cd6b2",
   "metadata": {},
   "source": [
    "### Load Data into MemoryDB"
   ]
  },
  {
   "cell_type": "code",
   "execution_count": 30,
   "id": "9526933e-b188-445e-97aa-6627357dbb79",
   "metadata": {
    "tags": []
   },
   "outputs": [
    {
     "name": "stdout",
     "output_type": "stream",
     "text": [
      "Data indexed successfully.\n",
      "CPU times: user 4.35 s, sys: 93.6 ms, total: 4.44 s\n",
      "Wall time: 24.3 s\n"
     ]
    }
   ],
   "source": [
    "%%time\n",
    "# Load data into MemoryDB\n",
    "BATCH_SIZE = 100\n",
    "pipe = rc.pipeline()\n",
    "for index, row in df_subset.iterrows():\n",
    "    key = generate_key(prefix=KEY_PREFIX)\n",
    "    v_plot = np.array(row['v_plot'], dtype=np.float32).tobytes()\n",
    "    pipe.hset(key, mapping={\n",
    "        'directors': row['directors'],\n",
    "        'rating': row['rating'],\n",
    "        'genres': row['genres'],\n",
    "        'plot': row['plot'],\n",
    "        'title': row['title'],\n",
    "        'runtime': row['runtime'],\n",
    "        'actors': row['actors'],\n",
    "        'year': row['year'],\n",
    "        'titleType': row['titleType'],\n",
    "        'isAdult': str(row['isAdult']).lower(),\n",
    "        'v_plot': v_plot\n",
    "    })\n",
    "    if index % BATCH_SIZE == 0 or index == number_of_vectors - 1:\n",
    "        pipe.execute()\n",
    "        pipe = rc.pipeline()\n",
    "print(\"Data indexed successfully.\")"
   ]
  },
  {
   "cell_type": "markdown",
   "id": "2c0a9a11-3c51-4c54-8233-425d13718713",
   "metadata": {},
   "source": [
    "### Find Random Key and Fetch Value"
   ]
  },
  {
   "cell_type": "code",
   "execution_count": 31,
   "id": "e7dabd61-67c9-4c0c-a56c-aec60210af57",
   "metadata": {
    "tags": []
   },
   "outputs": [
    {
     "name": "stdout",
     "output_type": "stream",
     "text": [
      "movies:0d762b6b-f119-45ad-be15-120aebce3703\n",
      "{b'actors': b'Aly Michalka, Vanessa Hudgens, Gaelan Connell, Scott Porter, Ryan Donowho, Charlie Saxton, Lisa Kudrow, Tim Jo, Elvy, Lisa Chung', b'titleType': b'movie', b'title': b'Bandslam', b'rating': b'6.3', b'year': b'2009.0', b'plot': b'A high school social outcast and the popular girl bond through a shared love of music.', b'isAdult': b'false', b'runtime': b'111', b'genres': b'Comedy,Drama,Family', b'v_plot': b'~\\x04\\x18\\xbc\\x87\\xc4p<j\\xf3\\xe0\\xbc\\x1e9f\\xbd\\xe7)\\xd8:*\\xbe\\xaf\\xbd\\x1e\\x9f\\xb0<\\xa4\\xfbJ\\xbd\\xb1\\x80\\x94=\\x9c\\xd5\\'\\xbd/\\xb7\\x0b\\xbd\\xb5\\x13&\\xbcT\\x14\\t\\xbdP\\xb5\\xe2<\\xe7)X=T\\xae>\\xbc\\xceQ\\xa4\\xbc\\x1a\\x0c\\x9f\\xbd\\x8fP^=\\xbd9I\\xbd\\xa4\\xfbJ=\\x87*;\\xbd\\r\\xed\\x9f\\xbcYA\\xd0<iY\\xab\\xbd\\xd3~k\\xbdP\\x1b-=\\xe3\\x96\\xc6\\xbdH\\xf5\\x89=]:,\\xbde`O=\\xbd\\x9f\\x93\\xbc\\x00\\xce =\"\\xcc\\xf7\\xbdP\\xb5\\xe2=\\xa8\\xf4\\xa6=7wd=\\xd7\\x11}=\\xa9\\x8e\\\\=\\x93I:=\\xec\"4<e`\\xcf<D\\xfc-\\xban\\x86r<vx\\xaa\\xbc\\xa4a\\x95<\\xd3~\\xeb<\\xb9\\x0c\\x02=\\x8f\\xb6(=e`O<~\\x04\\x18>\\r\\xed\\x9f;\\xce\\xeb\\xd9;\\xec\"4<T\\x14\\t\\xbdD\\xfc\\xad=P\\xb5b<a\\xcd\\xbd<\\xbd\\x9f\\x13\\xbd\"2B\\xbd\\xdbp#<\\xca\\xbe\\x12=\\x1e\\x9f\\xb0\\xbc\\x1e9\\xe6\\xba\\xce\\xeb\\xd9<3J\\x9d\\xbd\\xe7\\x8f\\xa2<\\xbd9I<UH\\xf4<\\x01h\\xd6\\xbc\\xa8\\xf4&\\xbd\\xd3~\\xeb<\\xec\\xbci\\xbc\\xa9\\x8e\\\\=\\xf4\\xae!\\xbe\\xec\\xbci\\xbd\\x8b#\\x97\\xbc\\xc6+\\x81:P\\x1b-\\xbd\\xb1\\x80\\x94=*\\xbe/<&\\xc5S<\\x8fP^\\xbc\\xe3\\xfc\\x10<\\xd7\\x11}=\\t\\x8ey\\xbc\\xc6+\\x81=zq\\x06>T\\xae>=~\\x04\\x18\\xbd\\xa0\\x02\\xef:\\xd3~\\xeb;\\x9c\\xd5\\'\\xbd\\xd7\\x11}=3J\\x9d<\\x98\\xdc\\xcb\\xbd\\xac\\xed\\x02\\xbd\\x98\\xdcK\\xbd;p\\xc0;\\xa0h\\xb9;\\tZ\\x8e\\xbc\\xe3\\x96F=\\xf0O\\xfb<n\\x86\\xf2<\\xbd9\\xc9<\\xd2J\\x00>iY+=\\xfc:\\x8f=&+\\x9e<zq\\x06\\xbc\\xbd\\x9f\\x93=zq\\x86=\\xa8\\xf4&\\xbd\\xc6\\xc56\\xbd\"\\xccw=\\x98\\xdc\\xcb\\xbde`\\xcf=iY+<P\\x1b\\xad\\xbb\\x87\\x90\\x05\\xbd\\x01hV\\xbd\"\\xcc\\xf7\\xbc\\x87*\\xbb\\xbb;\\xd6\\x8a=T\\x14\\x89=\\xb5\\x13\\xa6\\xbc\\t\\x8e\\xf9<\\x9c\\xd5\\xa7\\xbc\\xbe\\xd3\\xfe\\xbc*\\xbe/<\\x831_=\\tZ\\x8e=\\x1e9\\xe6<T\\xae\\xbe<;p@\\xbd\\xa0\\x02o<nR\\x87\\xbc\\xf4\\xae\\xa1:\\x1e9f<\\x01hV\\xbdj\\xf3`\\xbd\\x7f\\x9e\\xcd\\xbcY\\xa7\\x1a=\\xa0h9\\xbd\\xec\"4\\xbdnR\\x07\\xbd\\xfc\\xd4D<H\\xf5\\t=\\x15y\\x8d<\\xd2J\\x80=r\\xe5\\x98;\\xca\\xbe\\x92=\\x98B\\x16<\\x87\\x90\\x05\\xbd\\xd2J\\x00=]:\\xac:\\xd2\\xe4\\xb5\\xbae`\\xcf\\xbdn\\x86r\\xbd\\xc2\\xcc\\xda<P\\x1b-=n\\x86\\xf2:\\xd2J\\x00=/\\xb7\\x0b\\xbd\\xa9\\x8e\\\\\\xbd3J\\x1d\\xbc\\x98\\xdc\\xcb\\xbc\\xbd9\\xc9<\\xf0O{\\xbd\\x87\\x90\\x05=\\xec\\xbci\\xbc\\x16\\x13C=\\xdf\\x035\\xbd\\xe7)\\xd8<r\\xe5\\x18\\xbcj\\xf3`;iY+\\xbd/\\xb7\\x0b\\xbd\\xa0\\xce\\x03=\\xec\\xbci<\\xa0h\\xb9=\"2\\xc2\\xbcH\\xf5\\x89\\xbd\\xb5\\x13&<\\xa0\\x02o\\xbd\\xa0\\x02\\xef<\\x11\\x801\\xbde`O<Y\\xa7\\x9a=\"2B\\xbd\\xfc\\xd4\\xc4;\\xa0h\\xb9=\\xbe\\xd3~\\xbd\\xd2J\\x80\\xbdn\\x86r=;p@\\xbb\\xf8A\\xb3=\\xdbp\\xa3\\xbd\\xb9\\x0c\\x82\\xbd;p\\xc0=\\x8fP\\xde<\\xc2\\xcc\\xda\\xbd\\xc6\\xc5\\xb6;\\x87*\\xbb\\xbc\\xb5\\x13&=;\\n\\xf6\\xbc\\xd7\\x11}\\xbc\\xec\"4=\\xa0\\xce\\x03>\\xa0\\x02\\xef\\xbc\\x8b#\\x97\\xbd\\xc6\\xc5\\xb6\\xbd\\x87\\x90\\x85\\xbb\\xf4\\xae\\xa1;\\xfc:\\x8f;\\t\\x8e\\xf9;\"\\xccw\\xbd\\tZ\\x0e\\xbde`O<\\xd7w\\xc7\\xbcY\\xa7\\x1a\\xbd\\xf0\\x1b\\x90=\\xb1\\x80\\x94=\\xbd9\\xc9\\xbc\\x7f\\x9e\\xcd\\xbc\\x01h\\xd6;\\x98B\\x16\\xbd\\x8b#\\x97=\\xbd\\x9f\\x93\\xbcH\\xf5\\x89=;\\n\\xf6<\\x1e9f\\xbd\\xd3~k=\\x98\\xdcK\\xbd~\\x04\\x18\\xbd\\xac\\xed\\x82=\\tZ\\x8e\\xbc\\xf0O{<\\xd2\\xe4\\xb5\\xb9\\xd3~k\\xbcL\\x88\\x9b\\xbc\\x16\\x13C=\\xdf\\x03\\xb5<\\xd7w\\xc7\\xbb\\xad\\x87\\xb8\\xbdn\\x86r=\\xc6+\\x81\\xba\\xe3\\x96F=7wd=~\\x04\\x18\\xbe7w\\xe4<\\xc2\\xccZ=zq\\x06\\xbd\\x1e9f\\xbd\\xf8A\\xb3\\xbb\\xa0h9;T\\xae\\xbe\\xbd\\xf0O\\xfb;/\\xb7\\x8b<a\\xcd=;\\x16\\x13\\xc3<j\\xf3`<\\xec\\xbc\\xe9<Y\\xa7\\x9a\\xbbr\\xe5\\x18=\\xd7wG<\\xe3\\xfc\\x10\\xbca\\xcd==\\r\\x87U\\xbd;\\n\\xf6<UHt<~\\x04\\x98\\xbc\\x8f\\xb6\\xa8<\\xa0\\x02o<iY\\xab<\\x9c\\xd5\\'\\xbb]:,=\\xd6\\xdd\\x91\\xbd\"\\x98\\x8c\\xbc\\xb5\\x13&\\xbd\\x8b#\\x97=\\xc6+\\x81\\xbc\"2B\\xbd*\\xbe/\\xbc*\\xbe\\xaf\\xbcUHt\\xbbP\\x1b-\\xbd\\xa0h\\xb9\\xbc\\xa0h9\\xbciY\\xab=a\\xcd=\\xbb\\x87\\x90\\x85\\xbd\\x1e\\x9f0=UHt=\\xd2\\xe4\\xb5<YAP\\xbd\\x1e9\\xe6<T\\xae\\xbe=\\xa0\\x02\\xef\\xbc\\xe3\\x96F\\xbd;\\xd6\\n=\\xe3\\x96F\\xbcz\\x0b<=\\xd7wG<T\\x14\\x89\\xbc\\xa0\\x02\\xef:3J\\x1d<;p\\xc0\\xbc\\xa4\\xfbJ\\xbdD\\xfc\\xad\\xbb\\xf0O\\xfb<\\xe3\\xfc\\x10=\\xfc\\xd4D\\xbb;\\xd6\\n;\\x11\\x80\\xb1;\"\\xcc\\xf7\\xbc\\t\\x8ey\\xbd3J\\x1d\\xbc\"\\xccw\\xbd\"\\xccw\\xbc\\xb9@\\xed;&\\xc5S;\\xb9@m=\\x8fP\\xde<\\x00\\xce =H\\xf5\\x89\\xbd\\xa9\\x8e\\\\\\xbd\\xfc\\xd4\\xc4<\"\\x98\\x8c\\xbd\\x98\\xdcK\\xbdP\\xb5\\xe2\\xbbj\\xf3\\xe0\\xbcz\\x0b<=UHt\\xbc\\xa9\\x8e\\xdc;r\\xe5\\x98=z\\x0b<=\\x1e\\x9f\\xb0<\\xc6+\\x81\\xbd\\xd2J\\x00\\xbd\\xbd\\x9f\\x93<H\\xf5\\t=\\xec\"\\xb4\\xbb\\xb1\\x80\\x94\\xbd\\xf0O{=\\xa0\\xce\\x03\\xbc7w\\xe4<H\\xf5\\t=\\x98\\xdcK\\xbc\\xa0\\xce\\x83\\xbc\\xf8A3\\xbb\\x05a2<\\x1e9\\xe6;\\xd2\\xe4\\xb5<\\x16\\x13\\xc3=\\xec\\xbci\\xbd\\xb9\\x0c\\x02\\xbd3J\\x9d\\xbcT\\xae\\xbe<\\xec\\xbci=\\r\\xed\\x1f\\xbd\\x87*;\\xbd\\xceQ$=\\x8f\\xb6(\\xbd\\xfc:\\x8f=\\xb5\\x13\\xa6=\\xf4\\xae!\\xbd\\xec\"\\xb4\\xbc\\x16\\x13C=\\xbd\\x9f\\x13\\xbd\\x01hV\\xbc\\x8fP\\xde<\\xe7)\\xd8\\xbc\\x8f\\xb6(\\xbc7w\\xe4:\\x1e\\x9f0<\\xa0\\x02o=\\xa4\\xfb\\xca\\xbc\\xa4\\xfbJ=P\\x1b\\xad\\xbc\\xf4\\xae!=\\x9c\\xd5\\'\\xbd\\xf8A3\\xbbL\\x88\\x9b9YA\\xd0\\xbc\\xb5\\x13\\xa6\\xbbe`\\xcf;\"2B=\\xd6\\xdd\\x11\\xbdH\\xf5\\t\\xbc\\xa9\\x8e\\\\<Y\\xa7\\x9a;iY\\xab<\\xc6+\\x01\\xbda3\\x08\\xbd7w\\xe4<nR\\x07\\xbd\\x87\\x90\\x05=a\\xcd=\\xbc@\\x03\\xd2\\xbcr\\xe5\\x18=\\xbd9\\xc9\\xbcnR\\x07=\\x00\\xce\\xa0<\\xf0O{\\xbcH\\xf5\\x89\\xbc\\x87*;\\xbb\\x83\\x97\\xa9;\\x8b#\\x97\\xbd\\xd2\\xe45\\xbd\\xfc:\\x8f<\"\\x98\\x0c=~\\x04\\x98<\\xfc:\\x8f;j\\xf3`\\xbd@\\x03\\xd2\\xbb\\xfc\\xd4D<L\\x88\\x9b\\xbc\"\\xccw=\\x9c\\xd5\\xa7=\\x16\\x13C\\xbd\\xf8A\\xb3\\xbar\\xe5\\x98\\xbc*\\xbe/<\\xe3\\x96F=\\xb9\\x0c\\x82<@\\x03R\\xbb\"\\xcc\\xf7\\xbc3J\\x9d\\xbdn\\xec\\xbc\\xbc\\xbe\\xd3~\\xbb3J\\x1d=\\xb1\\x80\\x94=\\x16\\x13C\\xbc\\x00\\xce\\xa0=&+\\x9e<\\xfc:\\x0f\\xbc\\x15y\\x8d\\xbc\\xfc:\\x8f\\xbd\\xa4\\xfbJ;7wd=\\xc2\\xccZ\\xbd\\xe3\\x96F<\\xf0\\x1b\\x90;7\\xdd.;\\xb9\\xa6\\xb7=~\\x04\\x98<YAP<iY+=H\\xf5\\t<]:\\xac<\\x98\\xdcK\\xbd\\xe3\\xfc\\x10\\xbc\\xe3\\x96\\xc6\\xbczq\\x86\\xbc&\\xc5\\xd3\\xbb\\xc2\\xcc\\xda<P\\xb5b\\xbd/\\xb7\\x0b\\xbdiY\\xab\\xbc\\xca\\xbe\\x12=\\xc6+\\x01\\xbd\\r\\x87U<\\xb9\\x0c\\x02<\"\\x98\\x0c\\xbd\\xa0\\x02\\xef\\xbc\\xad\\x87\\xb8\\xbc\"2B;\\x9c\\xd5\\'\\xbc\\xbe\\xd3~\\xbc\\xb9\\xa67=\\xe7)X\\xbd\\xf0\\x1b\\x10\\xbc\"\\x98\\x8c<\\x7f\\x9eM\\xbd\\xd7\\x11}\\xbd\\xe3\\x96\\xc6\\xbc/\\xb7\\x8b<\\x87*;;\\x1a\\x0c\\x9f<\\x87\\x90\\x85\\xbd\\xfc\\xd4D=\\x1a\\x0c\\x1f\\xbdY\\xa7\\x1a\\xbc\\xe3\\xfc\\x10=\\xceQ$\\xbd\"2B=7\\xdd\\xae\\xbd\\xb9\\xa6\\xb7<\\xd7w\\xc7\\xbc\\x87\\x90\\x05>\\xc22%\\xbd\\xb9\\xa6\\xb7\\xbb\\x1a\\x0c\\x9f<\"2\\xc2:\\xbd9\\xc9<D\\xfc\\xad\\xbcYAP\\xbd\\x83\\x97\\xa9\\xbcT\\xae>;\\xd2J\\x80\\xbc\\xa9\\x8e\\xdc;D\\xfc\\xad</\\xb7\\x0b\\xbdr\\xe5\\x18=\"\\x98\\x8c\\xbc\\xf4\\xae!\\xbd\\tZ\\x0e=\\r\\xed\\x1f\\xbd\\xbd\\x9f\\x13<\\xd3~\\xeb<UH\\xf4<', b'directors': b'Todd Graff'}\n",
      "CPU times: user 1.45 ms, sys: 101 µs, total: 1.55 ms\n",
      "Wall time: 7.22 ms\n"
     ]
    }
   ],
   "source": [
    "%%time\n",
    "# Add a python script to find a random key that stats with the prefix and fetch the value and show it\n",
    "count = 0\n",
    "while True:\n",
    "    count += 1\n",
    "    keyname = rc.randomkey()\n",
    "    keyname = keyname.decode('utf-8')\n",
    "    print(str(keyname))\n",
    "    if keyname.startswith(KEY_PREFIX) == True:\n",
    "        print(rc.hgetall(keyname))\n",
    "        break\n",
    "    elif count > 10:\n",
    "        break"
   ]
  },
  {
   "cell_type": "markdown",
   "id": "3916ff33-23fa-4416-b3c2-ad78611fca30",
   "metadata": {},
   "source": [
    "### Query MemoryDB"
   ]
  },
  {
   "cell_type": "markdown",
   "id": "32a80cd0-bd88-4c03-82c5-9391d62df8dc",
   "metadata": {},
   "source": [
    "#### Define Functions"
   ]
  },
  {
   "cell_type": "code",
   "execution_count": 32,
   "id": "64d12247-b8a2-462e-a09d-746d0b009718",
   "metadata": {
    "tags": []
   },
   "outputs": [],
   "source": [
    "def similarity_search(redis_client, index_name, query_vector, filters=\"*\",top_n=1):\n",
    "    # Convert the query vector to bytes\n",
    "    query_vector_bytes = np.array(query_vector, dtype=np.float32).tobytes()\n",
    "    # Create the query\n",
    "    query = Query(f\"{filters}=>[KNN {top_n} @v_plot  $query_vec AS score ]\") \\\n",
    "        .sort_by(\"score\") \\\n",
    "        .return_fields(  \"titleType\", \"title\", \"year\", \"plot\", \"rating\", \"genres\", \"runtime\") \\\n",
    "        .paging(0, top_n) \\\n",
    "        .dialect(2)\n",
    "    params = {\n",
    "        \"query_vec\": query_vector_bytes\n",
    "    }\n",
    "    # Process the query\n",
    "    result = redis_client.ft(index_name).search(query, query_params=params)\n",
    "    return result\n",
    "def format_results(results):\n",
    "    for doc in results.docs:\n",
    "        doc_id = doc.id\n",
    "        titleType = doc.titleType\n",
    "        title = doc.title\n",
    "        year = doc.year\n",
    "        rating = doc.rating\n",
    "        genres = doc.genres\n",
    "        runtime = doc.runtime\n",
    "        print(f\"ID: {doc_id}, Title Type: {titleType}, Title: {title}, Year: {year}, Rating: {rating}, Genres: {genres}, Runtime: {str(datetime.timedelta(seconds=float(runtime)))}\")"
   ]
  },
  {
   "cell_type": "markdown",
   "id": "d1d4205d-2e3c-4bd7-aaf0-e3884ebd86ab",
   "metadata": {},
   "source": [
    "#### Get Random Title from Dataset"
   ]
  },
  {
   "cell_type": "code",
   "execution_count": 33,
   "id": "46c831ae-1859-444a-88f7-fea8cd8875d2",
   "metadata": {
    "tags": []
   },
   "outputs": [
    {
     "data": {
      "text/plain": [
       "49401    The Sword and the Sorcerer\n",
       "Name: title, dtype: object"
      ]
     },
     "execution_count": 33,
     "metadata": {},
     "output_type": "execute_result"
    }
   ],
   "source": [
    "randomdf = df_subset.sample()\n",
    "randomdf.get(\"title\")"
   ]
  },
  {
   "cell_type": "code",
   "execution_count": 34,
   "id": "ebae2b12-cee5-4cee-bdf1-1e4d419fbb9a",
   "metadata": {
    "tags": []
   },
   "outputs": [
    {
     "name": "stdout",
     "output_type": "stream",
     "text": [
      "tconst                                               tt0084749\n",
      "titleType                                                movie\n",
      "title                               The Sword and the Sorcerer\n",
      "isAdult                                                  False\n",
      "year                                                    1982.0\n",
      "runtime                                                     99\n",
      "genres                                Action,Adventure,Fantasy\n",
      "rating                                                     5.5\n",
      "numVotes                                                7657.0\n",
      "directors                                          Albert Pyun\n",
      "actors       Lee Horsley, Kathleen Beller, Simon MacCorkind...\n",
      "plot         A mercenary with a three-bladed sword rediscov...\n",
      "v_plot       [-0.024327628, -0.008590264, 0.012438703, -0.0...\n",
      "Name: 49401, dtype: object\n"
     ]
    }
   ],
   "source": [
    "selected_row = randomdf.iloc[0]\n",
    "print(selected_row)\n",
    "query_vector = selected_row['v_plot']"
   ]
  },
  {
   "cell_type": "markdown",
   "id": "0a3b6123-2996-4958-9c2f-2ee6b99e2362",
   "metadata": {},
   "source": [
    "#### Do Simple Similarity Search"
   ]
  },
  {
   "cell_type": "code",
   "execution_count": 35,
   "id": "52911c52-e4de-4d3b-8202-f459516e11fa",
   "metadata": {
    "tags": []
   },
   "outputs": [
    {
     "name": "stdout",
     "output_type": "stream",
     "text": [
      "CPU times: user 1.4 ms, sys: 97 µs, total: 1.5 ms\n",
      "Wall time: 49.1 ms\n"
     ]
    }
   ],
   "source": [
    "%%time\n",
    "results = similarity_search(rc, index_name, query_vector, top_n=15)"
   ]
  },
  {
   "cell_type": "code",
   "execution_count": 36,
   "id": "9df6f452-2190-4501-86c9-f016ff828102",
   "metadata": {
    "tags": []
   },
   "outputs": [
    {
     "name": "stdout",
     "output_type": "stream",
     "text": [
      "ID: movies:1be15283-502a-4b06-a2ca-e00dbb2cb36b, Title Type: movie, Title: The Sword and the Sorcerer, Year: 1982, Rating: 5.5, Genres: Action,Adventure,Fantasy, Runtime: 0:01:39\n",
      "ID: movies:273bdbbc-d1ae-4ab4-9f08-b383ae30a300, Title Type: movie, Title: Delgo, Year: 2008, Rating: 4.3, Genres: Adventure,Animation,Comedy, Runtime: 0:01:34\n",
      "ID: movies:5e0398e0-095e-44b9-bd69-824fe96b274d, Title Type: movie, Title: The Magic Sword, Year: 1962, Rating: 4.8, Genres: Adventure,Drama,Fantasy, Runtime: 0:01:20\n",
      "ID: movies:690b480a-0ad1-477b-8ce4-93c4c26ee399, Title Type: movie, Title: Crouching Tiger, Hidden Dragon, Year: 2000, Rating: 7.9, Genres: Action,Adventure,Drama, Runtime: 0:02:00\n",
      "ID: movies:aef0d9e6-9409-4fc9-a702-242c59efd3d8, Title Type: movie, Title: Cuba, Year: 1979, Rating: 5.6, Genres: Adventure,Romance,Thriller, Runtime: 0:02:02\n",
      "ID: movies:b036d78d-d81d-4ca0-9775-5d4781c97e34, Title Type: movie, Title: Kingdom of Heaven, Year: 2005, Rating: 7.3, Genres: Action,Adventure,Drama, Runtime: 0:02:24\n",
      "ID: movies:f6f3017a-efa0-4e5c-92b2-1eebdac2b9d0, Title Type: movie, Title: Samurai Fiction, Year: 1998, Rating: 7.2, Genres: Action,Adventure,Comedy, Runtime: 0:01:51\n",
      "ID: movies:1ec401c9-0e18-47c3-a14f-842075666a39, Title Type: movie, Title: Savior, Year: 1998, Rating: 7.2, Genres: Drama,War, Runtime: 0:01:43\n",
      "ID: movies:70995ab0-8467-4eae-967e-1511beb21c50, Title Type: movie, Title: Battle Beyond the Stars, Year: 1980, Rating: 5.5, Genres: Action,Adventure,Sci-Fi, Runtime: 0:01:44\n",
      "ID: movies:36f8e565-36f8-490e-9370-84713780cf0e, Title Type: movie, Title: Brancaleone at the Crusades, Year: 1970, Rating: 7.3, Genres: Adventure,Fantasy,History, Runtime: 0:01:56\n",
      "ID: movies:0aee7eb3-264b-4555-8804-5f4c113d199f, Title Type: tvMovie, Title: Fire & Ice, Year: 2008, Rating: 4.3, Genres: Adventure,Drama,Fantasy, Runtime: 0:01:24\n",
      "ID: movies:7f5d1bd4-1497-465f-8fa2-9a0867b6c534, Title Type: movie, Title: The Eagle Shooting Heroes, Year: 1993, Rating: 7, Genres: Action,Comedy,Fantasy, Runtime: 0:01:43\n",
      "ID: movies:4f2d1797-3f4e-4c0b-98cd-f1702e070dbb, Title Type: movie, Title: The One-Armed Swordsman, Year: 1967, Rating: 7.2, Genres: Action,Drama, Runtime: 0:01:55\n",
      "ID: movies:d5f96638-23ae-46fd-89d7-5da8d9556617, Title Type: movie, Title: Doctor Strange, Year: 2016, Rating: 7.5, Genres: Action,Adventure,Fantasy, Runtime: 0:01:55\n",
      "ID: movies:e0b7da33-659d-44f3-913d-0a687b3e350f, Title Type: movie, Title: The Thief of Bagdad, Year: 1940, Rating: 7.4, Genres: Adventure,Family,Fantasy, Runtime: 0:01:46\n"
     ]
    }
   ],
   "source": [
    "format_results(results)"
   ]
  },
  {
   "cell_type": "markdown",
   "id": "7b0e256d-1045-4ad7-950a-278c7ae1d79c",
   "metadata": {
    "tags": []
   },
   "source": [
    "#### Do Similarity Search with Filters"
   ]
  },
  {
   "cell_type": "code",
   "execution_count": 37,
   "id": "682c6921-d341-4c7e-be4f-15fe8114671f",
   "metadata": {
    "tags": []
   },
   "outputs": [
    {
     "name": "stdout",
     "output_type": "stream",
     "text": [
      "CPU times: user 2.43 ms, sys: 0 ns, total: 2.43 ms\n",
      "Wall time: 12.7 ms\n"
     ]
    }
   ],
   "source": [
    "%%time\n",
    "filters = \"@isAdult:{false} @titleType:{movie} @year:[2000 2009] @rating:[6 (INF] (@genres:{Horror} | @genres:{Animation} | @genres:{Action}| @genres:{Drama}) \"\n",
    "results = similarity_search(rc, index_name, query_vector, filters=filters, top_n=15)"
   ]
  },
  {
   "cell_type": "code",
   "execution_count": 38,
   "id": "8491ee63-c016-4825-b26e-eb885092c25e",
   "metadata": {
    "tags": []
   },
   "outputs": [
    {
     "name": "stdout",
     "output_type": "stream",
     "text": [
      "ID: movies:690b480a-0ad1-477b-8ce4-93c4c26ee399, Title Type: movie, Title: Crouching Tiger, Hidden Dragon, Year: 2000, Rating: 7.9, Genres: Action,Adventure,Drama, Runtime: 0:02:00\n",
      "ID: movies:b036d78d-d81d-4ca0-9775-5d4781c97e34, Title Type: movie, Title: Kingdom of Heaven, Year: 2005, Rating: 7.3, Genres: Action,Adventure,Drama, Runtime: 0:02:24\n",
      "ID: movies:7f927361-b80f-43b4-a100-edb2ca3c3212, Title Type: movie, Title: Shadowless Sword, Year: 2005, Rating: 6.4, Genres: Action,Adventure,History, Runtime: 0:01:57\n",
      "ID: movies:be855769-5e7d-48ef-baf9-a7d8bc102106, Title Type: movie, Title: Time and Tide, Year: 2000, Rating: 6.7, Genres: Action,Crime,Thriller, Runtime: 0:01:53\n",
      "ID: movies:d6bd6498-838f-4db8-8312-e9a4edeed9ea, Title Type: movie, Title: Bichunmoo, Year: 2000, Rating: 6.1, Genres: Action,Drama,Fantasy, Runtime: 0:01:58\n",
      "ID: movies:bd8413d9-5993-427f-8ca2-25180b8d9f73, Title Type: movie, Title: Azur & Asmar: The Princes' Quest, Year: 2006, Rating: 7.4, Genres: Adventure,Animation,Family, Runtime: 0:01:39\n",
      "ID: movies:b42093ca-3abc-40cc-9fb8-aa76349361f9, Title Type: movie, Title: Seven Swords, Year: 2005, Rating: 6.1, Genres: Action,Adventure,Fantasy, Runtime: 0:02:33\n",
      "ID: movies:ff7cf8b3-5b41-4687-b1ff-94477ba1abb4, Title Type: movie, Title: Solomon Kane, Year: 2009, Rating: 6.1, Genres: Action,Adventure,Fantasy, Runtime: 0:01:44\n",
      "ID: movies:f2ae485a-ed43-4674-a2fa-77ad97876090, Title Type: movie, Title: The Affair of the Necklace, Year: 2001, Rating: 6, Genres: Drama,History,Romance, Runtime: 0:01:58\n",
      "ID: movies:b30d16cc-75a3-4eec-a248-3b34ffe239f9, Title Type: movie, Title: A Frozen Flower, Year: 2008, Rating: 7.1, Genres: Drama,History,Romance, Runtime: 0:02:13\n",
      "ID: movies:26dd07a2-a1f7-4a9e-91c2-de50701a7ff8, Title Type: movie, Title: Vengeance, Year: 2009, Rating: 6.5, Genres: Action,Crime,Thriller, Runtime: 0:01:48\n",
      "ID: movies:9c08555d-e63b-41af-ac22-446ae57d5f7e, Title Type: movie, Title: Elizabeth: The Golden Age, Year: 2007, Rating: 6.8, Genres: Biography,Drama,History, Runtime: 0:01:54\n",
      "ID: movies:582a48dc-04dc-4c7e-b4a6-3a51d5e03f92, Title Type: movie, Title: The Princess and the Frog, Year: 2009, Rating: 7.2, Genres: Adventure,Animation,Comedy, Runtime: 0:01:37\n",
      "ID: movies:5086c160-ef4f-4374-9024-95079b1ba54a, Title Type: movie, Title: Tales from Earthsea, Year: 2006, Rating: 6.3, Genres: Adventure,Animation,Fantasy, Runtime: 0:01:55\n",
      "ID: movies:e67f176a-d65a-4460-b97b-88fd923fb456, Title Type: movie, Title: One Night with the King, Year: 2006, Rating: 6, Genres: Biography,Drama,History, Runtime: 0:02:03\n"
     ]
    }
   ],
   "source": [
    "format_results(results)"
   ]
  },
  {
   "cell_type": "markdown",
   "id": "fcb61534-33b5-460a-9968-6123c18a04ff",
   "metadata": {},
   "source": [
    "## Save Dataset"
   ]
  },
  {
   "cell_type": "code",
   "execution_count": 39,
   "id": "45685b2e-7143-4a09-9dd8-81c705cb4108",
   "metadata": {
    "tags": []
   },
   "outputs": [],
   "source": [
    "pickle.dump(df_subset, open(f\"{dataset_path}/title.subset.sav\",\"wb\"))"
   ]
  }
 ],
 "metadata": {
  "kernelspec": {
   "display_name": "conda_python3",
   "language": "python",
   "name": "conda_python3"
  },
  "language_info": {
   "codemirror_mode": {
    "name": "ipython",
    "version": 3
   },
   "file_extension": ".py",
   "mimetype": "text/x-python",
   "name": "python",
   "nbconvert_exporter": "python",
   "pygments_lexer": "ipython3",
   "version": "3.10.14"
  }
 },
 "nbformat": 4,
 "nbformat_minor": 5
}
