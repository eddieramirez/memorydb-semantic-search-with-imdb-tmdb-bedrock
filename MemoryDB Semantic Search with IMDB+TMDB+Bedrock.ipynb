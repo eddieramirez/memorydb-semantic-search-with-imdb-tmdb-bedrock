{
 "cells": [
  {
   "cell_type": "markdown",
   "id": "2edce1f3-65eb-431a-b287-d6125c25dec0",
   "metadata": {},
   "source": [
    "## Install Dependencies"
   ]
  },
  {
   "cell_type": "code",
   "execution_count": 1,
   "id": "688e8679-5b1e-4f8e-b326-e2b0b0097158",
   "metadata": {
    "tags": []
   },
   "outputs": [
    {
     "name": "stdout",
     "output_type": "stream",
     "text": [
      "Requirement already satisfied: pandas in /home/ec2-user/anaconda3/envs/python3/lib/python3.10/site-packages (2.2.1)\n",
      "Requirement already satisfied: numpy<2,>=1.22.4 in /home/ec2-user/anaconda3/envs/python3/lib/python3.10/site-packages (from pandas) (1.22.4)\n",
      "Requirement already satisfied: python-dateutil>=2.8.2 in /home/ec2-user/anaconda3/envs/python3/lib/python3.10/site-packages (from pandas) (2.9.0)\n",
      "Requirement already satisfied: pytz>=2020.1 in /home/ec2-user/anaconda3/envs/python3/lib/python3.10/site-packages (from pandas) (2024.1)\n",
      "Requirement already satisfied: tzdata>=2022.7 in /home/ec2-user/anaconda3/envs/python3/lib/python3.10/site-packages (from pandas) (2024.1)\n",
      "Requirement already satisfied: six>=1.5 in /home/ec2-user/anaconda3/envs/python3/lib/python3.10/site-packages (from python-dateutil>=2.8.2->pandas) (1.16.0)\n",
      "Requirement already satisfied: numpy in /home/ec2-user/anaconda3/envs/python3/lib/python3.10/site-packages (1.22.4)\n",
      "Collecting redis\n",
      "  Downloading redis-5.0.7-py3-none-any.whl.metadata (9.3 kB)\n",
      "Requirement already satisfied: async-timeout>=4.0.3 in /home/ec2-user/anaconda3/envs/python3/lib/python3.10/site-packages (from redis) (4.0.3)\n",
      "Downloading redis-5.0.7-py3-none-any.whl (252 kB)\n",
      "\u001b[2K   \u001b[90m━━━━━━━━━━━━━━━━━━━━━━━━━━━━━━━━━━━━━━━━\u001b[0m \u001b[32m252.1/252.1 kB\u001b[0m \u001b[31m8.4 MB/s\u001b[0m eta \u001b[36m0:00:00\u001b[0m\n",
      "\u001b[?25hInstalling collected packages: redis\n",
      "Successfully installed redis-5.0.7\n",
      "Collecting themoviedb\n",
      "  Downloading themoviedb-0.4.0-py3-none-any.whl.metadata (6.3 kB)\n",
      "Collecting aiohttp==3.8.4 (from themoviedb)\n",
      "  Downloading aiohttp-3.8.4-cp310-cp310-manylinux_2_17_x86_64.manylinux2014_x86_64.whl.metadata (7.4 kB)\n",
      "Requirement already satisfied: aiosignal==1.3.1 in /home/ec2-user/anaconda3/envs/python3/lib/python3.10/site-packages (from themoviedb) (1.3.1)\n",
      "Collecting async-timeout==4.0.2 (from themoviedb)\n",
      "  Downloading async_timeout-4.0.2-py3-none-any.whl.metadata (4.2 kB)\n",
      "Collecting attrs==23.1.0 (from themoviedb)\n",
      "  Downloading attrs-23.1.0-py3-none-any.whl.metadata (11 kB)\n",
      "Collecting certifi==2023.5.7 (from themoviedb)\n",
      "  Downloading certifi-2023.5.7-py3-none-any.whl.metadata (2.2 kB)\n",
      "Collecting charset-normalizer==3.1.0 (from themoviedb)\n",
      "  Downloading charset_normalizer-3.1.0-cp310-cp310-manylinux_2_17_x86_64.manylinux2014_x86_64.whl.metadata (30 kB)\n",
      "Collecting dacite==1.8.1 (from themoviedb)\n",
      "  Downloading dacite-1.8.1-py3-none-any.whl.metadata (15 kB)\n",
      "Collecting frozenlist==1.3.3 (from themoviedb)\n",
      "  Downloading frozenlist-1.3.3-cp310-cp310-manylinux_2_5_x86_64.manylinux1_x86_64.manylinux_2_17_x86_64.manylinux2014_x86_64.whl.metadata (4.7 kB)\n",
      "Collecting idna==3.4 (from themoviedb)\n",
      "  Downloading idna-3.4-py3-none-any.whl.metadata (9.8 kB)\n",
      "Collecting multidict==6.0.4 (from themoviedb)\n",
      "  Downloading multidict-6.0.4-cp310-cp310-manylinux_2_17_x86_64.manylinux2014_x86_64.whl.metadata (4.1 kB)\n",
      "Requirement already satisfied: requests==2.31.0 in /home/ec2-user/anaconda3/envs/python3/lib/python3.10/site-packages (from themoviedb) (2.31.0)\n",
      "Collecting urllib3==2.0.3 (from themoviedb)\n",
      "  Downloading urllib3-2.0.3-py3-none-any.whl.metadata (6.6 kB)\n",
      "Collecting yarl==1.9.2 (from themoviedb)\n",
      "  Downloading yarl-1.9.2-cp310-cp310-manylinux_2_17_x86_64.manylinux2014_x86_64.whl.metadata (23 kB)\n",
      "Downloading themoviedb-0.4.0-py3-none-any.whl (59 kB)\n",
      "\u001b[2K   \u001b[90m━━━━━━━━━━━━━━━━━━━━━━━━━━━━━━━━━━━━━━━━\u001b[0m \u001b[32m59.4/59.4 kB\u001b[0m \u001b[31m6.9 MB/s\u001b[0m eta \u001b[36m0:00:00\u001b[0m\n",
      "\u001b[?25hDownloading aiohttp-3.8.4-cp310-cp310-manylinux_2_17_x86_64.manylinux2014_x86_64.whl (1.0 MB)\n",
      "\u001b[2K   \u001b[90m━━━━━━━━━━━━━━━━━━━━━━━━━━━━━━━━━━━━━━━━\u001b[0m \u001b[32m1.0/1.0 MB\u001b[0m \u001b[31m9.0 MB/s\u001b[0m eta \u001b[36m0:00:00\u001b[0m:00:01\u001b[0m\n",
      "\u001b[?25hDownloading async_timeout-4.0.2-py3-none-any.whl (5.8 kB)\n",
      "Downloading attrs-23.1.0-py3-none-any.whl (61 kB)\n",
      "\u001b[2K   \u001b[90m━━━━━━━━━━━━━━━━━━━━━━━━━━━━━━━━━━━━━━━━\u001b[0m \u001b[32m61.2/61.2 kB\u001b[0m \u001b[31m14.7 MB/s\u001b[0m eta \u001b[36m0:00:00\u001b[0m\n",
      "\u001b[?25hDownloading certifi-2023.5.7-py3-none-any.whl (156 kB)\n",
      "\u001b[2K   \u001b[90m━━━━━━━━━━━━━━━━━━━━━━━━━━━━━━━━━━━━━━━━\u001b[0m \u001b[32m157.0/157.0 kB\u001b[0m \u001b[31m34.0 MB/s\u001b[0m eta \u001b[36m0:00:00\u001b[0m\n",
      "\u001b[?25hDownloading charset_normalizer-3.1.0-cp310-cp310-manylinux_2_17_x86_64.manylinux2014_x86_64.whl (199 kB)\n",
      "\u001b[2K   \u001b[90m━━━━━━━━━━━━━━━━━━━━━━━━━━━━━━━━━━━━━━━━\u001b[0m \u001b[32m199.3/199.3 kB\u001b[0m \u001b[31m6.4 MB/s\u001b[0m eta \u001b[36m0:00:00\u001b[0m\n",
      "\u001b[?25hDownloading dacite-1.8.1-py3-none-any.whl (14 kB)\n",
      "Downloading frozenlist-1.3.3-cp310-cp310-manylinux_2_5_x86_64.manylinux1_x86_64.manylinux_2_17_x86_64.manylinux2014_x86_64.whl (149 kB)\n",
      "\u001b[2K   \u001b[90m━━━━━━━━━━━━━━━━━━━━━━━━━━━━━━━━━━━━━━━━\u001b[0m \u001b[32m149.6/149.6 kB\u001b[0m \u001b[31m35.2 MB/s\u001b[0m eta \u001b[36m0:00:00\u001b[0m\n",
      "\u001b[?25hDownloading idna-3.4-py3-none-any.whl (61 kB)\n",
      "\u001b[2K   \u001b[90m━━━━━━━━━━━━━━━━━━━━━━━━━━━━━━━━━━━━━━━━\u001b[0m \u001b[32m61.5/61.5 kB\u001b[0m \u001b[31m15.2 MB/s\u001b[0m eta \u001b[36m0:00:00\u001b[0m\n",
      "\u001b[?25hDownloading multidict-6.0.4-cp310-cp310-manylinux_2_17_x86_64.manylinux2014_x86_64.whl (114 kB)\n",
      "\u001b[2K   \u001b[90m━━━━━━━━━━━━━━━━━━━━━━━━━━━━━━━━━━━━━━━━\u001b[0m \u001b[32m114.5/114.5 kB\u001b[0m \u001b[31m1.8 MB/s\u001b[0m eta \u001b[36m0:00:00\u001b[0m:00:01\u001b[0m\n",
      "\u001b[?25hDownloading urllib3-2.0.3-py3-none-any.whl (123 kB)\n",
      "\u001b[2K   \u001b[90m━━━━━━━━━━━━━━━━━━━━━━━━━━━━━━━━━━━━━━━━\u001b[0m \u001b[32m123.6/123.6 kB\u001b[0m \u001b[31m27.7 MB/s\u001b[0m eta \u001b[36m0:00:00\u001b[0m\n",
      "\u001b[?25hDownloading yarl-1.9.2-cp310-cp310-manylinux_2_17_x86_64.manylinux2014_x86_64.whl (268 kB)\n",
      "\u001b[2K   \u001b[90m━━━━━━━━━━━━━━━━━━━━━━━━━━━━━━━━━━━━━━━━\u001b[0m \u001b[32m268.8/268.8 kB\u001b[0m \u001b[31m5.3 MB/s\u001b[0m eta \u001b[36m0:00:00\u001b[0m:00:01\u001b[0m\n",
      "\u001b[?25hInstalling collected packages: urllib3, multidict, idna, frozenlist, dacite, charset-normalizer, certifi, attrs, async-timeout, yarl, aiohttp, themoviedb\n",
      "  Attempting uninstall: urllib3\n",
      "    Found existing installation: urllib3 2.2.1\n",
      "    Uninstalling urllib3-2.2.1:\n",
      "      Successfully uninstalled urllib3-2.2.1\n",
      "  Attempting uninstall: multidict\n",
      "    Found existing installation: multidict 6.0.5\n",
      "    Uninstalling multidict-6.0.5:\n",
      "      Successfully uninstalled multidict-6.0.5\n",
      "  Attempting uninstall: idna\n",
      "    Found existing installation: idna 3.6\n",
      "    Uninstalling idna-3.6:\n",
      "      Successfully uninstalled idna-3.6\n",
      "  Attempting uninstall: frozenlist\n",
      "    Found existing installation: frozenlist 1.4.1\n",
      "    Uninstalling frozenlist-1.4.1:\n",
      "      Successfully uninstalled frozenlist-1.4.1\n",
      "  Attempting uninstall: charset-normalizer\n",
      "    Found existing installation: charset-normalizer 3.3.2\n",
      "    Uninstalling charset-normalizer-3.3.2:\n",
      "      Successfully uninstalled charset-normalizer-3.3.2\n",
      "  Attempting uninstall: certifi\n",
      "    Found existing installation: certifi 2024.2.2\n",
      "    Uninstalling certifi-2024.2.2:\n",
      "      Successfully uninstalled certifi-2024.2.2\n",
      "  Attempting uninstall: attrs\n",
      "    Found existing installation: attrs 23.2.0\n",
      "    Uninstalling attrs-23.2.0:\n",
      "      Successfully uninstalled attrs-23.2.0\n",
      "  Attempting uninstall: async-timeout\n",
      "    Found existing installation: async-timeout 4.0.3\n",
      "    Uninstalling async-timeout-4.0.3:\n",
      "      Successfully uninstalled async-timeout-4.0.3\n",
      "  Attempting uninstall: yarl\n",
      "    Found existing installation: yarl 1.9.4\n",
      "    Uninstalling yarl-1.9.4:\n",
      "      Successfully uninstalled yarl-1.9.4\n",
      "  Attempting uninstall: aiohttp\n",
      "    Found existing installation: aiohttp 3.9.3\n",
      "    Uninstalling aiohttp-3.9.3:\n",
      "      Successfully uninstalled aiohttp-3.9.3\n",
      "\u001b[31mERROR: pip's dependency resolver does not currently take into account all the packages that are installed. This behaviour is the source of the following dependency conflicts.\n",
      "redis 5.0.7 requires async-timeout>=4.0.3; python_full_version < \"3.11.3\", but you have async-timeout 4.0.2 which is incompatible.\n",
      "sparkmagic 0.21.0 requires pandas<2.0.0,>=0.17.1, but you have pandas 2.2.1 which is incompatible.\n",
      "sphinx 7.2.6 requires docutils<0.21,>=0.18.1, but you have docutils 0.16 which is incompatible.\u001b[0m\u001b[31m\n",
      "\u001b[0mSuccessfully installed aiohttp-3.8.4 async-timeout-4.0.2 attrs-23.1.0 certifi-2023.5.7 charset-normalizer-3.1.0 dacite-1.8.1 frozenlist-1.3.3 idna-3.4 multidict-6.0.4 themoviedb-0.4.0 urllib3-2.0.3 yarl-1.9.2\n",
      "Requirement already satisfied: awscli in /home/ec2-user/anaconda3/envs/python3/lib/python3.10/site-packages (1.32.101)\n",
      "Requirement already satisfied: botocore==1.34.101 in /home/ec2-user/anaconda3/envs/python3/lib/python3.10/site-packages (from awscli) (1.34.101)\n",
      "Requirement already satisfied: docutils<0.17,>=0.10 in /home/ec2-user/anaconda3/envs/python3/lib/python3.10/site-packages (from awscli) (0.16)\n",
      "Requirement already satisfied: s3transfer<0.11.0,>=0.10.0 in /home/ec2-user/anaconda3/envs/python3/lib/python3.10/site-packages (from awscli) (0.10.1)\n",
      "Requirement already satisfied: PyYAML<6.1,>=3.10 in /home/ec2-user/anaconda3/envs/python3/lib/python3.10/site-packages (from awscli) (6.0.1)\n",
      "Requirement already satisfied: colorama<0.4.7,>=0.2.5 in /home/ec2-user/anaconda3/envs/python3/lib/python3.10/site-packages (from awscli) (0.4.6)\n",
      "Requirement already satisfied: rsa<4.8,>=3.1.2 in /home/ec2-user/anaconda3/envs/python3/lib/python3.10/site-packages (from awscli) (4.7.2)\n",
      "Requirement already satisfied: jmespath<2.0.0,>=0.7.1 in /home/ec2-user/anaconda3/envs/python3/lib/python3.10/site-packages (from botocore==1.34.101->awscli) (1.0.1)\n",
      "Requirement already satisfied: python-dateutil<3.0.0,>=2.1 in /home/ec2-user/anaconda3/envs/python3/lib/python3.10/site-packages (from botocore==1.34.101->awscli) (2.9.0)\n",
      "Requirement already satisfied: urllib3!=2.2.0,<3,>=1.25.4 in /home/ec2-user/anaconda3/envs/python3/lib/python3.10/site-packages (from botocore==1.34.101->awscli) (2.0.3)\n",
      "Requirement already satisfied: pyasn1>=0.1.3 in /home/ec2-user/anaconda3/envs/python3/lib/python3.10/site-packages (from rsa<4.8,>=3.1.2->awscli) (0.6.0)\n",
      "Requirement already satisfied: six>=1.5 in /home/ec2-user/anaconda3/envs/python3/lib/python3.10/site-packages (from python-dateutil<3.0.0,>=2.1->botocore==1.34.101->awscli) (1.16.0)\n",
      "Requirement already satisfied: boto3 in /home/ec2-user/anaconda3/envs/python3/lib/python3.10/site-packages (1.34.101)\n",
      "Requirement already satisfied: botocore<1.35.0,>=1.34.101 in /home/ec2-user/anaconda3/envs/python3/lib/python3.10/site-packages (from boto3) (1.34.101)\n",
      "Requirement already satisfied: jmespath<2.0.0,>=0.7.1 in /home/ec2-user/anaconda3/envs/python3/lib/python3.10/site-packages (from boto3) (1.0.1)\n",
      "Requirement already satisfied: s3transfer<0.11.0,>=0.10.0 in /home/ec2-user/anaconda3/envs/python3/lib/python3.10/site-packages (from boto3) (0.10.1)\n",
      "Requirement already satisfied: python-dateutil<3.0.0,>=2.1 in /home/ec2-user/anaconda3/envs/python3/lib/python3.10/site-packages (from botocore<1.35.0,>=1.34.101->boto3) (2.9.0)\n",
      "Requirement already satisfied: urllib3!=2.2.0,<3,>=1.25.4 in /home/ec2-user/anaconda3/envs/python3/lib/python3.10/site-packages (from botocore<1.35.0,>=1.34.101->boto3) (2.0.3)\n",
      "Requirement already satisfied: six>=1.5 in /home/ec2-user/anaconda3/envs/python3/lib/python3.10/site-packages (from python-dateutil<3.0.0,>=2.1->botocore<1.35.0,>=1.34.101->boto3) (1.16.0)\n",
      "Requirement already satisfied: botocore in /home/ec2-user/anaconda3/envs/python3/lib/python3.10/site-packages (1.34.101)\n",
      "Requirement already satisfied: jmespath<2.0.0,>=0.7.1 in /home/ec2-user/anaconda3/envs/python3/lib/python3.10/site-packages (from botocore) (1.0.1)\n",
      "Requirement already satisfied: python-dateutil<3.0.0,>=2.1 in /home/ec2-user/anaconda3/envs/python3/lib/python3.10/site-packages (from botocore) (2.9.0)\n",
      "Requirement already satisfied: urllib3!=2.2.0,<3,>=1.25.4 in /home/ec2-user/anaconda3/envs/python3/lib/python3.10/site-packages (from botocore) (2.0.3)\n",
      "Requirement already satisfied: six>=1.5 in /home/ec2-user/anaconda3/envs/python3/lib/python3.10/site-packages (from python-dateutil<3.0.0,>=2.1->botocore) (1.16.0)\n",
      "Requirement already satisfied: themoviedb in /home/ec2-user/anaconda3/envs/python3/lib/python3.10/site-packages (0.4.0)\n",
      "Requirement already satisfied: aiohttp==3.8.4 in /home/ec2-user/anaconda3/envs/python3/lib/python3.10/site-packages (from themoviedb) (3.8.4)\n",
      "Requirement already satisfied: aiosignal==1.3.1 in /home/ec2-user/anaconda3/envs/python3/lib/python3.10/site-packages (from themoviedb) (1.3.1)\n",
      "Requirement already satisfied: async-timeout==4.0.2 in /home/ec2-user/anaconda3/envs/python3/lib/python3.10/site-packages (from themoviedb) (4.0.2)\n",
      "Requirement already satisfied: attrs==23.1.0 in /home/ec2-user/anaconda3/envs/python3/lib/python3.10/site-packages (from themoviedb) (23.1.0)\n",
      "Requirement already satisfied: certifi==2023.5.7 in /home/ec2-user/anaconda3/envs/python3/lib/python3.10/site-packages (from themoviedb) (2023.5.7)\n",
      "Requirement already satisfied: charset-normalizer==3.1.0 in /home/ec2-user/anaconda3/envs/python3/lib/python3.10/site-packages (from themoviedb) (3.1.0)\n",
      "Requirement already satisfied: dacite==1.8.1 in /home/ec2-user/anaconda3/envs/python3/lib/python3.10/site-packages (from themoviedb) (1.8.1)\n",
      "Requirement already satisfied: frozenlist==1.3.3 in /home/ec2-user/anaconda3/envs/python3/lib/python3.10/site-packages (from themoviedb) (1.3.3)\n",
      "Requirement already satisfied: idna==3.4 in /home/ec2-user/anaconda3/envs/python3/lib/python3.10/site-packages (from themoviedb) (3.4)\n",
      "Requirement already satisfied: multidict==6.0.4 in /home/ec2-user/anaconda3/envs/python3/lib/python3.10/site-packages (from themoviedb) (6.0.4)\n",
      "Requirement already satisfied: requests==2.31.0 in /home/ec2-user/anaconda3/envs/python3/lib/python3.10/site-packages (from themoviedb) (2.31.0)\n",
      "Requirement already satisfied: urllib3==2.0.3 in /home/ec2-user/anaconda3/envs/python3/lib/python3.10/site-packages (from themoviedb) (2.0.3)\n",
      "Requirement already satisfied: yarl==1.9.2 in /home/ec2-user/anaconda3/envs/python3/lib/python3.10/site-packages (from themoviedb) (1.9.2)\n"
     ]
    }
   ],
   "source": [
    "import sys\n",
    "!{sys.executable} -m pip install pandas\n",
    "!{sys.executable} -m pip install numpy\n",
    "!{sys.executable} -m pip install redis\n",
    "!{sys.executable} -m pip install themoviedb\n",
    "!{sys.executable} -m pip install awscli\n",
    "!{sys.executable} -m pip install boto3\n",
    "!{sys.executable} -m pip install botocore\n",
    "!{sys.executable} -m pip install themoviedb"
   ]
  },
  {
   "cell_type": "markdown",
   "id": "022d6517-6994-4261-b228-4767a37af1c9",
   "metadata": {},
   "source": [
    "## Import Libraries"
   ]
  },
  {
   "cell_type": "code",
   "execution_count": 2,
   "id": "cccf33f5-0640-472b-b848-6c39be23cbe7",
   "metadata": {
    "tags": []
   },
   "outputs": [],
   "source": [
    "import pandas as pd\n",
    "import numpy as np\n",
    "import uuid\n",
    "#from sentence_transformers import SentenceTransformer\n",
    "import datetime\n",
    "import os\n",
    "import redis\n",
    "import time\n",
    "import json\n",
    "import boto3\n",
    "import botocore\n",
    "import pickle\n",
    "import re\n",
    "import gzip\n",
    "import shutil\n",
    "from urllib import request\n",
    "from redis.commands.search.field import VectorField\n",
    "from redis.commands.search.field import TextField, NumericField\n",
    "from redis.commands.search.field import TagField\n",
    "from redis.commands.search.query import Query, NumericFilter\n",
    "from redis.commands.search.result import Result\n",
    "from redis.cluster import RedisCluster as MemoryDB\n",
    "from redis.commands.search.field import VectorField, TextField, NumericField\n",
    "from redis.commands.search.indexDefinition import IndexDefinition, IndexType\n",
    "from themoviedb import TMDb\n",
    "from multiprocessing.pool import ThreadPool"
   ]
  },
  {
   "cell_type": "markdown",
   "id": "3d6a4e28-2f88-4f19-ab08-5620e0dacbec",
   "metadata": {},
   "source": [
    "## Test Connection to MemoryDB"
   ]
  },
  {
   "cell_type": "code",
   "execution_count": 3,
   "id": "8d54f1ac-b8d8-46fa-9fef-f404e1e83583",
   "metadata": {
    "tags": []
   },
   "outputs": [
    {
     "name": "stdout",
     "output_type": "stream",
     "text": [
      "MemoryDB Url = clustercfg.xxxx.xxxxxx.memorydb.xx-xxxx-x.amazonaws.com:6379\n",
      "CPU times: user 71 ms, sys: 5.03 ms, total: 76 ms\n",
      "Wall time: 85.9 ms\n"
     ]
    },
    {
     "data": {
      "text/plain": [
       "True"
      ]
     },
     "execution_count": 3,
     "metadata": {},
     "output_type": "execute_result"
    }
   ],
   "source": [
    "%%time\n",
    "memorydb_host = os.environ.get(\"MEMORYDB_HOST\", \"clustercfg.xxxx.xxxxxx.memorydb.xx-xxxx-x.amazonaws.com\")\n",
    "memorydb_port = os.environ.get(\"MEMORYDB_PORT\", 6379)\n",
    "print(f\"MemoryDB Url = {memorydb_host}:{memorydb_port}\")\n",
    "rc = MemoryDB(host=memorydb_host, port=memorydb_port, ssl=True, decode_responses=False, ssl_cert_reqs=\"none\")\n",
    "rc.ping()\n",
    "# rc.flushall()"
   ]
  },
  {
   "cell_type": "markdown",
   "id": "17f402fc-ac6a-4175-bf08-daf82a270b80",
   "metadata": {},
   "source": [
    "## Download IMDB Datasets"
   ]
  },
  {
   "cell_type": "markdown",
   "id": "f93ada6f-fe25-4ecc-a76a-c5c7f888579f",
   "metadata": {},
   "source": [
    "### Define Functions"
   ]
  },
  {
   "cell_type": "code",
   "execution_count": 4,
   "id": "52cd0917-4cb7-4218-a2fb-526cea8caaeb",
   "metadata": {
    "tags": []
   },
   "outputs": [],
   "source": [
    "dataset_path = \"datasets\"\n",
    "def download_compressed_dataset(url):\n",
    "    if not os.path.isdir(dataset_path):\n",
    "        os.makedirs(dataset_path) \n",
    "    compressed_filename = dataset_path + \"/\" + re.split(pattern='/', string=url)[-1]\n",
    "    request.urlretrieve(url=url, filename=compressed_filename)\n",
    "    uncompressed_filename = re.split(pattern=r'\\.gz', string=compressed_filename)[0]\n",
    "    print(f\"downloaded {compressed_filename}\")\n",
    "    with gzip.open(compressed_filename, 'rb') as f_in:\n",
    "        with open(uncompressed_filename, 'wb') as f_out:\n",
    "            shutil.copyfileobj(f_in, f_out)\n",
    "    print(f\"extracted {uncompressed_filename}\")\n",
    "    return uncompressed_filename"
   ]
  },
  {
   "cell_type": "code",
   "execution_count": 5,
   "id": "da4cec32-6b37-46dd-b56f-93f9acfe9d98",
   "metadata": {
    "tags": []
   },
   "outputs": [
    {
     "name": "stdout",
     "output_type": "stream",
     "text": [
      "downloaded datasets/title.ratings.tsv.gz\n",
      "extracted datasets/title.ratings.tsv\n",
      "datasets/title.ratings.tsv\n",
      "downloaded datasets/title.basics.tsv.gz\n",
      "downloaded datasets/name.basics.tsv.gz\n",
      "downloaded datasets/title.principals.tsv.gz\n",
      "extracted datasets/name.basics.tsv\n",
      "datasets/name.basics.tsv\n",
      "extracted datasets/title.basics.tsv\n",
      "extracted datasets/title.principals.tsv\n",
      "datasets/title.basics.tsv\n",
      "datasets/title.principals.tsv\n"
     ]
    }
   ],
   "source": [
    "datasets = [\n",
    "    \"https://datasets.imdbws.com/title.basics.tsv.gz\",\n",
    "    \"https://datasets.imdbws.com/title.principals.tsv.gz\",\n",
    "    \"https://datasets.imdbws.com/name.basics.tsv.gz\",\n",
    "    \"https://datasets.imdbws.com/title.ratings.tsv.gz\",\n",
    "]\n",
    "\n",
    "retrieved_datasets = ThreadPool(5).imap_unordered(download_compressed_dataset, datasets)\n",
    "for retrieved_dataset in retrieved_datasets:\n",
    "    print(f\"loading {retrieved_dataset}\")\n",
    "    pickle.dump(pd.read_table(retrieved_dataset,sep=\"\\t\",low_memory=False, na_values=[\"\\\\N\",\"nan\"]), open(retrieved_dataset[:-4]+\".sav\",\"wb\"))"
   ]
  },
  {
   "cell_type": "markdown",
   "id": "c288d049-bdd0-4c5c-826b-fd016f7a7dbd",
   "metadata": {},
   "source": [
    "## Show Datasets "
   ]
  },
  {
   "cell_type": "code",
   "execution_count": 17,
   "id": "b875fa00-fed1-4b47-ada2-d94c870e1cd5",
   "metadata": {
    "tags": []
   },
   "outputs": [
    {
     "data": {
      "text/html": [
       "<div>\n",
       "<style scoped>\n",
       "    .dataframe tbody tr th:only-of-type {\n",
       "        vertical-align: middle;\n",
       "    }\n",
       "\n",
       "    .dataframe tbody tr th {\n",
       "        vertical-align: top;\n",
       "    }\n",
       "\n",
       "    .dataframe thead th {\n",
       "        text-align: right;\n",
       "    }\n",
       "</style>\n",
       "<table border=\"1\" class=\"dataframe\">\n",
       "  <thead>\n",
       "    <tr style=\"text-align: right;\">\n",
       "      <th></th>\n",
       "      <th>tconst</th>\n",
       "      <th>titleType</th>\n",
       "      <th>primaryTitle</th>\n",
       "      <th>originalTitle</th>\n",
       "      <th>isAdult</th>\n",
       "      <th>startYear</th>\n",
       "      <th>endYear</th>\n",
       "      <th>runtimeMinutes</th>\n",
       "      <th>genres</th>\n",
       "    </tr>\n",
       "  </thead>\n",
       "  <tbody>\n",
       "    <tr>\n",
       "      <th>0</th>\n",
       "      <td>tt0000001</td>\n",
       "      <td>short</td>\n",
       "      <td>Carmencita</td>\n",
       "      <td>Carmencita</td>\n",
       "      <td>0.0</td>\n",
       "      <td>1894.0</td>\n",
       "      <td>NaN</td>\n",
       "      <td>1</td>\n",
       "      <td>Documentary,Short</td>\n",
       "    </tr>\n",
       "    <tr>\n",
       "      <th>1</th>\n",
       "      <td>tt0000002</td>\n",
       "      <td>short</td>\n",
       "      <td>Le clown et ses chiens</td>\n",
       "      <td>Le clown et ses chiens</td>\n",
       "      <td>0.0</td>\n",
       "      <td>1892.0</td>\n",
       "      <td>NaN</td>\n",
       "      <td>5</td>\n",
       "      <td>Animation,Short</td>\n",
       "    </tr>\n",
       "    <tr>\n",
       "      <th>2</th>\n",
       "      <td>tt0000003</td>\n",
       "      <td>short</td>\n",
       "      <td>Pauvre Pierrot</td>\n",
       "      <td>Pauvre Pierrot</td>\n",
       "      <td>0.0</td>\n",
       "      <td>1892.0</td>\n",
       "      <td>NaN</td>\n",
       "      <td>5</td>\n",
       "      <td>Animation,Comedy,Romance</td>\n",
       "    </tr>\n",
       "    <tr>\n",
       "      <th>3</th>\n",
       "      <td>tt0000004</td>\n",
       "      <td>short</td>\n",
       "      <td>Un bon bock</td>\n",
       "      <td>Un bon bock</td>\n",
       "      <td>0.0</td>\n",
       "      <td>1892.0</td>\n",
       "      <td>NaN</td>\n",
       "      <td>12</td>\n",
       "      <td>Animation,Short</td>\n",
       "    </tr>\n",
       "    <tr>\n",
       "      <th>4</th>\n",
       "      <td>tt0000005</td>\n",
       "      <td>short</td>\n",
       "      <td>Blacksmith Scene</td>\n",
       "      <td>Blacksmith Scene</td>\n",
       "      <td>0.0</td>\n",
       "      <td>1893.0</td>\n",
       "      <td>NaN</td>\n",
       "      <td>1</td>\n",
       "      <td>Comedy,Short</td>\n",
       "    </tr>\n",
       "  </tbody>\n",
       "</table>\n",
       "</div>"
      ],
      "text/plain": [
       "      tconst titleType            primaryTitle           originalTitle  \\\n",
       "0  tt0000001     short              Carmencita              Carmencita   \n",
       "1  tt0000002     short  Le clown et ses chiens  Le clown et ses chiens   \n",
       "2  tt0000003     short          Pauvre Pierrot          Pauvre Pierrot   \n",
       "3  tt0000004     short             Un bon bock             Un bon bock   \n",
       "4  tt0000005     short        Blacksmith Scene        Blacksmith Scene   \n",
       "\n",
       "   isAdult  startYear  endYear runtimeMinutes                    genres  \n",
       "0      0.0     1894.0      NaN              1         Documentary,Short  \n",
       "1      0.0     1892.0      NaN              5           Animation,Short  \n",
       "2      0.0     1892.0      NaN              5  Animation,Comedy,Romance  \n",
       "3      0.0     1892.0      NaN             12           Animation,Short  \n",
       "4      0.0     1893.0      NaN              1              Comedy,Short  "
      ]
     },
     "execution_count": 17,
     "metadata": {},
     "output_type": "execute_result"
    }
   ],
   "source": [
    "df_title_basics = pickle.load(open(f\"{dataset_path}/title.basics.sav\",\"rb\"))\n",
    "df_title_basics.head()"
   ]
  },
  {
   "cell_type": "code",
   "execution_count": 7,
   "id": "630d0090-23e5-4bdd-82c2-a2c8404767bc",
   "metadata": {
    "tags": []
   },
   "outputs": [
    {
     "data": {
      "text/html": [
       "<div>\n",
       "<style scoped>\n",
       "    .dataframe tbody tr th:only-of-type {\n",
       "        vertical-align: middle;\n",
       "    }\n",
       "\n",
       "    .dataframe tbody tr th {\n",
       "        vertical-align: top;\n",
       "    }\n",
       "\n",
       "    .dataframe thead th {\n",
       "        text-align: right;\n",
       "    }\n",
       "</style>\n",
       "<table border=\"1\" class=\"dataframe\">\n",
       "  <thead>\n",
       "    <tr style=\"text-align: right;\">\n",
       "      <th></th>\n",
       "      <th>tconst</th>\n",
       "      <th>ordering</th>\n",
       "      <th>nconst</th>\n",
       "      <th>category</th>\n",
       "      <th>job</th>\n",
       "      <th>characters</th>\n",
       "    </tr>\n",
       "  </thead>\n",
       "  <tbody>\n",
       "    <tr>\n",
       "      <th>0</th>\n",
       "      <td>tt0000001</td>\n",
       "      <td>1</td>\n",
       "      <td>nm1588970</td>\n",
       "      <td>self</td>\n",
       "      <td>NaN</td>\n",
       "      <td>[\"Self\"]</td>\n",
       "    </tr>\n",
       "    <tr>\n",
       "      <th>1</th>\n",
       "      <td>tt0000001</td>\n",
       "      <td>2</td>\n",
       "      <td>nm0005690</td>\n",
       "      <td>director</td>\n",
       "      <td>NaN</td>\n",
       "      <td>NaN</td>\n",
       "    </tr>\n",
       "    <tr>\n",
       "      <th>2</th>\n",
       "      <td>tt0000001</td>\n",
       "      <td>3</td>\n",
       "      <td>nm0005690</td>\n",
       "      <td>producer</td>\n",
       "      <td>producer</td>\n",
       "      <td>NaN</td>\n",
       "    </tr>\n",
       "    <tr>\n",
       "      <th>3</th>\n",
       "      <td>tt0000001</td>\n",
       "      <td>4</td>\n",
       "      <td>nm0374658</td>\n",
       "      <td>cinematographer</td>\n",
       "      <td>director of photography</td>\n",
       "      <td>NaN</td>\n",
       "    </tr>\n",
       "    <tr>\n",
       "      <th>4</th>\n",
       "      <td>tt0000002</td>\n",
       "      <td>1</td>\n",
       "      <td>nm0721526</td>\n",
       "      <td>director</td>\n",
       "      <td>NaN</td>\n",
       "      <td>NaN</td>\n",
       "    </tr>\n",
       "  </tbody>\n",
       "</table>\n",
       "</div>"
      ],
      "text/plain": [
       "      tconst  ordering     nconst         category                      job  \\\n",
       "0  tt0000001         1  nm1588970             self                      NaN   \n",
       "1  tt0000001         2  nm0005690         director                      NaN   \n",
       "2  tt0000001         3  nm0005690         producer                 producer   \n",
       "3  tt0000001         4  nm0374658  cinematographer  director of photography   \n",
       "4  tt0000002         1  nm0721526         director                      NaN   \n",
       "\n",
       "  characters  \n",
       "0   [\"Self\"]  \n",
       "1        NaN  \n",
       "2        NaN  \n",
       "3        NaN  \n",
       "4        NaN  "
      ]
     },
     "execution_count": 7,
     "metadata": {},
     "output_type": "execute_result"
    }
   ],
   "source": [
    "df_title_principals = pickle.load(open(f\"{dataset_path}/title.principals.sav\",\"rb\"))\n",
    "df_title_principals.head()"
   ]
  },
  {
   "cell_type": "code",
   "execution_count": 8,
   "id": "acc56d14-1e8c-4487-808f-9e01f75e0d27",
   "metadata": {
    "tags": []
   },
   "outputs": [
    {
     "data": {
      "text/html": [
       "<div>\n",
       "<style scoped>\n",
       "    .dataframe tbody tr th:only-of-type {\n",
       "        vertical-align: middle;\n",
       "    }\n",
       "\n",
       "    .dataframe tbody tr th {\n",
       "        vertical-align: top;\n",
       "    }\n",
       "\n",
       "    .dataframe thead th {\n",
       "        text-align: right;\n",
       "    }\n",
       "</style>\n",
       "<table border=\"1\" class=\"dataframe\">\n",
       "  <thead>\n",
       "    <tr style=\"text-align: right;\">\n",
       "      <th></th>\n",
       "      <th>nconst</th>\n",
       "      <th>primaryName</th>\n",
       "      <th>birthYear</th>\n",
       "      <th>deathYear</th>\n",
       "      <th>primaryProfession</th>\n",
       "      <th>knownForTitles</th>\n",
       "    </tr>\n",
       "  </thead>\n",
       "  <tbody>\n",
       "    <tr>\n",
       "      <th>0</th>\n",
       "      <td>nm0000001</td>\n",
       "      <td>Fred Astaire</td>\n",
       "      <td>1899.0</td>\n",
       "      <td>1987.0</td>\n",
       "      <td>actor,miscellaneous,producer</td>\n",
       "      <td>tt0072308,tt0050419,tt0053137,tt0027125</td>\n",
       "    </tr>\n",
       "    <tr>\n",
       "      <th>1</th>\n",
       "      <td>nm0000002</td>\n",
       "      <td>Lauren Bacall</td>\n",
       "      <td>1924.0</td>\n",
       "      <td>2014.0</td>\n",
       "      <td>actress,soundtrack,archive_footage</td>\n",
       "      <td>tt0037382,tt0075213,tt0117057,tt0038355</td>\n",
       "    </tr>\n",
       "    <tr>\n",
       "      <th>2</th>\n",
       "      <td>nm0000003</td>\n",
       "      <td>Brigitte Bardot</td>\n",
       "      <td>1934.0</td>\n",
       "      <td>NaN</td>\n",
       "      <td>actress,music_department,producer</td>\n",
       "      <td>tt0057345,tt0049189,tt0056404,tt0054452</td>\n",
       "    </tr>\n",
       "    <tr>\n",
       "      <th>3</th>\n",
       "      <td>nm0000004</td>\n",
       "      <td>John Belushi</td>\n",
       "      <td>1949.0</td>\n",
       "      <td>1982.0</td>\n",
       "      <td>actor,writer,music_department</td>\n",
       "      <td>tt0072562,tt0077975,tt0080455,tt0078723</td>\n",
       "    </tr>\n",
       "    <tr>\n",
       "      <th>4</th>\n",
       "      <td>nm0000005</td>\n",
       "      <td>Ingmar Bergman</td>\n",
       "      <td>1918.0</td>\n",
       "      <td>2007.0</td>\n",
       "      <td>writer,director,actor</td>\n",
       "      <td>tt0050986,tt0083922,tt0050976,tt0069467</td>\n",
       "    </tr>\n",
       "  </tbody>\n",
       "</table>\n",
       "</div>"
      ],
      "text/plain": [
       "      nconst      primaryName  birthYear  deathYear  \\\n",
       "0  nm0000001     Fred Astaire     1899.0     1987.0   \n",
       "1  nm0000002    Lauren Bacall     1924.0     2014.0   \n",
       "2  nm0000003  Brigitte Bardot     1934.0        NaN   \n",
       "3  nm0000004     John Belushi     1949.0     1982.0   \n",
       "4  nm0000005   Ingmar Bergman     1918.0     2007.0   \n",
       "\n",
       "                    primaryProfession                           knownForTitles  \n",
       "0        actor,miscellaneous,producer  tt0072308,tt0050419,tt0053137,tt0027125  \n",
       "1  actress,soundtrack,archive_footage  tt0037382,tt0075213,tt0117057,tt0038355  \n",
       "2   actress,music_department,producer  tt0057345,tt0049189,tt0056404,tt0054452  \n",
       "3       actor,writer,music_department  tt0072562,tt0077975,tt0080455,tt0078723  \n",
       "4               writer,director,actor  tt0050986,tt0083922,tt0050976,tt0069467  "
      ]
     },
     "execution_count": 8,
     "metadata": {},
     "output_type": "execute_result"
    }
   ],
   "source": [
    "df_name_basics = pickle.load(open(f\"{dataset_path}/name.basics.sav\",\"rb\"))\n",
    "df_name_basics.head()"
   ]
  },
  {
   "cell_type": "code",
   "execution_count": 9,
   "id": "19e6239b-e3e1-4736-b759-7f0077fd3f1c",
   "metadata": {
    "tags": []
   },
   "outputs": [
    {
     "data": {
      "text/html": [
       "<div>\n",
       "<style scoped>\n",
       "    .dataframe tbody tr th:only-of-type {\n",
       "        vertical-align: middle;\n",
       "    }\n",
       "\n",
       "    .dataframe tbody tr th {\n",
       "        vertical-align: top;\n",
       "    }\n",
       "\n",
       "    .dataframe thead th {\n",
       "        text-align: right;\n",
       "    }\n",
       "</style>\n",
       "<table border=\"1\" class=\"dataframe\">\n",
       "  <thead>\n",
       "    <tr style=\"text-align: right;\">\n",
       "      <th></th>\n",
       "      <th>tconst</th>\n",
       "      <th>averageRating</th>\n",
       "      <th>numVotes</th>\n",
       "    </tr>\n",
       "  </thead>\n",
       "  <tbody>\n",
       "    <tr>\n",
       "      <th>0</th>\n",
       "      <td>tt0000001</td>\n",
       "      <td>5.7</td>\n",
       "      <td>2060</td>\n",
       "    </tr>\n",
       "    <tr>\n",
       "      <th>1</th>\n",
       "      <td>tt0000002</td>\n",
       "      <td>5.6</td>\n",
       "      <td>278</td>\n",
       "    </tr>\n",
       "    <tr>\n",
       "      <th>2</th>\n",
       "      <td>tt0000003</td>\n",
       "      <td>6.5</td>\n",
       "      <td>2029</td>\n",
       "    </tr>\n",
       "    <tr>\n",
       "      <th>3</th>\n",
       "      <td>tt0000004</td>\n",
       "      <td>5.4</td>\n",
       "      <td>179</td>\n",
       "    </tr>\n",
       "    <tr>\n",
       "      <th>4</th>\n",
       "      <td>tt0000005</td>\n",
       "      <td>6.2</td>\n",
       "      <td>2796</td>\n",
       "    </tr>\n",
       "  </tbody>\n",
       "</table>\n",
       "</div>"
      ],
      "text/plain": [
       "      tconst  averageRating  numVotes\n",
       "0  tt0000001            5.7      2060\n",
       "1  tt0000002            5.6       278\n",
       "2  tt0000003            6.5      2029\n",
       "3  tt0000004            5.4       179\n",
       "4  tt0000005            6.2      2796"
      ]
     },
     "execution_count": 9,
     "metadata": {},
     "output_type": "execute_result"
    }
   ],
   "source": [
    "df_title_ratings = pickle.load(open(f\"{dataset_path}/title.ratings.sav\",\"rb\"))\n",
    "df_title_ratings.head()"
   ]
  },
  {
   "cell_type": "code",
   "execution_count": 45,
   "id": "475f1329-045a-4176-8154-e4d5aa74af01",
   "metadata": {
    "tags": []
   },
   "outputs": [
    {
     "data": {
      "text/html": [
       "<div>\n",
       "<style scoped>\n",
       "    .dataframe tbody tr th:only-of-type {\n",
       "        vertical-align: middle;\n",
       "    }\n",
       "\n",
       "    .dataframe tbody tr th {\n",
       "        vertical-align: top;\n",
       "    }\n",
       "\n",
       "    .dataframe thead th {\n",
       "        text-align: right;\n",
       "    }\n",
       "</style>\n",
       "<table border=\"1\" class=\"dataframe\">\n",
       "  <thead>\n",
       "    <tr style=\"text-align: right;\">\n",
       "      <th></th>\n",
       "      <th>tconst</th>\n",
       "      <th>directors</th>\n",
       "      <th>writers</th>\n",
       "    </tr>\n",
       "  </thead>\n",
       "  <tbody>\n",
       "    <tr>\n",
       "      <th>0</th>\n",
       "      <td>tt0000001</td>\n",
       "      <td>nm0005690</td>\n",
       "      <td>NaN</td>\n",
       "    </tr>\n",
       "    <tr>\n",
       "      <th>1</th>\n",
       "      <td>tt0000002</td>\n",
       "      <td>nm0721526</td>\n",
       "      <td>NaN</td>\n",
       "    </tr>\n",
       "    <tr>\n",
       "      <th>2</th>\n",
       "      <td>tt0000003</td>\n",
       "      <td>nm0721526</td>\n",
       "      <td>NaN</td>\n",
       "    </tr>\n",
       "    <tr>\n",
       "      <th>3</th>\n",
       "      <td>tt0000004</td>\n",
       "      <td>nm0721526</td>\n",
       "      <td>NaN</td>\n",
       "    </tr>\n",
       "    <tr>\n",
       "      <th>4</th>\n",
       "      <td>tt0000005</td>\n",
       "      <td>nm0005690</td>\n",
       "      <td>NaN</td>\n",
       "    </tr>\n",
       "  </tbody>\n",
       "</table>\n",
       "</div>"
      ],
      "text/plain": [
       "      tconst  directors writers\n",
       "0  tt0000001  nm0005690     NaN\n",
       "1  tt0000002  nm0721526     NaN\n",
       "2  tt0000003  nm0721526     NaN\n",
       "3  tt0000004  nm0721526     NaN\n",
       "4  tt0000005  nm0005690     NaN"
      ]
     },
     "execution_count": 45,
     "metadata": {},
     "output_type": "execute_result"
    }
   ],
   "source": [
    "df_title_crew = pickle.load(open(f\"{dataset_path}/title.crew.sav\",\"rb\"))\n",
    "df_title_crew.head()"
   ]
  },
  {
   "cell_type": "markdown",
   "id": "67bd2feb-604f-4695-93f8-eeb0ebf9bdd9",
   "metadata": {},
   "source": [
    "## Drop Specific Titles"
   ]
  },
  {
   "cell_type": "markdown",
   "id": "61584594-1234-4e72-b448-4ccee8c86b13",
   "metadata": {},
   "source": [
    "### Drop Specific Title Types"
   ]
  },
  {
   "cell_type": "code",
   "execution_count": 18,
   "id": "73536e0f-8250-4cd7-a2dd-4255f54e9c49",
   "metadata": {
    "tags": []
   },
   "outputs": [
    {
     "data": {
      "text/plain": [
       "10900927"
      ]
     },
     "execution_count": 18,
     "metadata": {},
     "output_type": "execute_result"
    }
   ],
   "source": [
    "# initial title count\n",
    "df_title_basics.shape[0]"
   ]
  },
  {
   "cell_type": "code",
   "execution_count": 19,
   "id": "0e0de4d0-6593-4ed6-958f-566904244653",
   "metadata": {},
   "outputs": [
    {
     "data": {
      "text/plain": [
       "array(['short', 'movie', 'tvShort', 'tvMovie', 'tvSeries', 'tvEpisode',\n",
       "       'tvMiniSeries', 'tvSpecial', 'video', 'videoGame', 'tvPilot'],\n",
       "      dtype=object)"
      ]
     },
     "execution_count": 19,
     "metadata": {},
     "output_type": "execute_result"
    }
   ],
   "source": [
    "# identify title types\n",
    "df_title_basics.titleType.unique()"
   ]
  },
  {
   "cell_type": "code",
   "execution_count": 20,
   "id": "6ad746d4-1319-4786-a899-ef73d0ea0d61",
   "metadata": {
    "tags": []
   },
   "outputs": [
    {
     "data": {
      "text/plain": [
       "1154692"
      ]
     },
     "execution_count": 20,
     "metadata": {},
     "output_type": "execute_result"
    }
   ],
   "source": [
    "# only keep movie tvMovie tvSeries tvMiniSeries\n",
    "df_title_basics = df_title_basics[(df_title_basics.titleType == \"movie\") | (df_title_basics.titleType == \"tvMovie\") | (df_title_basics.titleType == \"tvSeries\") | (df_title_basics.titleType == \"tvMiniSeries\")]\n",
    "df_title_basics.shape[0]"
   ]
  },
  {
   "cell_type": "markdown",
   "id": "173ce37e-2b7e-48d4-863c-d82c803f8572",
   "metadata": {},
   "source": [
    "### Drop Older Titles"
   ]
  },
  {
   "cell_type": "code",
   "execution_count": 21,
   "id": "4d34f91d-e722-4241-b5a0-d672e0bd16fd",
   "metadata": {
    "tags": []
   },
   "outputs": [
    {
     "data": {
      "text/plain": [
       "977658"
      ]
     },
     "execution_count": 21,
     "metadata": {},
     "output_type": "execute_result"
    }
   ],
   "source": [
    "# drop titles older than 1925\n",
    "df_title_basics = df_title_basics[df_title_basics['startYear'] > 1935]\n",
    "# df_title_basics = df_title_basics[df_title_basics['endYear'] > 1935]\n",
    "df_title_basics.shape[0]"
   ]
  },
  {
   "cell_type": "markdown",
   "id": "fbb074b5-706d-4d63-8961-566b985e4835",
   "metadata": {},
   "source": [
    "### Drop Unused Columns"
   ]
  },
  {
   "cell_type": "code",
   "execution_count": 22,
   "id": "6fe36ef6-3e9f-425a-b255-d449d437400a",
   "metadata": {
    "tags": []
   },
   "outputs": [
    {
     "name": "stdout",
     "output_type": "stream",
     "text": [
      "<class 'pandas.core.frame.DataFrame'>\n",
      "Index: 977658 entries, 3816 to 10900877\n",
      "Data columns (total 7 columns):\n",
      " #   Column     Non-Null Count   Dtype  \n",
      "---  ------     --------------   -----  \n",
      " 0   tconst     977658 non-null  object \n",
      " 1   titleType  977658 non-null  object \n",
      " 2   title      977656 non-null  object \n",
      " 3   isAdult    977658 non-null  float64\n",
      " 4   year       977658 non-null  float64\n",
      " 5   runtime    624032 non-null  object \n",
      " 6   genres     888267 non-null  object \n",
      "dtypes: float64(2), object(5)\n",
      "memory usage: 59.7+ MB\n"
     ]
    }
   ],
   "source": [
    "# drop unused columns\n",
    "df_title_basics = df_title_basics.drop(['originalTitle', 'endYear'], axis=1)\n",
    "df_title_basics.columns = ['tconst', 'titleType', 'title', 'isAdult', 'year', 'runtime', 'genres']\n",
    "df_title_basics.info()"
   ]
  },
  {
   "cell_type": "markdown",
   "id": "87faab42-626e-4ff7-9f9f-fdda930c33d3",
   "metadata": {},
   "source": [
    "## Merge Tables"
   ]
  },
  {
   "cell_type": "markdown",
   "id": "f2bba8d7-8f62-4c2b-be09-cec073b196fa",
   "metadata": {},
   "source": [
    "### Prepare Directors Table"
   ]
  },
  {
   "cell_type": "code",
   "execution_count": 23,
   "id": "60ce16ef-e4b2-42bc-9601-1bae6f774b3d",
   "metadata": {
    "tags": []
   },
   "outputs": [],
   "source": [
    "df_title_directors = df_title_principals[df_title_principals['category'] == 'director'][['tconst', 'nconst']]\n",
    "df_title_directors = df_title_directors.merge(df_name_basics[['nconst', 'primaryName']], on='nconst', how='left')\n",
    "df_title_directors['primaryName'] = df_title_directors['primaryName'].fillna('')\n",
    "df_title_directors = df_title_directors.groupby('tconst')['primaryName'].apply(lambda x: ', '.join(x)).reset_index()\n",
    "df_title_directors.columns = ['tconst', 'directors']"
   ]
  },
  {
   "cell_type": "markdown",
   "id": "91dfcf8d-35e5-46d8-924b-988fbbbed5a0",
   "metadata": {},
   "source": [
    "### Prepare Actors Table"
   ]
  },
  {
   "cell_type": "code",
   "execution_count": 24,
   "id": "72a2376a-1aca-4d12-b724-965f574cff60",
   "metadata": {
    "tags": []
   },
   "outputs": [],
   "source": [
    "df_title_actors = df_title_principals[df_title_principals['category'].isin(['actor', 'actress'])][['tconst', 'nconst']]\n",
    "df_title_actors = df_title_actors.merge(df_name_basics[['nconst', 'primaryName']], on='nconst', how='left')\n",
    "df_title_actors['primaryName'] = df_title_actors['primaryName'].fillna('')\n",
    "df_title_actors = df_title_actors.groupby('tconst')['primaryName'].apply(lambda x: ', '.join(x)).reset_index()\n",
    "df_title_actors.columns = ['tconst', 'actors']"
   ]
  },
  {
   "cell_type": "markdown",
   "id": "1bae8a92-131e-4aae-be53-b09793d7696f",
   "metadata": {},
   "source": [
    "### Merge Tables"
   ]
  },
  {
   "cell_type": "code",
   "execution_count": 25,
   "id": "9b8d6a76-16f7-4d7f-9c9d-af7d934c9800",
   "metadata": {
    "tags": []
   },
   "outputs": [
    {
     "name": "stdout",
     "output_type": "stream",
     "text": [
      "<class 'pandas.core.frame.DataFrame'>\n",
      "RangeIndex: 977658 entries, 0 to 977657\n",
      "Data columns (total 11 columns):\n",
      " #   Column     Non-Null Count   Dtype  \n",
      "---  ------     --------------   -----  \n",
      " 0   tconst     977658 non-null  object \n",
      " 1   titleType  977658 non-null  object \n",
      " 2   title      977656 non-null  object \n",
      " 3   isAdult    977658 non-null  float64\n",
      " 4   year       977658 non-null  float64\n",
      " 5   runtime    624032 non-null  object \n",
      " 6   genres     888267 non-null  object \n",
      " 7   rating     468633 non-null  float64\n",
      " 8   numVotes   468633 non-null  float64\n",
      " 9   directors  631876 non-null  object \n",
      " 10  actors     700546 non-null  object \n",
      "dtypes: float64(4), object(7)\n",
      "memory usage: 82.0+ MB\n"
     ]
    }
   ],
   "source": [
    "df_title_ratings.columns = ['tconst', 'rating', 'numVotes']\n",
    "\n",
    "df_merged = pd.merge(df_title_basics, df_title_ratings, on='tconst', how='left')\n",
    "df_merged = pd.merge(df_merged, df_title_directors, on='tconst', how='left')\n",
    "df_merged = pd.merge(df_merged, df_title_actors, on='tconst', how='left')\n",
    "df_merged.info()"
   ]
  },
  {
   "cell_type": "markdown",
   "id": "60e03f08-44d0-4121-a8eb-1ce0ae77fc0a",
   "metadata": {},
   "source": [
    "### Drop More Titles (without directors and without actors)"
   ]
  },
  {
   "cell_type": "code",
   "execution_count": 26,
   "id": "64976dac-e246-4de8-a263-f80222cb3ee0",
   "metadata": {
    "tags": []
   },
   "outputs": [
    {
     "data": {
      "text/plain": [
       "495262"
      ]
     },
     "execution_count": 26,
     "metadata": {},
     "output_type": "execute_result"
    }
   ],
   "source": [
    "# drop rows with no directors or actors\n",
    "df_merged.dropna(subset=['directors'], inplace=True)\n",
    "df_merged.dropna(subset=['actors'], inplace=True)\n",
    "df_merged.shape[0]"
   ]
  },
  {
   "cell_type": "markdown",
   "id": "cd38d45e-af19-4702-ab9f-e1ab2de767c1",
   "metadata": {},
   "source": [
    "### Drop Lower Rated Titles (and titles with low number of ratings)"
   ]
  },
  {
   "cell_type": "code",
   "execution_count": 27,
   "id": "931992e7-6221-4697-b7e4-55dcd0e03fd5",
   "metadata": {
    "tags": []
   },
   "outputs": [
    {
     "data": {
      "text/plain": [
       "27880"
      ]
     },
     "execution_count": 27,
     "metadata": {},
     "output_type": "execute_result"
    }
   ],
   "source": [
    "df_merged = df_merged[df_merged['numVotes'] > 2000]\n",
    "df_merged = df_merged[df_merged['rating'] > 4.0]\n",
    "df_merged.shape[0]"
   ]
  },
  {
   "cell_type": "markdown",
   "id": "296554f2-babd-4f7e-9250-8e911a2a04ec",
   "metadata": {
    "tags": []
   },
   "source": [
    "### Get Plot from TMDB"
   ]
  },
  {
   "cell_type": "markdown",
   "id": "189a8cce-023f-4541-9474-2c05520c1fc3",
   "metadata": {},
   "source": [
    "#### Define Function to Get Plot"
   ]
  },
  {
   "cell_type": "code",
   "execution_count": 28,
   "id": "74194b18-cee9-45f7-8c81-f505fb9f74ba",
   "metadata": {
    "tags": []
   },
   "outputs": [],
   "source": [
    "from time import sleep\n",
    "tmdb = TMDb(key=\"xxxxxxxxxxxxxxxxxxxxxxxxxxxxxxxx\", language=\"en-US\", region=\"US\")\n",
    "def get_overview(imdb_id):\n",
    "    title =  tmdb.find().by_imdb(imdb_id)\n",
    "    sleep(0.025)\n",
    "    if title.movie_results:\n",
    "        return title.movie_results[0].overview\n",
    "    if  title.tv_results:\n",
    "        return title.tv_results[0].overview\n",
    "    return"
   ]
  },
  {
   "cell_type": "markdown",
   "id": "2a50dcf8-eae2-4894-9764-6be0fd7f3f49",
   "metadata": {},
   "source": [
    "#### Get Plot for All Remaining Titles"
   ]
  },
  {
   "cell_type": "code",
   "execution_count": 29,
   "id": "f79e70a1-4bf0-4374-92fa-cc5bb0a5d1e5",
   "metadata": {
    "tags": []
   },
   "outputs": [
    {
     "name": "stdout",
     "output_type": "stream",
     "text": [
      "<class 'pandas.core.frame.DataFrame'>\n",
      "Index: 100 entries, 106 to 2201\n",
      "Data columns (total 12 columns):\n",
      " #   Column     Non-Null Count  Dtype  \n",
      "---  ------     --------------  -----  \n",
      " 0   tconst     100 non-null    object \n",
      " 1   titleType  100 non-null    object \n",
      " 2   title      100 non-null    object \n",
      " 3   isAdult    100 non-null    float64\n",
      " 4   year       100 non-null    float64\n",
      " 5   runtime    100 non-null    object \n",
      " 6   genres     100 non-null    object \n",
      " 7   rating     100 non-null    float64\n",
      " 8   numVotes   100 non-null    float64\n",
      " 9   directors  100 non-null    object \n",
      " 10  actors     100 non-null    object \n",
      " 11  plot       100 non-null    object \n",
      "dtypes: float64(4), object(8)\n",
      "memory usage: 10.2+ KB\n"
     ]
    },
    {
     "name": "stderr",
     "output_type": "stream",
     "text": [
      "/tmp/ipykernel_8679/1649889164.py:2: SettingWithCopyWarning: \n",
      "A value is trying to be set on a copy of a slice from a DataFrame.\n",
      "Try using .loc[row_indexer,col_indexer] = value instead\n",
      "\n",
      "See the caveats in the documentation: https://pandas.pydata.org/pandas-docs/stable/user_guide/indexing.html#returning-a-view-versus-a-copy\n",
      "  df_subset['plot'] = df_subset['tconst'].map(get_overview)\n"
     ]
    }
   ],
   "source": [
    "df_subset = df_merged.head(100)\n",
    "df_subset['plot'] = df_subset['tconst'].map(get_overview)\n",
    "df_subset.info()"
   ]
  },
  {
   "cell_type": "markdown",
   "id": "07b06c1d-2351-4cef-a5b0-72ca6cbfd23f",
   "metadata": {},
   "source": [
    "#### Drop Titles with No Plot"
   ]
  },
  {
   "cell_type": "code",
   "execution_count": 30,
   "id": "a6606566-46aa-4d91-9b4b-e0becb86da7e",
   "metadata": {
    "tags": []
   },
   "outputs": [
    {
     "name": "stderr",
     "output_type": "stream",
     "text": [
      "/tmp/ipykernel_8679/2992180993.py:1: FutureWarning: A value is trying to be set on a copy of a DataFrame or Series through chained assignment using an inplace method.\n",
      "The behavior will change in pandas 3.0. This inplace method will never work because the intermediate object on which we are setting values always behaves as a copy.\n",
      "\n",
      "For example, when doing 'df[col].method(value, inplace=True)', try using 'df.method({col: value}, inplace=True)' or df[col] = df[col].method(value) instead, to perform the operation inplace on the original object.\n",
      "\n",
      "\n",
      "  df_subset['plot'].replace('', np.nan, inplace=True)\n",
      "/tmp/ipykernel_8679/2992180993.py:1: SettingWithCopyWarning: \n",
      "A value is trying to be set on a copy of a slice from a DataFrame\n",
      "\n",
      "See the caveats in the documentation: https://pandas.pydata.org/pandas-docs/stable/user_guide/indexing.html#returning-a-view-versus-a-copy\n",
      "  df_subset['plot'].replace('', np.nan, inplace=True)\n",
      "/tmp/ipykernel_8679/2992180993.py:2: SettingWithCopyWarning: \n",
      "A value is trying to be set on a copy of a slice from a DataFrame\n",
      "\n",
      "See the caveats in the documentation: https://pandas.pydata.org/pandas-docs/stable/user_guide/indexing.html#returning-a-view-versus-a-copy\n",
      "  df_subset.dropna(subset=['plot'], inplace=True)\n"
     ]
    },
    {
     "data": {
      "text/plain": [
       "100"
      ]
     },
     "execution_count": 30,
     "metadata": {},
     "output_type": "execute_result"
    }
   ],
   "source": [
    "df_subset['plot'].replace('', np.nan, inplace=True)\n",
    "df_subset.dropna(subset=['plot'], inplace=True)\n",
    "df_subset.shape[0]"
   ]
  },
  {
   "cell_type": "markdown",
   "id": "3c368c90-388b-405f-9dad-8fd9db03ffe8",
   "metadata": {
    "tags": []
   },
   "source": [
    "### Generate Vector Embedding for Plot"
   ]
  },
  {
   "cell_type": "markdown",
   "id": "636b200c-1733-45d1-ac1c-9f0f2a7cbf2b",
   "metadata": {
    "tags": []
   },
   "source": [
    "#### Define Function to Query Bedrock for Vector Embedding"
   ]
  },
  {
   "cell_type": "code",
   "execution_count": 31,
   "id": "ed8ffac7-4272-4317-b663-3c957f15b86f",
   "metadata": {
    "tags": []
   },
   "outputs": [],
   "source": [
    "bedrock_runtime = boto3.client('bedrock-runtime')\n",
    "\n",
    "def get_text_embedding(text, dimensions=512, normalize=True):\n",
    "    if not isinstance(text, str):\n",
    "        return \"\"\n",
    "    try:\n",
    "        body = json.dumps({\"inputText\": text, \"dimensions\" : dimensions, \"normalize\": normalize})\n",
    "        modelId = \"amazon.titan-embed-text-v2:0\"\n",
    "        accept = \"application/json\"\n",
    "        contentType = \"application/json\"\n",
    "\n",
    "        response = bedrock_runtime.invoke_model(\n",
    "            body=body, modelId=modelId, accept=accept, contentType=contentType\n",
    "        )\n",
    "        response_body = json.loads(response.get(\"body\").read())\n",
    "        return(response_body.get(\"embedding\"))\n",
    "    except botocore.exceptions.ClientError as error:\n",
    "        print(text)\n",
    "        if error.response['Error']['Code'] == 'AccessDeniedException':\n",
    "               print(f\"\\x1b[41m{error.response['Error']['Message']}\\\n",
    "                    \\nTo troubeshoot this issue please refer to the following resources.\\\n",
    "                     \\nhttps://docs.aws.amazon.com/IAM/latest/UserGuide/troubleshoot_access-denied.html\\\n",
    "                     \\nhttps://docs.aws.amazon.com/bedrock/latest/userguide/security-iam.html\\x1b[0m\\n\")\n",
    "\n",
    "        else:\n",
    "            print(text)\n",
    "            raise error"
   ]
  },
  {
   "cell_type": "markdown",
   "id": "820114ab-2689-432d-b567-769f7f38de72",
   "metadata": {},
   "source": [
    "#### Add Vector Embedding to Each Title"
   ]
  },
  {
   "cell_type": "code",
   "execution_count": 32,
   "id": "8f8adb31-34f1-4605-a24a-5b7a79ccc71d",
   "metadata": {
    "tags": []
   },
   "outputs": [
    {
     "name": "stdout",
     "output_type": "stream",
     "text": [
      "<class 'pandas.core.frame.DataFrame'>\n",
      "Index: 100 entries, 106 to 2201\n",
      "Data columns (total 13 columns):\n",
      " #   Column     Non-Null Count  Dtype  \n",
      "---  ------     --------------  -----  \n",
      " 0   tconst     100 non-null    object \n",
      " 1   titleType  100 non-null    object \n",
      " 2   title      100 non-null    object \n",
      " 3   isAdult    100 non-null    float64\n",
      " 4   year       100 non-null    float64\n",
      " 5   runtime    100 non-null    object \n",
      " 6   genres     100 non-null    object \n",
      " 7   rating     100 non-null    float64\n",
      " 8   numVotes   100 non-null    float64\n",
      " 9   directors  100 non-null    object \n",
      " 10  actors     100 non-null    object \n",
      " 11  plot       100 non-null    object \n",
      " 12  v_plot     100 non-null    object \n",
      "dtypes: float64(4), object(9)\n",
      "memory usage: 10.9+ KB\n"
     ]
    },
    {
     "name": "stderr",
     "output_type": "stream",
     "text": [
      "/tmp/ipykernel_8679/1171507248.py:1: SettingWithCopyWarning: \n",
      "A value is trying to be set on a copy of a slice from a DataFrame.\n",
      "Try using .loc[row_indexer,col_indexer] = value instead\n",
      "\n",
      "See the caveats in the documentation: https://pandas.pydata.org/pandas-docs/stable/user_guide/indexing.html#returning-a-view-versus-a-copy\n",
      "  df_subset[\"v_plot\"] = df_subset[\"plot\"].map(get_text_embedding)\n"
     ]
    }
   ],
   "source": [
    "df_subset[\"v_plot\"] = df_subset[\"plot\"].map(get_text_embedding)\n",
    "df_subset.info()"
   ]
  },
  {
   "cell_type": "code",
   "execution_count": 33,
   "id": "9346098c-99f0-495b-a0b4-a2b4eee7561b",
   "metadata": {
    "tags": []
   },
   "outputs": [
    {
     "data": {
      "text/html": [
       "<div>\n",
       "<style scoped>\n",
       "    .dataframe tbody tr th:only-of-type {\n",
       "        vertical-align: middle;\n",
       "    }\n",
       "\n",
       "    .dataframe tbody tr th {\n",
       "        vertical-align: top;\n",
       "    }\n",
       "\n",
       "    .dataframe thead th {\n",
       "        text-align: right;\n",
       "    }\n",
       "</style>\n",
       "<table border=\"1\" class=\"dataframe\">\n",
       "  <thead>\n",
       "    <tr style=\"text-align: right;\">\n",
       "      <th></th>\n",
       "      <th>tconst</th>\n",
       "      <th>titleType</th>\n",
       "      <th>title</th>\n",
       "      <th>isAdult</th>\n",
       "      <th>year</th>\n",
       "      <th>runtime</th>\n",
       "      <th>genres</th>\n",
       "      <th>rating</th>\n",
       "      <th>numVotes</th>\n",
       "      <th>directors</th>\n",
       "      <th>actors</th>\n",
       "      <th>plot</th>\n",
       "      <th>v_plot</th>\n",
       "    </tr>\n",
       "  </thead>\n",
       "  <tbody>\n",
       "    <tr>\n",
       "      <th>106</th>\n",
       "      <td>tt0027260</td>\n",
       "      <td>movie</td>\n",
       "      <td>After the Thin Man</td>\n",
       "      <td>0.0</td>\n",
       "      <td>1936.0</td>\n",
       "      <td>112</td>\n",
       "      <td>Comedy,Crime,Mystery</td>\n",
       "      <td>7.6</td>\n",
       "      <td>12204.0</td>\n",
       "      <td>W.S. Van Dyke</td>\n",
       "      <td>William Powell, Myrna Loy, James Stewart, Elis...</td>\n",
       "      <td>Nick and Nora Charles investigate when Nora's ...</td>\n",
       "      <td>[-0.112098925, 0.0368897, -0.00024240141, -0.0...</td>\n",
       "    </tr>\n",
       "    <tr>\n",
       "      <th>121</th>\n",
       "      <td>tt0027286</td>\n",
       "      <td>movie</td>\n",
       "      <td>The Amazing Adventure</td>\n",
       "      <td>0.0</td>\n",
       "      <td>1936.0</td>\n",
       "      <td>61</td>\n",
       "      <td>Comedy,Drama,Romance</td>\n",
       "      <td>6.3</td>\n",
       "      <td>2191.0</td>\n",
       "      <td>Alfred Zeisler</td>\n",
       "      <td>Cary Grant, Mary Brian, Peter Gawthorne, Henry...</td>\n",
       "      <td>A bored millionaire wagers his doctor that he ...</td>\n",
       "      <td>[-0.11646503, -0.016336221, 0.022670673, -0.11...</td>\n",
       "    </tr>\n",
       "    <tr>\n",
       "      <th>134</th>\n",
       "      <td>tt0027300</td>\n",
       "      <td>movie</td>\n",
       "      <td>Anthony Adverse</td>\n",
       "      <td>0.0</td>\n",
       "      <td>1936.0</td>\n",
       "      <td>141</td>\n",
       "      <td>Adventure,Drama,Romance</td>\n",
       "      <td>6.3</td>\n",
       "      <td>2046.0</td>\n",
       "      <td>Mervyn LeRoy</td>\n",
       "      <td>Fredric March, Olivia de Havilland, Donald Woo...</td>\n",
       "      <td>Based on the novel by Hervey Allen, this expan...</td>\n",
       "      <td>[-0.10065765, 0.01913084, -0.029284902, 0.0194...</td>\n",
       "    </tr>\n",
       "    <tr>\n",
       "      <th>158</th>\n",
       "      <td>tt0027336</td>\n",
       "      <td>movie</td>\n",
       "      <td>The Lower Depths</td>\n",
       "      <td>0.0</td>\n",
       "      <td>1936.0</td>\n",
       "      <td>90</td>\n",
       "      <td>Crime,Drama,Romance</td>\n",
       "      <td>7.5</td>\n",
       "      <td>3701.0</td>\n",
       "      <td>Jean Renoir</td>\n",
       "      <td>Jean Gabin, Suzy Prim, Louis Jouvet, Jany Holt...</td>\n",
       "      <td>Inhabitants of a flophouse struggle to survive...</td>\n",
       "      <td>[-0.049684554, 0.120132804, 0.0017727931, -0.0...</td>\n",
       "    </tr>\n",
       "    <tr>\n",
       "      <th>180</th>\n",
       "      <td>tt0027367</td>\n",
       "      <td>movie</td>\n",
       "      <td>Black Legion</td>\n",
       "      <td>0.0</td>\n",
       "      <td>1937.0</td>\n",
       "      <td>83</td>\n",
       "      <td>Crime,Drama,Film-Noir</td>\n",
       "      <td>6.9</td>\n",
       "      <td>3940.0</td>\n",
       "      <td>Archie Mayo</td>\n",
       "      <td>Humphrey Bogart, Ann Sheridan, Dick Foran, Eri...</td>\n",
       "      <td>When a hard-working machinist loses a promotio...</td>\n",
       "      <td>[-0.09975542, 0.11154916, 0.009889546, -0.0111...</td>\n",
       "    </tr>\n",
       "  </tbody>\n",
       "</table>\n",
       "</div>"
      ],
      "text/plain": [
       "        tconst titleType                  title  isAdult    year runtime  \\\n",
       "106  tt0027260     movie     After the Thin Man      0.0  1936.0     112   \n",
       "121  tt0027286     movie  The Amazing Adventure      0.0  1936.0      61   \n",
       "134  tt0027300     movie        Anthony Adverse      0.0  1936.0     141   \n",
       "158  tt0027336     movie       The Lower Depths      0.0  1936.0      90   \n",
       "180  tt0027367     movie           Black Legion      0.0  1937.0      83   \n",
       "\n",
       "                      genres  rating  numVotes       directors  \\\n",
       "106     Comedy,Crime,Mystery     7.6   12204.0   W.S. Van Dyke   \n",
       "121     Comedy,Drama,Romance     6.3    2191.0  Alfred Zeisler   \n",
       "134  Adventure,Drama,Romance     6.3    2046.0    Mervyn LeRoy   \n",
       "158      Crime,Drama,Romance     7.5    3701.0     Jean Renoir   \n",
       "180    Crime,Drama,Film-Noir     6.9    3940.0     Archie Mayo   \n",
       "\n",
       "                                                actors  \\\n",
       "106  William Powell, Myrna Loy, James Stewart, Elis...   \n",
       "121  Cary Grant, Mary Brian, Peter Gawthorne, Henry...   \n",
       "134  Fredric March, Olivia de Havilland, Donald Woo...   \n",
       "158  Jean Gabin, Suzy Prim, Louis Jouvet, Jany Holt...   \n",
       "180  Humphrey Bogart, Ann Sheridan, Dick Foran, Eri...   \n",
       "\n",
       "                                                  plot  \\\n",
       "106  Nick and Nora Charles investigate when Nora's ...   \n",
       "121  A bored millionaire wagers his doctor that he ...   \n",
       "134  Based on the novel by Hervey Allen, this expan...   \n",
       "158  Inhabitants of a flophouse struggle to survive...   \n",
       "180  When a hard-working machinist loses a promotio...   \n",
       "\n",
       "                                                v_plot  \n",
       "106  [-0.112098925, 0.0368897, -0.00024240141, -0.0...  \n",
       "121  [-0.11646503, -0.016336221, 0.022670673, -0.11...  \n",
       "134  [-0.10065765, 0.01913084, -0.029284902, 0.0194...  \n",
       "158  [-0.049684554, 0.120132804, 0.0017727931, -0.0...  \n",
       "180  [-0.09975542, 0.11154916, 0.009889546, -0.0111...  "
      ]
     },
     "execution_count": 33,
     "metadata": {},
     "output_type": "execute_result"
    }
   ],
   "source": [
    "df_subset.head()"
   ]
  },
  {
   "cell_type": "markdown",
   "id": "1b61ada5-cbe7-4041-9342-f4a98c02681c",
   "metadata": {},
   "source": [
    "## MemoryDB Ingestion"
   ]
  },
  {
   "cell_type": "markdown",
   "id": "9a6fe612-8068-4349-9f6b-26469fc5eb23",
   "metadata": {},
   "source": [
    "### Define Functions for Index Creation"
   ]
  },
  {
   "cell_type": "code",
   "execution_count": 34,
   "id": "09b05c28-08cc-4ba9-a642-3fd82f12a084",
   "metadata": {
    "tags": []
   },
   "outputs": [],
   "source": [
    "def generate_key(prefix = \"\"):\n",
    "    return prefix + str(uuid.uuid4())\n",
    "\n",
    "def create_hnsw_index(rc, index_name, vector_field_name, number_of_vectors, vector_dimensions=512, distance_metric='L2', M=16, EF=512, key_prefix=''):\n",
    "    # Create the index\n",
    "    try:\n",
    "        rc.ft(index_name).create_index([\n",
    "            VectorField(vector_field_name, \"HNSW\", {\n",
    "                \"TYPE\": \"FLOAT32\",\n",
    "                \"DIM\": vector_dimensions,\n",
    "                \"DISTANCE_METRIC\": distance_metric,\n",
    "                \"INITIAL_CAP\": number_of_vectors,\n",
    "                \"M\": M,\n",
    "                \"EF_CONSTRUCTION\": EF\n",
    "            }),\n",
    "            TagField(\"isAdult\"),\n",
    "            TagField(\"titleType\"),\n",
    "            TagField(\"directors\"),\n",
    "            NumericField(\"rating\"),\n",
    "            TagField(\"genres\"),\n",
    "            TextField(\"plot\"),\n",
    "            TextField(\"title\"),\n",
    "            NumericField(\"runtime\"),\n",
    "            TagField(\"actors\"),\n",
    "            NumericField(\"year\")\n",
    "        ], definition=IndexDefinition(prefix=[key_prefix]))\n",
    "        print(f\"Index {index_name} created successfully.\")\n",
    "    except ResponseError as e:\n",
    "        print(f\"Index {index_name} created previously: {str(e)}\")"
   ]
  },
  {
   "cell_type": "markdown",
   "id": "c0573f44-8a1f-48d6-9cf8-111c69db3f56",
   "metadata": {
    "tags": []
   },
   "source": [
    "### Define Variables for MemoryDB Index"
   ]
  },
  {
   "cell_type": "code",
   "execution_count": 35,
   "id": "7519b5ea-d132-496f-a8d5-dae34bf13aee",
   "metadata": {
    "tags": []
   },
   "outputs": [
    {
     "name": "stdout",
     "output_type": "stream",
     "text": [
      "Creating Index imdb_hnsw_index on Field v_plot expecting 100 vectors\n"
     ]
    }
   ],
   "source": [
    "KEY_PREFIX = \"movies:\"\n",
    "index_name = \"imdb_hnsw_index\"\n",
    "vector_field_name = \"v_plot\"\n",
    "number_of_vectors = len(df_subset)\n",
    "print(f\"Creating Index {index_name} on Field {vector_field_name} expecting {number_of_vectors:,} vectors\")"
   ]
  },
  {
   "cell_type": "markdown",
   "id": "c065955f-ad5f-4ce9-9173-ce10854b7ce3",
   "metadata": {},
   "source": [
    "### Create Index (and delete existing items)"
   ]
  },
  {
   "cell_type": "code",
   "execution_count": 36,
   "id": "d26b6cb6-83a4-4317-b6ee-18eeb1a9d7e0",
   "metadata": {
    "tags": []
   },
   "outputs": [
    {
     "name": "stdout",
     "output_type": "stream",
     "text": [
      "Index imdb_hnsw_index created successfully.\n",
      "CPU times: user 2.81 s, sys: 492 ms, total: 3.3 s\n",
      "Wall time: 1min 35s\n"
     ]
    }
   ],
   "source": [
    "%%time\n",
    "# Create index in MemoryDB\n",
    "rc.ft(index_name).dropindex()\n",
    "for key in rc.scan_iter(\"movies:*\"):\n",
    "    rc.delete(key)\n",
    "create_hnsw_index(rc, index_name, vector_field_name, number_of_vectors, \n",
    "                  vector_dimensions=512, distance_metric='Cosine', M=16, EF=512, key_prefix=KEY_PREFIX)"
   ]
  },
  {
   "cell_type": "markdown",
   "id": "bc70a1ca-2a7a-4faf-9207-284b805cd6b2",
   "metadata": {},
   "source": [
    "### Load Data into MemoryDB"
   ]
  },
  {
   "cell_type": "code",
   "execution_count": 37,
   "id": "9526933e-b188-445e-97aa-6627357dbb79",
   "metadata": {
    "tags": []
   },
   "outputs": [
    {
     "name": "stdout",
     "output_type": "stream",
     "text": [
      "Data indexed successfully.\n",
      "CPU times: user 11.3 ms, sys: 7.11 ms, total: 18.4 ms\n",
      "Wall time: 25.9 ms\n"
     ]
    }
   ],
   "source": [
    "%%time\n",
    "# Load data into MemoryDB\n",
    "BATCH_SIZE = 100\n",
    "pipe = rc.pipeline()\n",
    "for index, row in df_subset.iterrows():\n",
    "    key = generate_key(prefix=KEY_PREFIX)\n",
    "    v_plot = np.array(row['v_plot'], dtype=np.float32).tobytes()\n",
    "    pipe.hset(key, mapping={\n",
    "        'directors': row['directors'],\n",
    "        'rating': row['rating'],\n",
    "        'genres': row['genres'],\n",
    "        'plot': row['plot'],\n",
    "        'title': row['title'],\n",
    "        'runtime': row['runtime'],\n",
    "        'actors': row['actors'],\n",
    "        'year': row['year'],\n",
    "        'titleType': row['titleType'],\n",
    "        'isAdult': row['isAdult'],\n",
    "        'v_plot': v_plot\n",
    "    })\n",
    "    if index % BATCH_SIZE == 0 or index == number_of_vectors - 1:\n",
    "        pipe.execute()\n",
    "        pipe = rc.pipeline()\n",
    "print(\"Data indexed successfully.\")"
   ]
  },
  {
   "cell_type": "markdown",
   "id": "2c0a9a11-3c51-4c54-8233-425d13718713",
   "metadata": {},
   "source": [
    "### Find Random Key and Fetch Value"
   ]
  },
  {
   "cell_type": "code",
   "execution_count": 38,
   "id": "e7dabd61-67c9-4c0c-a56c-aec60210af57",
   "metadata": {
    "tags": []
   },
   "outputs": [
    {
     "name": "stdout",
     "output_type": "stream",
     "text": [
      "movies:6ebce7d8-0882-43d4-8d7b-876ada1a2420\n",
      "{b'actors': b'Warner Oland, Boris Karloff, Keye Luke, Charlotte Henry, Thomas Beck, Margaret Irving, Gregory Gaye, Nedda Harrigan, Frank Conroy, Guy Usher', b'titleType': b'movie', b'title': b'Charlie Chan at the Opera', b'rating': b'7.1', b'year': b'1936.0', b'plot': b'A dangerous amnesiac escapes from an asylum, hides in the opera house, and is suspected of getting revenge on those who tried to murder him 13 years ago.', b'isAdult': b'0.0', b'runtime': b'68', b'genres': b'Mystery', b'v_plot': b' \\xf0\\x85\\xbd\\x08\\xeb0>R\\xea6=;\\xee\\x95\\xbdp\\xea\\xb5\\xbd\\xa3\\xed\\x1a=-\\xef\\r\\xbcC\\xe2\\xfa\\xbcH\\xed\\x1d=%\\xe2{=\\x11\\xe8\\xc9<\\xc1\\xed\\x99;\\xad\\xea\\xb3=-\\xef\\x8d=\\x9c\\xe9<=\\xc4\\xe6T\\xbc\\xed\\xec \\xbdC\\xe2\\xfa\\xbc\\xbd\\xe2\\xf6=\\xa3\\xed\\x9a\\xbc\\xdc\\xeb\\xa9=\\xe0\\xed\\x98<\\xed\\xec \\xbd\\xd2\\xee\\x90\\xbb\\x8e\\xea\\xb4\\xbd\\xc1\\xed\\x99<\\xe9\\xea\\xb1\\xbc\\x80\\xe2x:C\\xe2\\xfa\\xbc>\\xf0\\x84<\\x1b\\xe5\\xe2<\\xb4\\xee\\x91\\xbc7\\xec&\\xbdA\\xe9?\\xbd\\xef\\xe5\\xdb\\xbc\\xc1\\xed\\x99=\\n\\xe4\\xeb<\\x08\\xeb0=>\\xf0\\x04\\xbd,\\xe6\\xd9=&\\xeb/<\\xf9\\xe2\\xf4\\xbc\\x85\\xed\\x9b8X\\xe5`=\\x8e\\xea4=A\\xe9?=}\\xe9=\\xbcC\\xe2z=t\\xec\\xa4=\\xb3\\xe5\\xdd<Y\\xee\\x94=\\x80\\xe2x;\"\\xe9\\xc0\\xbd\\xd5\\xe7\\xcb=\\x99\\xf0\\x01\\xbc\\x1f\\xe7\\xd1=\\x87\\xe6V\\xbd\\x1b\\xe5b=\\x01\\xf0\\x06=\\xb7\\xf0\\x00\\xbd\\xfe\\xed\\x17\\xbci\\xe6\\xd7\\xbc\\x0e\\xe6Z\\xbc\\xf1\\xee\\x8f\\xbc\\x96\\xee\\x92\\xbc\\x96\\xee\\x92\\xbd\\xf1\\xee\\x8f\\xbd\\xe2\\xe6S=>\\xf0\\x04\\xbb\\xa7\\xef\\x89\\xbd\\xe6\\xe8\\xc2\\xbc\\xf1\\xee\\x0f<\\xd8\\xe9:\\xbd%\\xe2\\xfb\\xbc\\x15\\xea8\\xbd\\xd8\\xe9:\\xbdL\\xef\\x8c=i\\xe6W=\\x80\\xe2x;v\\xe5_=\\xcb\\xea2=G\\xe4i<{\\xf0\\x02==\\xe7P\\xbd\\x04\\xe9A=\\x01\\xf0\\x86\\xbd\\x80\\xe2\\xf8\\xbc\\xb0\\xec\\xa2=\\x85\\xed\\x1b\\xbd\\x0e\\xe6Z\\xbc>\\xf0\\x04\\xbd>\\xf0\\x84=\\xa2\\xe4f<N\\xe8G<\\xde\\xe4d=\\xa7\\xef\\x89\\xbdz\\xe7\\xce<\\xf9\\xe2\\xf4\\xbdY\\xee\\x94\\xbc;\\xee\\x15\\xbd_\\xe9\\xbe;=\\xe7\\xd0;J\\xe6\\xd8;\\x15\\xea\\xb8\\xbc\\x0f\\xef\\x0e=L\\xef\\x8c=L\\xef\\x8c<\\x08\\xeb\\xb0=\\x94\\xe5\\xde\\xbc\\xbd\\xe2\\xf6\\xbc\\xc0\\xe4\\xe5<\\x04\\xe9\\xc1=N\\xe8\\xc7\\xbcs\\xe3\\xf0\\xbb\\xe2\\xe6\\xd3\\xbcG\\xe4\\xe9\\xbd\\x00\\xe7R\\xbd\\x99\\xf0\\x01=\\xd5\\xe7K=\"\\xe9@\\xbct\\xec\\xa4\\xbd\\xbd\\xe2v\\xbd\\xe9\\xea1\\xbd\\x9f\\xeb\\xab<>\\xf0\\x84\\xbc}\\xe9=\\xbc\\xba\\xe9\\xbb=w\\xee\\x13\\xbd-\\xef\\x8d=\\xcf\\xec\\xa1<f\\xed\\x1c=\\x0b\\xed\\x1f<\\xe9\\xea\\xb1=\\x9f\\xeb+\\xbc\\xf1\\xee\\x0f=\\xd8\\xe9\\xba\\xbb\\xe8\\xe1\\xfd<_\\xe9\\xbe=;\\xee\\x15<&\\xeb\\xaf\\xbc\\xb0\\xec\"\\xbd\\x9c\\xe9\\xbc\\xbd\\xf7\\xe99:C\\xe2z=\\xdc\\xeb)<>\\xf0\\x84\\xbc\\xba\\xe9\\xbb:\\x9f\\xeb+\\xbb\\xb4\\xee\\x91\\xbcG\\xe4i\\xbd{\\xf0\\x82;\\xa3\\xed\\x1a<z\\xe7\\xce;*\\xed\\x9e\\xbc\\xa5\\xe6\\xd5<%\\xe2\\xfb<C\\xe2\\xfa\\xbcc\\xeb-\\xbcv\\xe5\\xdf\\xbcL\\xef\\x8c=\\xe3\\xef\\x07=&\\xeb/;\\xa3\\xed\\x9a=\\xb7\\xf0\\x80\\xbcY\\xee\\x94\\xbc\\xa5\\xe6U\\xbd\\x1f\\xe7\\xd1=c\\xeb-\\xbct\\xec$=\\xf7\\xe9\\xb9<\"\\xe9@\\xbd \\xf0\\x05=\\xbe\\xeb*\\xbd\\xb3\\xe5]\\xbc&\\xeb\\xaf<G\\xe4i=\\x94\\xe5\\xde<\\xf9\\xe2\\xf4;\\xb7\\xf0\\x00>\\x9c\\xe9\\xbc\\xbc\\\\\\xf0\\x83=\\xe9\\xea1\\xbc\\xf3\\xe7\\xca\\xbdR\\xea6\\xbdR\\xea\\xb6<\\xa9\\xe8\\xc4\\xbc\\xc1\\xed\\x99<\\x84\\xe4g\\xb8\\xa3\\xed\\x9a=\\x85\\xed\\x9b;\\xa2\\xe4\\xe6\\xbb\\xa7\\xef\\t<6\\xe3r\\xbd\\x01\\xf0\\x86\\xbd \\xf0\\x85<p\\xea\\xb5<L\\xef\\x8c\\xbc\\xac\\xe1\\xff\\xbc\\xe6\\xe8\\xc2\\xbc\\x85\\xed\\x1b\\xbd=\\xe7P;&\\xeb/\\xbc\\\\\\xf0\\x83=\\x99\\xf0\\x01\\xbd\\xf9\\xe2\\xf4\\xb9C\\xe2\\xfa\\xbce\\xe4h=L\\xef\\x8c<7\\xec&=\\x9c\\xe9<;\\x99\\xf0\\x81\\xba\\xbe\\xeb*=\\xa9\\xe8\\xc4=c\\xeb-\\xbb>\\xf0\\x84<\\xcf\\xec\\xa1<\\xd5\\xe7K=\\n\\xe4\\xeb\\xbd\\x88\\xef\\x8a\\xbd*\\xed\\x9e=J\\xe6\\xd8\\xbc\\x88\\xef\\n<\\xd8\\xe9:=\\x0f\\xef\\x0e=-\\xef\\r=\\xf9\\xe2\\xf4:l\\xe8\\xc6\\xbc7\\xec&=\\xed\\xec \\xbdD\\xeb.=\\xc4\\xe6T\\xbc\\xd2\\xee\\x10;&\\xeb\\xaf\\xbd\\xad\\xea\\xb3\\xbb\\xb4\\xee\\x11=\\x19\\xec\\'=>\\xf0\\x84\\xbb\"\\xe9\\xc0<_\\xe9>\\xbb\\x19\\xec\\'\\xbd\\x88\\xef\\x8a\\xbc\\xc4\\xe6T<A\\xe9?<\\xb7\\xf0\\x80\\xbc\\xcf\\xec!\\xbd\\xfe\\xed\\x97\\xbcs\\xe3\\xf0\\xbc\\xc0\\xe4e\\xbc\\xcf\\xec\\xa19\\\\\\xf0\\x03\\xbe\\xe8\\xe1};\\xa7\\xef\\t\\xbb\\xa3\\xed\\x9a<\\x00\\xe7R\\xbd\\x8e\\xea4\\xbd9\\xe5a\\xba\\xe2\\xe6\\xd3<\\xa7\\xef\\x89<R\\xea6;c\\xeb-\\xbdG\\xe4\\xe9\\xbc\\x99\\xf0\\x81=\\xac\\xe1\\xff\\xbbA\\xe9?<\\x01\\xf0\\x06\\xbd\\x99\\xf0\\x81\\xbc\\\\\\xf0\\x83=\\xf3\\xe7\\xca;\\x15\\xea8=\\xa7\\xef\\t=j\\xef\\x8b<X\\xe5`<\\xf1\\xee\\x8f<\\xa7\\xef\\x89=\\xc5\\xef\\x08<G\\xe4i<c\\xeb\\xad\\xbdA\\xe9\\xbf87\\xec\\xa6\\xbc\\xa7\\xef\\x89\\xbd_\\xe9>= \\xf0\\x05=\\x00\\xe7R\\xb9_\\xe9><\\xe8\\xe1}=j\\xef\\x8b\\xbcL\\xef\\x0c:\\x11\\xe8I=\\x81\\xeb,\\xbc\\xa9\\xe8\\xc4<f\\xed\\x9c\\xbd>\\xf0\\x84\\xbc\\xad\\xea3=\\xac\\xe1\\xff9\\x01\\xf0\\x06\\xbc\\xfe\\xed\\x97\\xbb\\x0b\\xed\\x9f\\xbd\\xa9\\xe8\\xc4\\xbb\\xef\\xe5[<\\x19\\xec\\'\\xbd\\x9f\\xeb+\\xbd\\xd1\\xe5\\xdc<c\\xeb-\\xbc\\xde\\xe4d\\xbc-\\xef\\x8d\\xbd\\xe3\\xef\\x07\\xbd\\xd8\\xe9:< \\xf0\\x05=\\xb4\\xee\\x91<\\x92\\xec#\\xbd\\xdc\\xeb\\xa9<j\\xef\\x8b<\\xa2\\xe4f;>\\xf0\\x84=e\\xe4h\\xbd \\xf0\\x85\\xbd\\xc0\\xe4e<{\\xf0\\x82=\\xba\\xe9;=p\\xea\\xb5=p\\xea5\\xbd\\x08\\xeb0;l\\xe8F\\xbd\\x98\\xe7M=\\xad\\xea\\xb3\\xbc\\xed\\xec\\xa0=\\x15\\xea\\xb8<t\\xec$=\\xf3\\xe7\\xca;6\\xe3\\xf2<\\xed\\xec =\\xb3\\xe5]\\xbdv\\xe5_;}\\xe9\\xbd\\xbc\\xd2\\xee\\x90\\xbc&\\xeb/\\xbd\\xba\\xe9\\xbb\\xbd}\\xe9\\xbd\\xbcD\\xeb\\xae\\xbc\\x87\\xe6\\xd6\\xb9\\xa9\\xe8\\xc4<\\xb7\\xf0\\x00=*\\xed\\x1e=c\\xeb-\\xbb\\n\\xe4k=\\x0e\\xe6Z<\\x99\\xf0\\x81\\xbd\\xac\\xe1\\x7f\\xbdH\\xed\\x9d<\\x15\\xea\\xb8\\xbc\\xe8\\xe1}\\xbbU\\xec\\xa5\\xbc\\xa3\\xed\\x1a\\xbc\\x1c\\xee\\x96\\xbb\\xc1\\xed\\x99\\xbaz\\xe7N=9\\xe5\\xe1\\xbc\\xce\\xe3m<X\\xe5`=\\xc1\\xed\\x99\\xbc\\xa3\\xed\\x9a\\xbc\\xd1\\xe5\\xdc\\xbcG\\xe4\\xe9\\xbc\\x1f\\xe7\\xd1<\\xba\\xe9\\xbb<\\x80\\xe2x=\\xfe\\xed\\x17\\xbd\\xe3\\xef\\x87\\xbd\\xe0\\xed\\x18\\xbdt\\xec\\xa4<l\\xe8F=\"\\xe9\\xc0;N\\xe8\\xc7:\\xed\\xec \\xbc-\\xef\\x8d:R\\xea6<\\xcb\\xea\\xb2\\xbb\\xde\\xe4\\xe4<\\xde\\xe4d=3\\xea\\xb7\\xbc-\\xef\\r\\xbdj\\xef\\x0b\\xbd\\x9f\\xeb\\xab\\xbc \\xf0\\x05\\xbd\\x04\\xe9A<\\xa7\\xef\\t\\xbc&\\xeb/=\\xc4\\xe6T=\\x0f\\xef\\x8e\\xbc\\xf1\\xee\\x8f\\xbd\\x1c\\xee\\x96=\\xd1\\xe5\\xdc=\\x99\\xf0\\x01=\\xce\\xe3m\\xba_\\xe9\\xbe<D\\xeb\\xae\\xbct\\xec\\xa4;7\\xec&=\\xa2\\xe4f\\xbd\\xcf\\xec!\\xbd6\\xe3\\xf2;c\\xeb-\\xbc\\\\\\xf0\\x83=j\\xef\\x8b;\\x81\\xeb\\xac;0\\xe8H\\xbc\\xa2\\xe4\\xe6<;\\xee\\x15=9\\xe5\\xe1<\\xba\\xe9;\\xbc\\xf9\\xe2\\xf4\\xbb\\xdc\\xeb)\\xbd&\\xeb\\xaf=\\xa7\\xef\\t=s\\xe3\\xf0=\\xf7\\xe9\\xb9<\\xad\\xea3=3\\xea7\\xbcj\\xef\\x8b<\\xd5\\xe7K\\xbct\\xec\\xa4\\xbd\\x80\\xe2\\xf8\\xbb\"\\xe9\\xc0\\xbc\\xef\\xe5[\\xbdN\\xe8G\\xbd3\\xea\\xb7\\xbd\\xfa\\xeb(<9\\xe5\\xe1:&\\xeb/\\xbd,\\xe6Y\\xbb\\xa3\\xed\\x1a;0\\xe8\\xc8\\xbc\\x1f\\xe7\\xd1\\xbb\\n\\xe4\\xeb\\xbc\\xe3\\xef\\x07\\xbc\\xf1\\xee\\x0f=l\\xe8F=\\xa9\\xe8\\xc4\\xbc\\xbd\\xe2v<\\xf1\\xee\\x8f\\xbcD\\xeb.\\xbd\\xa3\\xed\\x9a\\xbc\\x91\\xe3\\xef\\xbc\\x87\\xe6\\xd6<e\\xe4\\xe8<*\\xed\\x9e\\xbc\\x81\\xeb,\\xbd\\x91\\xe3\\xef<\\n\\xe4k\\xbd\\\\\\xf0\\x03\\xbb\\xf9\\xe2t=\\xe9\\xea1<\\x15\\xea8;\\xcf\\xec!:\\x88\\xef\\n\\xbd>\\xf0\\x04\\xbdt\\xec\\xa4\\xbc}\\xe9=\\xbd\\x15\\xea\\xb8\\xbc\\xac\\xe1\\xff<_\\xe9>\\xbd\\xac\\xe1\\x7f\\xbd\\n\\xe4k\\xbb\\x99\\xf0\\x01=\\xe8\\xe1\\xfd\\xbc\\xc5\\xef\\x88=G\\xe4i\\xbc\\x94\\xe5\\xde\\xbcc\\xeb\\xad=\\xd1\\xe5\\\\<\\xad\\xea\\xb3<\\xe6\\xe8B\\xbd\\xd8\\xe9\\xba\\xbc\\x0e\\xe6\\xda\\xbc\\xe9\\xea\\xb1;\\xba\\xe9;\\xbc\\xef\\xe5[<\\x08\\xeb\\xb0\\xbdA\\xe9\\xbf\\xbc>\\xf0\\x84;\\xc5\\xef\\x88\\xbdt\\xec\\xa4\\xbc\\xe8\\xe1}\\xbd\\xe2\\xe6S==\\xe7\\xd0\\xbd\\xf9\\xe2t=>\\xf0\\x04\\xbd3\\xea\\xb7\\xbd\\xc4\\xe6\\xd4<>\\xf0\\x84\\xbb&\\xeb\\xaf\\xbc>\\xf0\\x84\\xba\\x88\\xef\\x8a\\xbd\\xa9\\xe8D\\xbde\\xe4h=H\\xed\\x9d<\\xa3\\xed\\x1a\\xbd\\xb4\\xee\\x11;\\x0b\\xed\\x1f=\"\\xe9@=\\xdc\\xeb\\xa9=\\xf1\\xee\\x8f;N\\xe8\\xc7\\xbc\\xac\\xe1\\x7f\\xbdt\\xec\\xa4\\xbc\\xb7\\xf0\\x00\\xbdD\\xeb\\xae;\\xf1\\xee\\x0f\\xbd\\x15\\xea\\xb8\\xbd\\x11\\xe8I\\xbd\\xb0\\xec\\xa2\\xbc\\xc0\\xe4\\xe5<', b'directors': b'H. Bruce Humberstone'}\n",
      "CPU times: user 1.37 ms, sys: 143 µs, total: 1.52 ms\n",
      "Wall time: 8.7 ms\n"
     ]
    }
   ],
   "source": [
    "%%time\n",
    "# Add a python script to find a random key that stats with the prefix and fetch the value and show it\n",
    "count = 0\n",
    "while True:\n",
    "    count += 1\n",
    "    keyname = rc.randomkey()\n",
    "    keyname = keyname.decode('utf-8')\n",
    "    print(str(keyname))\n",
    "    if keyname.startswith(KEY_PREFIX) == True:\n",
    "        print(rc.hgetall(keyname))\n",
    "        break\n",
    "    elif count > 10:\n",
    "        break"
   ]
  },
  {
   "cell_type": "markdown",
   "id": "3916ff33-23fa-4416-b3c2-ad78611fca30",
   "metadata": {},
   "source": [
    "### Query MemoryDB"
   ]
  },
  {
   "cell_type": "markdown",
   "id": "32a80cd0-bd88-4c03-82c5-9391d62df8dc",
   "metadata": {},
   "source": [
    "#### Define Functions"
   ]
  },
  {
   "cell_type": "code",
   "execution_count": 39,
   "id": "64d12247-b8a2-462e-a09d-746d0b009718",
   "metadata": {
    "tags": []
   },
   "outputs": [],
   "source": [
    "def similarity_search(redis_client, index_name, query_vector, filters=\"*\",top_n=1):\n",
    "    # Convert the query vector to bytes\n",
    "    query_vector_bytes = np.array(query_vector, dtype=np.float32).tobytes()\n",
    "    # Create the query\n",
    "    query = Query(f\"{filters}=>[KNN {top_n} @v_plot  $query_vec AS score ]\") \\\n",
    "        .sort_by(\"score\") \\\n",
    "        .return_fields(  \"titleType\", \"title\", \"year\", \"plot\", \"rating\", \"genres\", \"runtime\") \\\n",
    "        .paging(0, top_n) \\\n",
    "        .dialect(2)\n",
    "    params = {\n",
    "        \"query_vec\": query_vector_bytes\n",
    "    }\n",
    "    # Process the query\n",
    "    result = redis_client.ft(index_name).search(query, query_params=params)\n",
    "    return result\n",
    "def format_results(results):\n",
    "    for doc in results.docs:\n",
    "        doc_id = doc.id\n",
    "        titleType = doc.titleType\n",
    "        title = doc.title\n",
    "        year = doc.year\n",
    "        rating = doc.rating\n",
    "        genres = doc.genres\n",
    "        runtime = doc.runtime\n",
    "        print(f\"ID: {doc_id}, Title Type: {titleType}, Title: {title}, Year: {year}, Rating: {rating}, Genres: {genres}, Runtime: {str(datetime.timedelta(seconds=float(runtime)))}\")"
   ]
  },
  {
   "cell_type": "markdown",
   "id": "d1d4205d-2e3c-4bd7-aaf0-e3884ebd86ab",
   "metadata": {},
   "source": [
    "#### Get Random Title from Dataset"
   ]
  },
  {
   "cell_type": "code",
   "execution_count": 40,
   "id": "46c831ae-1859-444a-88f7-fea8cd8875d2",
   "metadata": {
    "tags": []
   },
   "outputs": [
    {
     "data": {
      "text/plain": [
       "1443    History Is Made at Night\n",
       "Name: title, dtype: object"
      ]
     },
     "execution_count": 40,
     "metadata": {},
     "output_type": "execute_result"
    }
   ],
   "source": [
    "randomdf = df_subset.sample()\n",
    "randomdf.get(\"title\")"
   ]
  },
  {
   "cell_type": "code",
   "execution_count": 41,
   "id": "ebae2b12-cee5-4cee-bdf1-1e4d419fbb9a",
   "metadata": {
    "tags": []
   },
   "outputs": [
    {
     "name": "stdout",
     "output_type": "stream",
     "text": [
      "tconst                                               tt0029002\n",
      "titleType                                                movie\n",
      "title                                 History Is Made at Night\n",
      "isAdult                                                    0.0\n",
      "year                                                    1937.0\n",
      "runtime                                                     97\n",
      "genres                                    Comedy,Drama,Romance\n",
      "rating                                                     7.3\n",
      "numVotes                                                2565.0\n",
      "directors                                        Frank Borzage\n",
      "actors       Charles Boyer, Jean Arthur, Leo Carrillo, Coli...\n",
      "plot         An American woman falls in love with a romanti...\n",
      "v_plot       [-0.10615807, 0.0035840196, -0.06018783, -0.08...\n",
      "Name: 1443, dtype: object\n"
     ]
    }
   ],
   "source": [
    "selected_row = randomdf.iloc[0]\n",
    "print(selected_row)\n",
    "query_vector = selected_row['v_plot']"
   ]
  },
  {
   "cell_type": "markdown",
   "id": "0a3b6123-2996-4958-9c2f-2ee6b99e2362",
   "metadata": {},
   "source": [
    "#### Do Simple Similarity Search"
   ]
  },
  {
   "cell_type": "code",
   "execution_count": 42,
   "id": "52911c52-e4de-4d3b-8202-f459516e11fa",
   "metadata": {
    "tags": []
   },
   "outputs": [
    {
     "name": "stdout",
     "output_type": "stream",
     "text": [
      "CPU times: user 1.26 ms, sys: 131 µs, total: 1.39 ms\n",
      "Wall time: 1.99 ms\n"
     ]
    }
   ],
   "source": [
    "%%time\n",
    "results = similarity_search(rc, index_name, query_vector, top_n=15)"
   ]
  },
  {
   "cell_type": "code",
   "execution_count": 43,
   "id": "9df6f452-2190-4501-86c9-f016ff828102",
   "metadata": {
    "tags": []
   },
   "outputs": [
    {
     "name": "stdout",
     "output_type": "stream",
     "text": [
      "ID: movies:cd6bcb0d-a60b-4efa-ad11-895ae63f7af4, Title Type: movie, Title: History Is Made at Night, Year: 1937, Rating: 7.3, Genres: Comedy,Drama,Romance, Runtime: 0:01:37\n",
      "ID: movies:89e1ccd2-5f3a-4e95-97e2-24fc1624a985, Title Type: movie, Title: Angel, Year: 1937, Rating: 7.2, Genres: Comedy,Drama,Romance, Runtime: 0:01:31\n",
      "ID: movies:74d27feb-b1d4-4d90-a121-b0aea163050e, Title Type: movie, Title: Camille, Year: 1936, Rating: 7.3, Genres: Drama,Romance, Runtime: 0:01:49\n",
      "ID: movies:46f4ff91-c88a-4f4f-9d0b-19f7c7487a4c, Title Type: movie, Title: Double Wedding, Year: 1937, Rating: 6.9, Genres: Comedy,Romance, Runtime: 0:01:27\n",
      "ID: movies:d420fd5a-7b20-4554-aa58-4c0eb1333a51, Title Type: movie, Title: Desire, Year: 1936, Rating: 7.1, Genres: Comedy,Crime,Romance, Runtime: 0:01:35\n",
      "ID: movies:eb334af3-8b38-4c82-bbae-cbc1d767af1f, Title Type: movie, Title: Marked Woman, Year: 1937, Rating: 7.1, Genres: Crime,Film-Noir,Thriller, Runtime: 0:01:36\n",
      "ID: movies:b4af7f8e-222f-4cb5-bc88-52427bc781fb, Title Type: movie, Title: It's Love I'm After, Year: 1937, Rating: 7.4, Genres: Comedy, Runtime: 0:01:30\n",
      "ID: movies:c51608e3-ea2a-4c08-a907-f1f3b8caf1a9, Title Type: movie, Title: The Grand Illusion, Year: 1937, Rating: 8.1, Genres: Drama,War, Runtime: 0:01:53\n",
      "ID: movies:139b3139-4772-4a30-9638-0e6102dd5d6b, Title Type: movie, Title: The Petrified Forest, Year: 1936, Rating: 7.5, Genres: Drama,Thriller, Runtime: 0:01:22\n",
      "ID: movies:856cf1a8-fc27-422b-a127-9abbe4752a34, Title Type: movie, Title: Dracula's Daughter, Year: 1936, Rating: 6.3, Genres: Drama,Fantasy,Horror, Runtime: 0:01:11\n",
      "ID: movies:c20c78e1-e9af-4bb1-81a6-069891b021c7, Title Type: movie, Title: Osaka Elegy, Year: 1936, Rating: 7.2, Genres: Comedy,Drama, Runtime: 0:01:30\n",
      "ID: movies:2425a759-e380-42a4-829f-cc5b3957eb6d, Title Type: movie, Title: Humanity and Paper Balloons, Year: 1937, Rating: 7.6, Genres: Drama, Runtime: 0:01:26\n",
      "ID: movies:6ebce7d8-0882-43d4-8d7b-876ada1a2420, Title Type: movie, Title: Charlie Chan at the Opera, Year: 1936, Rating: 7.1, Genres: Mystery, Runtime: 0:01:08\n",
      "ID: movies:f2bb1a71-5b93-4369-91d6-2740d2b4a9e0, Title Type: movie, Title: Come and Get It, Year: 1936, Rating: 6.9, Genres: Drama,Romance, Runtime: 0:01:39\n",
      "ID: movies:1c449768-0c1e-4e35-9335-2e0321f9382e, Title Type: movie, Title: Captains Courageous, Year: 1937, Rating: 7.9, Genres: Adventure,Drama,Family, Runtime: 0:01:57\n"
     ]
    }
   ],
   "source": [
    "format_results(results)"
   ]
  },
  {
   "cell_type": "markdown",
   "id": "7b0e256d-1045-4ad7-950a-278c7ae1d79c",
   "metadata": {
    "tags": []
   },
   "source": [
    "#### Do Similarity Search with Filters"
   ]
  },
  {
   "cell_type": "code",
   "execution_count": 44,
   "id": "682c6921-d341-4c7e-be4f-15fe8114671f",
   "metadata": {
    "tags": []
   },
   "outputs": [
    {
     "name": "stdout",
     "output_type": "stream",
     "text": [
      "CPU times: user 744 µs, sys: 77 µs, total: 821 µs\n",
      "Wall time: 2.01 ms\n"
     ]
    }
   ],
   "source": [
    "%%time\n",
    "filters = \"@titleType:{movie} @year:[2010 2020] @rating:[6 (INF] (@genres:{Horror} | @genres:{Animation} | @genres:{Action}| @genres:{Drama}) \"\n",
    "results = similarity_search(rc, index_name, query_vector, filters=filters, top_n=15)"
   ]
  },
  {
   "cell_type": "code",
   "execution_count": 45,
   "id": "8491ee63-c016-4825-b26e-eb885092c25e",
   "metadata": {
    "tags": []
   },
   "outputs": [],
   "source": [
    "format_results(results)"
   ]
  },
  {
   "cell_type": "markdown",
   "id": "fcb61534-33b5-460a-9968-6123c18a04ff",
   "metadata": {},
   "source": [
    "## Save Dataset"
   ]
  },
  {
   "cell_type": "code",
   "execution_count": 46,
   "id": "45685b2e-7143-4a09-9dd8-81c705cb4108",
   "metadata": {
    "tags": []
   },
   "outputs": [],
   "source": [
    "pickle.dump(df_subset, open(f\"{dataset_path}/title.subset.sav\",\"wb\"))"
   ]
  },
  {
   "cell_type": "code",
   "execution_count": null,
   "id": "713b748b-ce4c-412d-a3f7-2f35c0d47207",
   "metadata": {},
   "outputs": [],
   "source": []
  }
 ],
 "metadata": {
  "kernelspec": {
   "display_name": "conda_python3",
   "language": "python",
   "name": "conda_python3"
  },
  "language_info": {
   "codemirror_mode": {
    "name": "ipython",
    "version": 3
   },
   "file_extension": ".py",
   "mimetype": "text/x-python",
   "name": "python",
   "nbconvert_exporter": "python",
   "pygments_lexer": "ipython3",
   "version": "3.10.14"
  }
 },
 "nbformat": 4,
 "nbformat_minor": 5
}
